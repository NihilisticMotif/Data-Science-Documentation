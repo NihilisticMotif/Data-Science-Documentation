{
  "nbformat": 4,
  "nbformat_minor": 0,
  "metadata": {
    "colab": {
      "provenance": [],
      "collapsed_sections": [
        "tYK8Be5gNQzr"
      ],
      "authorship_tag": "ABX9TyPDx1eV662cC8EK3vOJxEVI",
      "include_colab_link": true
    },
    "kernelspec": {
      "name": "python3",
      "display_name": "Python 3"
    },
    "language_info": {
      "name": "python"
    }
  },
  "cells": [
    {
      "cell_type": "markdown",
      "metadata": {
        "id": "view-in-github",
        "colab_type": "text"
      },
      "source": [
        "<a href=\"https://colab.research.google.com/github/NihilisticMotif/Data-Science-Documentation/blob/main/Data-Science-Documentation/Project/ReverseEngineer_DataScience_Project/KaggleProject01_BostonHousing_by_TOLGAHANCEPEL.ipynb\" target=\"_parent\"><img src=\"https://colab.research.google.com/assets/colab-badge.svg\" alt=\"Open In Colab\"/></a>"
      ]
    },
    {
      "cell_type": "markdown",
      "source": [
        "**To Do Now:**\n",
        "1. Train Linear Regression with training and testing data\n",
        "2. Implementing Polynomial Regression\n",
        "3. Explain how `df.corr` work?\n",
        "4. Explain the goal of this project (https://www.kaggle.com/code/tolgahancepel/boston-housing-regression-analysis/notebook) \n",
        "5. Explain about this (https://www.kaggle.com/code/alexisbcook/cross-validation)\n",
        "6. Improve Linear Regression tutorial."
      ],
      "metadata": {
        "id": "oCnegfgGft_L"
      }
    },
    {
      "cell_type": "markdown",
      "source": [
        "###Note: \n",
        "\n",
        "This project is based on this project (https://www.kaggle.com/code/tolgahancepel/boston-housing-regression-analysis/notebook). The purpose of this project is to learn machine learning based on other people's data science project."
      ],
      "metadata": {
        "id": "b_9A_p-6t3R3"
      }
    },
    {
      "cell_type": "code",
      "source": [
        "from google.colab import drive\n",
        "drive.mount('/content/drive')"
      ],
      "metadata": {
        "id": "4qFcHERrhkkA"
      },
      "execution_count": null,
      "outputs": []
    },
    {
      "cell_type": "markdown",
      "source": [
        "#Step 1, Import data and library\n",
        "\n",
        "**Note:** In this project, I will only use those libraries, in order to practice machine learning skill.\n",
        "* `from google.colab import drive`\n",
        "* `import math`\n",
        "* `import pandas as pd`\n",
        "* `import numpy as np`\n",
        "* `import matplotlib.pyplot as plt`"
      ],
      "metadata": {
        "id": "tYK8Be5gNQzr"
      }
    },
    {
      "cell_type": "markdown",
      "source": [
        "**About Dataset:**\n",
        "\n",
        "Concerns housing values in suburbs of Boston. (a city in Northeastern United States)\n",
        "\n",
        "**Note**\n",
        "* Number of Instances: 506\n",
        "* Number of Attributes: 13 continuous attributes (including \"class\"\n",
        "attribute \"MEDV\"), 1 binary-valued attribute.\n",
        "* Missing Attribute Values: None.\n",
        "\n",
        "**Attribute Information:**\n",
        "* `df.columns[0]=` CRIM = crime rate by town\n",
        "* `df.columns[1]=` ZN = proportion of residential land zoned for lots over\n",
        "25,000 sq.ft.\n",
        "* `df.columns[2]=` INDUS = proportion of non-retail business acres per town\n",
        "* `df.columns[3]=` CHAS = Charles River dummy variable (= 1 if tract bounds\n",
        "river; 0 otherwise)\n",
        "* `df.columns[4]=` NOX = nitric oxides concentration (parts per 10 million)\n",
        "* `df.columns[5]=` RM = average number of rooms per dwelling\n",
        "* `df.columns[6]=` AGE = proportion of owner-occupied units built prior to 1940\n",
        "* `df.columns[7]=` DIS = weighted distances to five Boston employment centres\n",
        "* `df.columns[8]=` RAD = index of accessibility to radial highways\n",
        "* `df.columns[9]=` TAX = full-value property-tax rate per \\$10,000\n",
        "* `df.columns[10]=` PTRATIO = pupil-teacher ratio by town\n",
        "* `df.columns[11]=` B = $1000(B_k - 0.63)^2$ where $B_k$ is the proportion of blacks\n",
        "by town\n",
        "* `df.columns[12]=` LSTAT = % lower status of the population\n",
        "* `df.columns[13]=` MEDV = Median value of owner-occupied homes in \\$1000's\n",
        "\n",
        "**Keyword**\n",
        "* residential (ADJ) = designed for people to live in.\n",
        "* non-retail business (N) = a business, including an office, warehouse, or other space that does not sell or provide goods or services directly to the ultimate consumer or user.\n",
        "* tract bounds = the boundaries or limits of a tract of land especially as described by reference to lines and distances between points on the land.\n",
        "* tract (N) = an area of indefinite extent, typically a large one.\n",
        "* dummy variable (N) = a variable that takes the values 0 or 1 to indicate the absence or presence of some categorical effect\n",
        "* dwelling (N) = a house, apartment, or other place of residence.\n",
        "* prior (ADJ) = existing or coming before in time, order, or importance.\n",
        "* occupied (ADJ) = (of a building, seat, etc.) being used by someone.\n",
        "* The weighted arithmetic mean is similar to an ordinary arithmetic mean (the most common type of average), except that instead of each of the data points contributing equally to the final average, some data points contribute more than others. (https://en.wikipedia.org/wiki/Weighted_arithmetic_mean)\n",
        "* weighted distances = The distance-weighted mean is *a measure of central tendency*, a special case of weighted mean, where weighting coefficient for each data point is computed as the inverse sum of distances between this data point and the other data points[1]. Thus, central observations in a dataset get the highest weights, while values in the tails of a distribution are downweighted. *In other words, data points close to other data points carry more weight than isolated datapoints.* (https://encyclopediaofmath.org/wiki/Distance-weighted_mean)\n",
        "* Radial highway = a highway leading to or from an urban center.\n",
        "* pupil = a student in school.\n",
        "* Median (ADJ) = denoting or relating to a value or quantity lying at the midpoint of a frequency distribution of observed values or quantities\n",
        "\n",
        "Source of the data set: https://www.kaggle.com/datasets/arslanali4343/real-estate-dataset"
      ],
      "metadata": {
        "id": "vUFqUfOCNP8t"
      }
    },
    {
      "cell_type": "code",
      "source": [
        "from google.colab import drive\n",
        "\n",
        "import math\n",
        "import pandas as pd\n",
        "import numpy as np\n",
        "import matplotlib.pyplot as plt\n",
        "\n",
        "drive.mount('/content/drive')\n",
        "\n",
        "path='/content/drive/MyDrive/Data-Science-Documentation/DataSet/K_RealEstate01_ArslanAli.csv'\n",
        "\n",
        "df = pd.read_csv(path)\n",
        "df.astype(float)"
      ],
      "metadata": {
        "colab": {
          "base_uri": "https://localhost:8080/",
          "height": 0
        },
        "id": "G-q5Wk3oLqae",
        "outputId": "6cbd7845-85c1-4016-fe49-a1f18fcc4a2a"
      },
      "execution_count": 42,
      "outputs": [
        {
          "output_type": "stream",
          "name": "stdout",
          "text": [
            "Drive already mounted at /content/drive; to attempt to forcibly remount, call drive.mount(\"/content/drive\", force_remount=True).\n"
          ]
        },
        {
          "output_type": "execute_result",
          "data": {
            "text/plain": [
              "        CRIM    ZN  INDUS  CHAS    NOX     RM   AGE     DIS  RAD    TAX  \\\n",
              "0    0.00632  18.0   2.31   0.0  0.538  6.575  65.2  4.0900  1.0  296.0   \n",
              "1    0.02731   0.0   7.07   0.0  0.469  6.421  78.9  4.9671  2.0  242.0   \n",
              "2    0.02729   0.0   7.07   0.0  0.469  7.185  61.1  4.9671  2.0  242.0   \n",
              "3    0.03237   0.0   2.18   0.0  0.458  6.998  45.8  6.0622  3.0  222.0   \n",
              "4    0.06905   0.0   2.18   0.0  0.458  7.147  54.2  6.0622  3.0  222.0   \n",
              "..       ...   ...    ...   ...    ...    ...   ...     ...  ...    ...   \n",
              "506  0.98765   0.0  12.50   0.0  0.561  6.980  89.0  2.0980  3.0  320.0   \n",
              "507  0.23456   0.0  12.50   0.0  0.561  6.980  76.0  2.6540  3.0  320.0   \n",
              "508  0.44433   0.0  12.50   0.0  0.561  6.123  98.0  2.9870  3.0  320.0   \n",
              "509  0.77763   0.0  12.70   0.0  0.561  6.222  34.0  2.5430  3.0  329.0   \n",
              "510  0.65432   0.0  12.80   0.0  0.561  6.760  67.0  2.9870  3.0  345.0   \n",
              "\n",
              "     PTRATIO       B  LSTAT  MEDV  \n",
              "0       15.3  396.90   4.98  24.0  \n",
              "1       17.8  396.90   9.14  21.6  \n",
              "2       17.8  392.83   4.03  34.7  \n",
              "3       18.7  394.63   2.94  33.4  \n",
              "4       18.7  396.90   5.33  36.2  \n",
              "..       ...     ...    ...   ...  \n",
              "506     23.0  396.00  12.00  12.0  \n",
              "507     23.0  343.00  25.00  32.0  \n",
              "508     23.0  343.00  21.00  54.0  \n",
              "509     23.0  343.00  76.00  67.0  \n",
              "510     23.0  321.00  45.00  24.0  \n",
              "\n",
              "[511 rows x 14 columns]"
            ],
            "text/html": [
              "\n",
              "  <div id=\"df-a49499ef-a228-4e36-a501-9d2bf3fc181e\">\n",
              "    <div class=\"colab-df-container\">\n",
              "      <div>\n",
              "<style scoped>\n",
              "    .dataframe tbody tr th:only-of-type {\n",
              "        vertical-align: middle;\n",
              "    }\n",
              "\n",
              "    .dataframe tbody tr th {\n",
              "        vertical-align: top;\n",
              "    }\n",
              "\n",
              "    .dataframe thead th {\n",
              "        text-align: right;\n",
              "    }\n",
              "</style>\n",
              "<table border=\"1\" class=\"dataframe\">\n",
              "  <thead>\n",
              "    <tr style=\"text-align: right;\">\n",
              "      <th></th>\n",
              "      <th>CRIM</th>\n",
              "      <th>ZN</th>\n",
              "      <th>INDUS</th>\n",
              "      <th>CHAS</th>\n",
              "      <th>NOX</th>\n",
              "      <th>RM</th>\n",
              "      <th>AGE</th>\n",
              "      <th>DIS</th>\n",
              "      <th>RAD</th>\n",
              "      <th>TAX</th>\n",
              "      <th>PTRATIO</th>\n",
              "      <th>B</th>\n",
              "      <th>LSTAT</th>\n",
              "      <th>MEDV</th>\n",
              "    </tr>\n",
              "  </thead>\n",
              "  <tbody>\n",
              "    <tr>\n",
              "      <th>0</th>\n",
              "      <td>0.00632</td>\n",
              "      <td>18.0</td>\n",
              "      <td>2.31</td>\n",
              "      <td>0.0</td>\n",
              "      <td>0.538</td>\n",
              "      <td>6.575</td>\n",
              "      <td>65.2</td>\n",
              "      <td>4.0900</td>\n",
              "      <td>1.0</td>\n",
              "      <td>296.0</td>\n",
              "      <td>15.3</td>\n",
              "      <td>396.90</td>\n",
              "      <td>4.98</td>\n",
              "      <td>24.0</td>\n",
              "    </tr>\n",
              "    <tr>\n",
              "      <th>1</th>\n",
              "      <td>0.02731</td>\n",
              "      <td>0.0</td>\n",
              "      <td>7.07</td>\n",
              "      <td>0.0</td>\n",
              "      <td>0.469</td>\n",
              "      <td>6.421</td>\n",
              "      <td>78.9</td>\n",
              "      <td>4.9671</td>\n",
              "      <td>2.0</td>\n",
              "      <td>242.0</td>\n",
              "      <td>17.8</td>\n",
              "      <td>396.90</td>\n",
              "      <td>9.14</td>\n",
              "      <td>21.6</td>\n",
              "    </tr>\n",
              "    <tr>\n",
              "      <th>2</th>\n",
              "      <td>0.02729</td>\n",
              "      <td>0.0</td>\n",
              "      <td>7.07</td>\n",
              "      <td>0.0</td>\n",
              "      <td>0.469</td>\n",
              "      <td>7.185</td>\n",
              "      <td>61.1</td>\n",
              "      <td>4.9671</td>\n",
              "      <td>2.0</td>\n",
              "      <td>242.0</td>\n",
              "      <td>17.8</td>\n",
              "      <td>392.83</td>\n",
              "      <td>4.03</td>\n",
              "      <td>34.7</td>\n",
              "    </tr>\n",
              "    <tr>\n",
              "      <th>3</th>\n",
              "      <td>0.03237</td>\n",
              "      <td>0.0</td>\n",
              "      <td>2.18</td>\n",
              "      <td>0.0</td>\n",
              "      <td>0.458</td>\n",
              "      <td>6.998</td>\n",
              "      <td>45.8</td>\n",
              "      <td>6.0622</td>\n",
              "      <td>3.0</td>\n",
              "      <td>222.0</td>\n",
              "      <td>18.7</td>\n",
              "      <td>394.63</td>\n",
              "      <td>2.94</td>\n",
              "      <td>33.4</td>\n",
              "    </tr>\n",
              "    <tr>\n",
              "      <th>4</th>\n",
              "      <td>0.06905</td>\n",
              "      <td>0.0</td>\n",
              "      <td>2.18</td>\n",
              "      <td>0.0</td>\n",
              "      <td>0.458</td>\n",
              "      <td>7.147</td>\n",
              "      <td>54.2</td>\n",
              "      <td>6.0622</td>\n",
              "      <td>3.0</td>\n",
              "      <td>222.0</td>\n",
              "      <td>18.7</td>\n",
              "      <td>396.90</td>\n",
              "      <td>5.33</td>\n",
              "      <td>36.2</td>\n",
              "    </tr>\n",
              "    <tr>\n",
              "      <th>...</th>\n",
              "      <td>...</td>\n",
              "      <td>...</td>\n",
              "      <td>...</td>\n",
              "      <td>...</td>\n",
              "      <td>...</td>\n",
              "      <td>...</td>\n",
              "      <td>...</td>\n",
              "      <td>...</td>\n",
              "      <td>...</td>\n",
              "      <td>...</td>\n",
              "      <td>...</td>\n",
              "      <td>...</td>\n",
              "      <td>...</td>\n",
              "      <td>...</td>\n",
              "    </tr>\n",
              "    <tr>\n",
              "      <th>506</th>\n",
              "      <td>0.98765</td>\n",
              "      <td>0.0</td>\n",
              "      <td>12.50</td>\n",
              "      <td>0.0</td>\n",
              "      <td>0.561</td>\n",
              "      <td>6.980</td>\n",
              "      <td>89.0</td>\n",
              "      <td>2.0980</td>\n",
              "      <td>3.0</td>\n",
              "      <td>320.0</td>\n",
              "      <td>23.0</td>\n",
              "      <td>396.00</td>\n",
              "      <td>12.00</td>\n",
              "      <td>12.0</td>\n",
              "    </tr>\n",
              "    <tr>\n",
              "      <th>507</th>\n",
              "      <td>0.23456</td>\n",
              "      <td>0.0</td>\n",
              "      <td>12.50</td>\n",
              "      <td>0.0</td>\n",
              "      <td>0.561</td>\n",
              "      <td>6.980</td>\n",
              "      <td>76.0</td>\n",
              "      <td>2.6540</td>\n",
              "      <td>3.0</td>\n",
              "      <td>320.0</td>\n",
              "      <td>23.0</td>\n",
              "      <td>343.00</td>\n",
              "      <td>25.00</td>\n",
              "      <td>32.0</td>\n",
              "    </tr>\n",
              "    <tr>\n",
              "      <th>508</th>\n",
              "      <td>0.44433</td>\n",
              "      <td>0.0</td>\n",
              "      <td>12.50</td>\n",
              "      <td>0.0</td>\n",
              "      <td>0.561</td>\n",
              "      <td>6.123</td>\n",
              "      <td>98.0</td>\n",
              "      <td>2.9870</td>\n",
              "      <td>3.0</td>\n",
              "      <td>320.0</td>\n",
              "      <td>23.0</td>\n",
              "      <td>343.00</td>\n",
              "      <td>21.00</td>\n",
              "      <td>54.0</td>\n",
              "    </tr>\n",
              "    <tr>\n",
              "      <th>509</th>\n",
              "      <td>0.77763</td>\n",
              "      <td>0.0</td>\n",
              "      <td>12.70</td>\n",
              "      <td>0.0</td>\n",
              "      <td>0.561</td>\n",
              "      <td>6.222</td>\n",
              "      <td>34.0</td>\n",
              "      <td>2.5430</td>\n",
              "      <td>3.0</td>\n",
              "      <td>329.0</td>\n",
              "      <td>23.0</td>\n",
              "      <td>343.00</td>\n",
              "      <td>76.00</td>\n",
              "      <td>67.0</td>\n",
              "    </tr>\n",
              "    <tr>\n",
              "      <th>510</th>\n",
              "      <td>0.65432</td>\n",
              "      <td>0.0</td>\n",
              "      <td>12.80</td>\n",
              "      <td>0.0</td>\n",
              "      <td>0.561</td>\n",
              "      <td>6.760</td>\n",
              "      <td>67.0</td>\n",
              "      <td>2.9870</td>\n",
              "      <td>3.0</td>\n",
              "      <td>345.0</td>\n",
              "      <td>23.0</td>\n",
              "      <td>321.00</td>\n",
              "      <td>45.00</td>\n",
              "      <td>24.0</td>\n",
              "    </tr>\n",
              "  </tbody>\n",
              "</table>\n",
              "<p>511 rows × 14 columns</p>\n",
              "</div>\n",
              "      <button class=\"colab-df-convert\" onclick=\"convertToInteractive('df-a49499ef-a228-4e36-a501-9d2bf3fc181e')\"\n",
              "              title=\"Convert this dataframe to an interactive table.\"\n",
              "              style=\"display:none;\">\n",
              "        \n",
              "  <svg xmlns=\"http://www.w3.org/2000/svg\" height=\"24px\"viewBox=\"0 0 24 24\"\n",
              "       width=\"24px\">\n",
              "    <path d=\"M0 0h24v24H0V0z\" fill=\"none\"/>\n",
              "    <path d=\"M18.56 5.44l.94 2.06.94-2.06 2.06-.94-2.06-.94-.94-2.06-.94 2.06-2.06.94zm-11 1L8.5 8.5l.94-2.06 2.06-.94-2.06-.94L8.5 2.5l-.94 2.06-2.06.94zm10 10l.94 2.06.94-2.06 2.06-.94-2.06-.94-.94-2.06-.94 2.06-2.06.94z\"/><path d=\"M17.41 7.96l-1.37-1.37c-.4-.4-.92-.59-1.43-.59-.52 0-1.04.2-1.43.59L10.3 9.45l-7.72 7.72c-.78.78-.78 2.05 0 2.83L4 21.41c.39.39.9.59 1.41.59.51 0 1.02-.2 1.41-.59l7.78-7.78 2.81-2.81c.8-.78.8-2.07 0-2.86zM5.41 20L4 18.59l7.72-7.72 1.47 1.35L5.41 20z\"/>\n",
              "  </svg>\n",
              "      </button>\n",
              "      \n",
              "  <style>\n",
              "    .colab-df-container {\n",
              "      display:flex;\n",
              "      flex-wrap:wrap;\n",
              "      gap: 12px;\n",
              "    }\n",
              "\n",
              "    .colab-df-convert {\n",
              "      background-color: #E8F0FE;\n",
              "      border: none;\n",
              "      border-radius: 50%;\n",
              "      cursor: pointer;\n",
              "      display: none;\n",
              "      fill: #1967D2;\n",
              "      height: 32px;\n",
              "      padding: 0 0 0 0;\n",
              "      width: 32px;\n",
              "    }\n",
              "\n",
              "    .colab-df-convert:hover {\n",
              "      background-color: #E2EBFA;\n",
              "      box-shadow: 0px 1px 2px rgba(60, 64, 67, 0.3), 0px 1px 3px 1px rgba(60, 64, 67, 0.15);\n",
              "      fill: #174EA6;\n",
              "    }\n",
              "\n",
              "    [theme=dark] .colab-df-convert {\n",
              "      background-color: #3B4455;\n",
              "      fill: #D2E3FC;\n",
              "    }\n",
              "\n",
              "    [theme=dark] .colab-df-convert:hover {\n",
              "      background-color: #434B5C;\n",
              "      box-shadow: 0px 1px 3px 1px rgba(0, 0, 0, 0.15);\n",
              "      filter: drop-shadow(0px 1px 2px rgba(0, 0, 0, 0.3));\n",
              "      fill: #FFFFFF;\n",
              "    }\n",
              "  </style>\n",
              "\n",
              "      <script>\n",
              "        const buttonEl =\n",
              "          document.querySelector('#df-a49499ef-a228-4e36-a501-9d2bf3fc181e button.colab-df-convert');\n",
              "        buttonEl.style.display =\n",
              "          google.colab.kernel.accessAllowed ? 'block' : 'none';\n",
              "\n",
              "        async function convertToInteractive(key) {\n",
              "          const element = document.querySelector('#df-a49499ef-a228-4e36-a501-9d2bf3fc181e');\n",
              "          const dataTable =\n",
              "            await google.colab.kernel.invokeFunction('convertToInteractive',\n",
              "                                                     [key], {});\n",
              "          if (!dataTable) return;\n",
              "\n",
              "          const docLinkHtml = 'Like what you see? Visit the ' +\n",
              "            '<a target=\"_blank\" href=https://colab.research.google.com/notebooks/data_table.ipynb>data table notebook</a>'\n",
              "            + ' to learn more about interactive tables.';\n",
              "          element.innerHTML = '';\n",
              "          dataTable['output_type'] = 'display_data';\n",
              "          await google.colab.output.renderOutput(dataTable, element);\n",
              "          const docLink = document.createElement('div');\n",
              "          docLink.innerHTML = docLinkHtml;\n",
              "          element.appendChild(docLink);\n",
              "        }\n",
              "      </script>\n",
              "    </div>\n",
              "  </div>\n",
              "  "
            ]
          },
          "metadata": {},
          "execution_count": 42
        }
      ]
    },
    {
      "cell_type": "markdown",
      "source": [
        "#Step 2, Visualize the data"
      ],
      "metadata": {
        "id": "SEq2b_9MxsrY"
      }
    },
    {
      "cell_type": "markdown",
      "source": [
        "###Step 2.1 Visualize Standard Deriation of the data."
      ],
      "metadata": {
        "id": "Cqctf5yB4dMi"
      }
    },
    {
      "cell_type": "markdown",
      "source": [
        "**(1.) Plot and view the data**"
      ],
      "metadata": {
        "id": "EyaCubCbx7t7"
      }
    },
    {
      "cell_type": "code",
      "source": [
        "df.head()"
      ],
      "metadata": {
        "colab": {
          "base_uri": "https://localhost:8080/",
          "height": 206
        },
        "id": "YnpSi-JvMe22",
        "outputId": "123ed65b-7655-4722-ad24-f45fccbcde61"
      },
      "execution_count": null,
      "outputs": [
        {
          "output_type": "execute_result",
          "data": {
            "text/plain": [
              "      CRIM    ZN  INDUS  CHAS    NOX     RM   AGE     DIS  RAD  TAX  PTRATIO  \\\n",
              "0  0.00632  18.0   2.31     0  0.538  6.575  65.2  4.0900    1  296     15.3   \n",
              "1  0.02731   0.0   7.07     0  0.469  6.421  78.9  4.9671    2  242     17.8   \n",
              "2  0.02729   0.0   7.07     0  0.469  7.185  61.1  4.9671    2  242     17.8   \n",
              "3  0.03237   0.0   2.18     0  0.458  6.998  45.8  6.0622    3  222     18.7   \n",
              "4  0.06905   0.0   2.18     0  0.458  7.147  54.2  6.0622    3  222     18.7   \n",
              "\n",
              "        B  LSTAT  MEDV  \n",
              "0  396.90   4.98  24.0  \n",
              "1  396.90   9.14  21.6  \n",
              "2  392.83   4.03  34.7  \n",
              "3  394.63   2.94  33.4  \n",
              "4  396.90   5.33  36.2  "
            ],
            "text/html": [
              "\n",
              "  <div id=\"df-38b81520-0df5-411d-a64a-c9bc94f50268\">\n",
              "    <div class=\"colab-df-container\">\n",
              "      <div>\n",
              "<style scoped>\n",
              "    .dataframe tbody tr th:only-of-type {\n",
              "        vertical-align: middle;\n",
              "    }\n",
              "\n",
              "    .dataframe tbody tr th {\n",
              "        vertical-align: top;\n",
              "    }\n",
              "\n",
              "    .dataframe thead th {\n",
              "        text-align: right;\n",
              "    }\n",
              "</style>\n",
              "<table border=\"1\" class=\"dataframe\">\n",
              "  <thead>\n",
              "    <tr style=\"text-align: right;\">\n",
              "      <th></th>\n",
              "      <th>CRIM</th>\n",
              "      <th>ZN</th>\n",
              "      <th>INDUS</th>\n",
              "      <th>CHAS</th>\n",
              "      <th>NOX</th>\n",
              "      <th>RM</th>\n",
              "      <th>AGE</th>\n",
              "      <th>DIS</th>\n",
              "      <th>RAD</th>\n",
              "      <th>TAX</th>\n",
              "      <th>PTRATIO</th>\n",
              "      <th>B</th>\n",
              "      <th>LSTAT</th>\n",
              "      <th>MEDV</th>\n",
              "    </tr>\n",
              "  </thead>\n",
              "  <tbody>\n",
              "    <tr>\n",
              "      <th>0</th>\n",
              "      <td>0.00632</td>\n",
              "      <td>18.0</td>\n",
              "      <td>2.31</td>\n",
              "      <td>0</td>\n",
              "      <td>0.538</td>\n",
              "      <td>6.575</td>\n",
              "      <td>65.2</td>\n",
              "      <td>4.0900</td>\n",
              "      <td>1</td>\n",
              "      <td>296</td>\n",
              "      <td>15.3</td>\n",
              "      <td>396.90</td>\n",
              "      <td>4.98</td>\n",
              "      <td>24.0</td>\n",
              "    </tr>\n",
              "    <tr>\n",
              "      <th>1</th>\n",
              "      <td>0.02731</td>\n",
              "      <td>0.0</td>\n",
              "      <td>7.07</td>\n",
              "      <td>0</td>\n",
              "      <td>0.469</td>\n",
              "      <td>6.421</td>\n",
              "      <td>78.9</td>\n",
              "      <td>4.9671</td>\n",
              "      <td>2</td>\n",
              "      <td>242</td>\n",
              "      <td>17.8</td>\n",
              "      <td>396.90</td>\n",
              "      <td>9.14</td>\n",
              "      <td>21.6</td>\n",
              "    </tr>\n",
              "    <tr>\n",
              "      <th>2</th>\n",
              "      <td>0.02729</td>\n",
              "      <td>0.0</td>\n",
              "      <td>7.07</td>\n",
              "      <td>0</td>\n",
              "      <td>0.469</td>\n",
              "      <td>7.185</td>\n",
              "      <td>61.1</td>\n",
              "      <td>4.9671</td>\n",
              "      <td>2</td>\n",
              "      <td>242</td>\n",
              "      <td>17.8</td>\n",
              "      <td>392.83</td>\n",
              "      <td>4.03</td>\n",
              "      <td>34.7</td>\n",
              "    </tr>\n",
              "    <tr>\n",
              "      <th>3</th>\n",
              "      <td>0.03237</td>\n",
              "      <td>0.0</td>\n",
              "      <td>2.18</td>\n",
              "      <td>0</td>\n",
              "      <td>0.458</td>\n",
              "      <td>6.998</td>\n",
              "      <td>45.8</td>\n",
              "      <td>6.0622</td>\n",
              "      <td>3</td>\n",
              "      <td>222</td>\n",
              "      <td>18.7</td>\n",
              "      <td>394.63</td>\n",
              "      <td>2.94</td>\n",
              "      <td>33.4</td>\n",
              "    </tr>\n",
              "    <tr>\n",
              "      <th>4</th>\n",
              "      <td>0.06905</td>\n",
              "      <td>0.0</td>\n",
              "      <td>2.18</td>\n",
              "      <td>0</td>\n",
              "      <td>0.458</td>\n",
              "      <td>7.147</td>\n",
              "      <td>54.2</td>\n",
              "      <td>6.0622</td>\n",
              "      <td>3</td>\n",
              "      <td>222</td>\n",
              "      <td>18.7</td>\n",
              "      <td>396.90</td>\n",
              "      <td>5.33</td>\n",
              "      <td>36.2</td>\n",
              "    </tr>\n",
              "  </tbody>\n",
              "</table>\n",
              "</div>\n",
              "      <button class=\"colab-df-convert\" onclick=\"convertToInteractive('df-38b81520-0df5-411d-a64a-c9bc94f50268')\"\n",
              "              title=\"Convert this dataframe to an interactive table.\"\n",
              "              style=\"display:none;\">\n",
              "        \n",
              "  <svg xmlns=\"http://www.w3.org/2000/svg\" height=\"24px\"viewBox=\"0 0 24 24\"\n",
              "       width=\"24px\">\n",
              "    <path d=\"M0 0h24v24H0V0z\" fill=\"none\"/>\n",
              "    <path d=\"M18.56 5.44l.94 2.06.94-2.06 2.06-.94-2.06-.94-.94-2.06-.94 2.06-2.06.94zm-11 1L8.5 8.5l.94-2.06 2.06-.94-2.06-.94L8.5 2.5l-.94 2.06-2.06.94zm10 10l.94 2.06.94-2.06 2.06-.94-2.06-.94-.94-2.06-.94 2.06-2.06.94z\"/><path d=\"M17.41 7.96l-1.37-1.37c-.4-.4-.92-.59-1.43-.59-.52 0-1.04.2-1.43.59L10.3 9.45l-7.72 7.72c-.78.78-.78 2.05 0 2.83L4 21.41c.39.39.9.59 1.41.59.51 0 1.02-.2 1.41-.59l7.78-7.78 2.81-2.81c.8-.78.8-2.07 0-2.86zM5.41 20L4 18.59l7.72-7.72 1.47 1.35L5.41 20z\"/>\n",
              "  </svg>\n",
              "      </button>\n",
              "      \n",
              "  <style>\n",
              "    .colab-df-container {\n",
              "      display:flex;\n",
              "      flex-wrap:wrap;\n",
              "      gap: 12px;\n",
              "    }\n",
              "\n",
              "    .colab-df-convert {\n",
              "      background-color: #E8F0FE;\n",
              "      border: none;\n",
              "      border-radius: 50%;\n",
              "      cursor: pointer;\n",
              "      display: none;\n",
              "      fill: #1967D2;\n",
              "      height: 32px;\n",
              "      padding: 0 0 0 0;\n",
              "      width: 32px;\n",
              "    }\n",
              "\n",
              "    .colab-df-convert:hover {\n",
              "      background-color: #E2EBFA;\n",
              "      box-shadow: 0px 1px 2px rgba(60, 64, 67, 0.3), 0px 1px 3px 1px rgba(60, 64, 67, 0.15);\n",
              "      fill: #174EA6;\n",
              "    }\n",
              "\n",
              "    [theme=dark] .colab-df-convert {\n",
              "      background-color: #3B4455;\n",
              "      fill: #D2E3FC;\n",
              "    }\n",
              "\n",
              "    [theme=dark] .colab-df-convert:hover {\n",
              "      background-color: #434B5C;\n",
              "      box-shadow: 0px 1px 3px 1px rgba(0, 0, 0, 0.15);\n",
              "      filter: drop-shadow(0px 1px 2px rgba(0, 0, 0, 0.3));\n",
              "      fill: #FFFFFF;\n",
              "    }\n",
              "  </style>\n",
              "\n",
              "      <script>\n",
              "        const buttonEl =\n",
              "          document.querySelector('#df-38b81520-0df5-411d-a64a-c9bc94f50268 button.colab-df-convert');\n",
              "        buttonEl.style.display =\n",
              "          google.colab.kernel.accessAllowed ? 'block' : 'none';\n",
              "\n",
              "        async function convertToInteractive(key) {\n",
              "          const element = document.querySelector('#df-38b81520-0df5-411d-a64a-c9bc94f50268');\n",
              "          const dataTable =\n",
              "            await google.colab.kernel.invokeFunction('convertToInteractive',\n",
              "                                                     [key], {});\n",
              "          if (!dataTable) return;\n",
              "\n",
              "          const docLinkHtml = 'Like what you see? Visit the ' +\n",
              "            '<a target=\"_blank\" href=https://colab.research.google.com/notebooks/data_table.ipynb>data table notebook</a>'\n",
              "            + ' to learn more about interactive tables.';\n",
              "          element.innerHTML = '';\n",
              "          dataTable['output_type'] = 'display_data';\n",
              "          await google.colab.output.renderOutput(dataTable, element);\n",
              "          const docLink = document.createElement('div');\n",
              "          docLink.innerHTML = docLinkHtml;\n",
              "          element.appendChild(docLink);\n",
              "        }\n",
              "      </script>\n",
              "    </div>\n",
              "  </div>\n",
              "  "
            ]
          },
          "metadata": {},
          "execution_count": 5
        }
      ]
    },
    {
      "cell_type": "code",
      "source": [
        "# This code count the frequency of value\n",
        "# x axis = value (value of the data)\n",
        "# y axis = fequency (how often the data have the same value)\n",
        "\n",
        "space=10\n",
        "name='ZN'\n",
        "df[name].value_counts(bins=space)\n",
        "\n",
        "fig, ax = plt.subplots()\n",
        "df[name].value_counts(bins=space).plot(ax=ax, kind='bar')"
      ],
      "metadata": {
        "colab": {
          "base_uri": "https://localhost:8080/",
          "height": 342
        },
        "id": "9K8B4bVDXRqw",
        "outputId": "4e9d1a02-0078-49e8-9372-b9f128e0a593"
      },
      "execution_count": null,
      "outputs": [
        {
          "output_type": "execute_result",
          "data": {
            "text/plain": [
              "<Axes: >"
            ]
          },
          "metadata": {},
          "execution_count": 6
        },
        {
          "output_type": "display_data",
          "data": {
            "text/plain": [
              "<Figure size 432x288 with 1 Axes>"
            ],
            "image/png": "[encoded data removed]"
          },
          "metadata": {
            "needs_background": "light"
          }
        }
      ]
    },
    {
      "cell_type": "code",
      "source": [
        "\n",
        "print('This code indicate the general information about the particular column')\n",
        "name='ZN'\n",
        "print(df[name].describe())\n",
        "\n",
        "\n",
        "'''print('This code show mean and Standard Deviation of every column')\n",
        "for i in df.columns:\n",
        "  print('column name = '+str(i))\n",
        "  print('mean = '+str(df[i].mean()))\n",
        "  print('std = '+str(df[i].std()))'''\n"
      ],
      "metadata": {
        "colab": {
          "base_uri": "https://localhost:8080/",
          "height": 231
        },
        "id": "90ADsvHLnB47",
        "outputId": "84cae1b4-11a4-40fa-c008-b9385c62eea5"
      },
      "execution_count": null,
      "outputs": [
        {
          "output_type": "stream",
          "name": "stdout",
          "text": [
            "This code indicate the general information about the particular column\n",
            "count    511.000000\n",
            "mean      11.252446\n",
            "std       23.234838\n",
            "min        0.000000\n",
            "25%        0.000000\n",
            "50%        0.000000\n",
            "75%       12.500000\n",
            "max      100.000000\n",
            "Name: ZN, dtype: float64\n"
          ]
        },
        {
          "output_type": "execute_result",
          "data": {
            "text/plain": [
              "\"print('This code show mean and Standard Deviation of every column')\\nfor i in df.columns:\\n  print('column name = '+str(i))\\n  print('mean = '+str(df[i].mean()))\\n  print('std = '+str(df[i].std()))\""
            ],
            "application/vnd.google.colaboratory.intrinsic+json": {
              "type": "string"
            }
          },
          "metadata": {},
          "execution_count": 7
        }
      ]
    },
    {
      "cell_type": "markdown",
      "source": [
        "**What is StandardDeriation?**\n",
        "\n",
        "* A standard deviation (or σ) = a measure of how dispersed the data is in relation to the mean. (Read \"StandardDeviation.ipynb\" for more detail.)"
      ],
      "metadata": {
        "id": "aF2Q17Ku9JFo"
      }
    },
    {
      "cell_type": "code",
      "source": [
        "def BellCurve(Data, Domain=np.arange(-100,100,0.01)):\n",
        "  XLine=Domain\n",
        "  YLine=(np.exp(-(1/2)*pow((XLine-Data.mean())/Data.std(),2)))/(math.sqrt(np.pi*2)*Data.std())\n",
        "  return [XLine,YLine]\n",
        "\n",
        "name=df.columns[-1]\n",
        "fx=BellCurve(df[name])\n",
        "\n",
        "plt.plot(fx[0],fx[1],color='black')\n",
        "#plt.axvline(df[name].mean()-0.675*StandardDeviation(df[name]),color='red') # reference: https://stackoverflow.com/questions/24988448/how-to-draw-vertical-lines-on-a-given-plot\n",
        "plt.axvline(df[name].mean(),color='green')\n",
        "#plt.axvline(df[name].mean()+0.675*StandardDeviation(df[name]),color='blue') # reference: https://www.statology.org/find-quartiles-with-mean-standard-deviation/\n",
        "plt.xlabel(\"Value of the data point in each row\")\n",
        "plt.ylabel(\"Fequency of the value\")\n",
        "plt.grid()\n",
        "plt.show()"
      ],
      "metadata": {
        "colab": {
          "base_uri": "https://localhost:8080/",
          "height": 279
        },
        "id": "7l5_wDyj8-Sx",
        "outputId": "1adfa5ca-46dd-45fa-a773-1bc3e9fd804a"
      },
      "execution_count": null,
      "outputs": [
        {
          "output_type": "display_data",
          "data": {
            "text/plain": [
              "<Figure size 432x288 with 1 Axes>"
            ],
            "image/png": "[encoded data removed]"
          },
          "metadata": {
            "needs_background": "light"
          }
        }
      ]
    },
    {
      "cell_type": "markdown",
      "source": [
        "###Step 2.1 Visualize Correlation between different groups of data."
      ],
      "metadata": {
        "id": "_mT3ztAs4qPt"
      }
    },
    {
      "cell_type": "code",
      "source": [
        "def ttt(time=100):\n",
        "  limit=0\n",
        "  while limit<100:\n",
        "    print(limit)\n",
        "    limit+=1\n",
        "ttt()"
      ],
      "metadata": {
        "id": "J-I4vRslGffs"
      },
      "execution_count": null,
      "outputs": []
    },
    {
      "cell_type": "code",
      "source": [
        "print(df[df.columns[1]])"
      ],
      "metadata": {
        "colab": {
          "base_uri": "https://localhost:8080/"
        },
        "id": "izp_wuB5NRy8",
        "outputId": "cadb5a8d-2df6-4c9c-acd2-ee61b900c973"
      },
      "execution_count": null,
      "outputs": [
        {
          "output_type": "stream",
          "name": "stdout",
          "text": [
            "0      18.0\n",
            "1       0.0\n",
            "2       0.0\n",
            "3       0.0\n",
            "4       0.0\n",
            "       ... \n",
            "506     0.0\n",
            "507     0.0\n",
            "508     0.0\n",
            "509     0.0\n",
            "510     0.0\n",
            "Name: ZN, Length: 511, dtype: float64\n"
          ]
        }
      ]
    },
    {
      "cell_type": "code",
      "source": [
        "name00=df.columns[2]\n",
        "name01=df.columns[1]\n",
        "\n",
        "print(df[name00,name01])"
      ],
      "metadata": {
        "id": "xT1cG6eWMdo5"
      },
      "execution_count": null,
      "outputs": []
    },
    {
      "cell_type": "code",
      "source": [
        "print(len(df.columns))"
      ],
      "metadata": {
        "colab": {
          "base_uri": "https://localhost:8080/"
        },
        "id": "hY-jI5Ia_gT4",
        "outputId": "338d6a8b-acd1-4f43-bdb3-151330afe61b"
      },
      "execution_count": null,
      "outputs": [
        {
          "output_type": "stream",
          "name": "stdout",
          "text": [
            "14\n"
          ]
        }
      ]
    },
    {
      "cell_type": "code",
      "source": [
        "print(df.corr())"
      ],
      "metadata": {
        "colab": {
          "base_uri": "https://localhost:8080/"
        },
        "id": "h7_sBuwhAMCd",
        "outputId": "867aab87-296c-40ea-d59c-24b67d362020"
      },
      "execution_count": null,
      "outputs": [
        {
          "output_type": "stream",
          "name": "stdout",
          "text": [
            "             CRIM        ZN     INDUS      CHAS       NOX        RM       AGE  \\\n",
            "CRIM     1.000000 -0.198451  0.405524 -0.054906  0.420524 -0.220363  0.350847   \n",
            "ZN      -0.198451  1.000000 -0.534106 -0.041333 -0.516256  0.307812 -0.567796   \n",
            "INDUS    0.405524 -0.534106  1.000000  0.062332  0.763583 -0.392193  0.642817   \n",
            "CHAS    -0.054906 -0.041333  0.062332  1.000000  0.091023  0.089952  0.085814   \n",
            "NOX      0.420524 -0.516256  0.763583  0.091023  1.000000 -0.301778  0.729233   \n",
            "RM      -0.220363  0.307812 -0.392193  0.089952 -0.301778  1.000000 -0.237335   \n",
            "AGE      0.350847 -0.567796  0.642817  0.085814  0.729233 -0.237335  1.000000   \n",
            "DIS     -0.377028  0.665185 -0.707886 -0.097541 -0.768309  0.199853 -0.745097   \n",
            "RAD      0.625964 -0.307146  0.591784 -0.005343  0.609343 -0.213078  0.452229   \n",
            "TAX      0.583389 -0.311531  0.718764 -0.034244  0.666982 -0.293969  0.503360   \n",
            "PTRATIO  0.276695 -0.392844  0.379441 -0.124415  0.186073 -0.339755  0.258251   \n",
            "B       -0.384356  0.175637 -0.356955  0.048970 -0.379936  0.127888 -0.271925   \n",
            "LSTAT    0.405030 -0.390029  0.556707 -0.057013  0.540050 -0.553126  0.529994   \n",
            "MEDV    -0.380072  0.339767 -0.463269  0.164782 -0.411486  0.667695 -0.368203   \n",
            "\n",
            "              DIS       RAD       TAX   PTRATIO         B     LSTAT      MEDV  \n",
            "CRIM    -0.377028  0.625964  0.583389  0.276695 -0.384356  0.405030 -0.380072  \n",
            "ZN       0.665185 -0.307146 -0.311531 -0.392844  0.175637 -0.390029  0.339767  \n",
            "INDUS   -0.707886  0.591784  0.718764  0.379441 -0.356955  0.556707 -0.463269  \n",
            "CHAS    -0.097541 -0.005343 -0.034244 -0.124415  0.048970 -0.057013  0.164782  \n",
            "NOX     -0.768309  0.609343  0.666982  0.186073 -0.379936  0.540050 -0.411486  \n",
            "RM       0.199853 -0.213078 -0.293969 -0.339755  0.127888 -0.553126  0.667695  \n",
            "AGE     -0.745097  0.452229  0.503360  0.258251 -0.271925  0.529994 -0.368203  \n",
            "DIS      1.000000 -0.488474 -0.530379 -0.238155  0.290997 -0.467063  0.233469  \n",
            "RAD     -0.488474  1.000000  0.910211  0.438646 -0.442406  0.422389 -0.379016  \n",
            "TAX     -0.530379  0.910211  1.000000  0.440962 -0.440830  0.482088 -0.459274  \n",
            "PTRATIO -0.238155  0.438646  0.440962  1.000000 -0.175251  0.393263 -0.447464  \n",
            "B        0.290997 -0.442406 -0.440830 -0.175251  1.000000 -0.339910  0.317941  \n",
            "LSTAT   -0.467063  0.422389  0.482088  0.393263 -0.339910  1.000000 -0.562960  \n",
            "MEDV     0.233469 -0.379016 -0.459274 -0.447464  0.317941 -0.562960  1.000000  \n"
          ]
        }
      ]
    },
    {
      "cell_type": "code",
      "source": [
        "corr = df.corr()\n",
        "\n",
        "fig, ax = plt.subplots(figsize=(10, 10))\n",
        "\n",
        "plt.imshow(corr,interpolation='nearest')\n",
        "\n",
        "plt.xticks(range(len(corr.columns)), corr.columns);\n",
        "plt.yticks(range(len(corr.columns)), corr.columns)\n",
        "\n",
        "cax = plt.axes([1, 0.1, 0.075, 0.8])\n",
        "plt.colorbar(cax=cax)\n",
        "\n",
        "plt.show()"
      ],
      "metadata": {
        "colab": {
          "base_uri": "https://localhost:8080/",
          "height": 611
        },
        "id": "L8nIofMiAAkG",
        "outputId": "1ef139a1-af90-410a-a606-ac6b15d9dc65"
      },
      "execution_count": null,
      "outputs": [
        {
          "output_type": "display_data",
          "data": {
            "text/plain": [
              "<Figure size 720x720 with 2 Axes>"
            ],
            "image/png": "[encoded data removed]"
          },
          "metadata": {
            "needs_background": "light"
          }
        }
      ]
    },
    {
      "cell_type": "markdown",
      "source": [
        "#Step 3, Choose the Machine Learning Algorithms"
      ],
      "metadata": {
        "id": "VdYVeEwj41Ss"
      }
    },
    {
      "cell_type": "markdown",
      "source": [
        "###Step 3.1, Seperate Training and Testing data"
      ],
      "metadata": {
        "id": "tGFap9yq5Hih"
      }
    },
    {
      "cell_type": "code",
      "source": [
        "def SeparateData(data,Ratio,intY):\n",
        "  name=data.columns[intY]\n",
        "\n",
        "  DataRatio = int(data.shape[0]*Ratio)\n",
        "  Data=data.sample(frac = 1)\n",
        "  TrainD= Data.iloc[:DataRatio]\n",
        "  TesttD= Data.iloc[DataRatio:]\n",
        "\n",
        "  TrainX=TrainD.drop(name, axis=1)\n",
        "  TrainY=TrainD[name]\n",
        "  TesttX=TesttD.drop(df.columns[13], axis=1)\n",
        "  TesttY=TesttD[df.columns[13]]\n",
        "  return [TrainX,TrainY,TesttX,TesttY]\n",
        "\n",
        "DataD=SeparateData(df,0.75,-1)\n",
        "TrainX=DataD[0]\n",
        "TrainY=DataD[1]\n",
        "TesttX=DataD[2]\n",
        "TesttY=DataD[3]\n",
        "\n",
        "# print('TrainX')\n",
        "# print(TrainX)\n",
        "# print('TrainY')\n",
        "# print(TrainY)\n",
        "# print('TesttX')\n",
        "# print(TesttX)\n",
        "# print('TesttY')\n",
        "# print(TesttY)"
      ],
      "metadata": {
        "id": "KA2tIdEe5Uy_",
        "colab": {
          "base_uri": "https://localhost:8080/"
        },
        "outputId": "75a176c1-978b-4b0a-b16e-709761c25b8d"
      },
      "execution_count": 37,
      "outputs": [
        {
          "output_type": "stream",
          "name": "stdout",
          "text": [
            "TrainX\n",
            "         CRIM    ZN  INDUS  CHAS    NOX     RM    AGE     DIS  RAD  TAX  \\\n",
            "255   0.03548  80.0   3.64     0  0.392  5.876   19.1  9.2203    1  315   \n",
            "381  15.87440   0.0  18.10     0  0.671  6.545   99.1  1.5192   24  666   \n",
            "373  11.10810   0.0  18.10     0  0.668  4.906  100.0  1.1742   24  666   \n",
            "191   0.06911  45.0   3.44     0  0.437  6.739   30.8  6.4798    5  398   \n",
            "306   0.07503  33.0   2.18     0  0.472  7.420   71.9  3.0992    7  222   \n",
            "..        ...   ...    ...   ...    ...    ...    ...     ...  ...  ...   \n",
            "237   0.51183   0.0   6.20     0  0.507  7.358   71.6  4.1480    8  307   \n",
            "427  37.66190   0.0  18.10     0  0.679  6.202   78.7  1.8629   24  666   \n",
            "363   4.22239   0.0  18.10     1  0.770  5.803   89.0  1.9047   24  666   \n",
            "92    0.04203  28.0  15.04     0  0.464  6.442   53.6  3.6659    4  270   \n",
            "423   7.05042   0.0  18.10     0  0.614  6.103   85.1  2.0218   24  666   \n",
            "\n",
            "     PTRATIO       B  LSTAT  \n",
            "255     16.4  395.18   9.25  \n",
            "381     20.2  396.90  21.08  \n",
            "373     20.2  396.90  34.77  \n",
            "191     15.2  389.71   4.69  \n",
            "306     18.4  396.90   6.47  \n",
            "..       ...     ...    ...  \n",
            "237     17.4  390.07   4.73  \n",
            "427     20.2   18.82  14.52  \n",
            "363     20.2  353.04  14.64  \n",
            "92      18.2  395.01   8.16  \n",
            "423     20.2    2.52  23.29  \n",
            "\n",
            "[383 rows x 13 columns]\n",
            "TrainY\n",
            "255    20.9\n",
            "381    10.9\n",
            "373    13.8\n",
            "191    30.5\n",
            "306    33.4\n",
            "       ... \n",
            "237    31.5\n",
            "427    10.9\n",
            "363    16.8\n",
            "92     22.9\n",
            "423    13.4\n",
            "Name: MEDV, Length: 383, dtype: float64\n",
            "TesttX\n",
            "         CRIM    ZN  INDUS  CHAS    NOX     RM    AGE     DIS  RAD  TAX  \\\n",
            "244   0.20608  22.0   5.86     0  0.431  5.593   76.5  7.9549    7  330   \n",
            "496   0.28960   0.0   9.69     0  0.585  5.390   72.9  2.7986    6  391   \n",
            "464   7.83932   0.0  18.10     0  0.655  6.209   65.4  2.9634   24  666   \n",
            "493   0.17331   0.0   9.69     0  0.585  5.707   54.0  2.3817    6  391   \n",
            "499   0.17783   0.0   9.69     0  0.585  5.569   73.5  2.3999    6  391   \n",
            "..        ...   ...    ...   ...    ...    ...    ...     ...  ...  ...   \n",
            "445  10.67180   0.0  18.10     0  0.740  6.459   94.8  1.9879   24  666   \n",
            "357   3.84970   0.0  18.10     1  0.770  6.395   91.0  2.5052   24  666   \n",
            "414  45.74610   0.0  18.10     0  0.693  4.519  100.0  1.6582   24  666   \n",
            "366   3.69695   0.0  18.10     0  0.718  4.963   91.4  1.7523   24  666   \n",
            "44    0.12269   0.0   6.91     0  0.448  6.069   40.0  5.7209    3  233   \n",
            "\n",
            "     PTRATIO       B  LSTAT  \n",
            "244     19.1  372.49  12.50  \n",
            "496     19.2  396.90  21.14  \n",
            "464     20.2  396.90  13.22  \n",
            "493     19.2  396.90  12.01  \n",
            "499     19.2  395.77  15.10  \n",
            "..       ...     ...    ...  \n",
            "445     20.2   43.06  23.98  \n",
            "357     20.2  391.34  13.27  \n",
            "414     20.2   88.27  36.98  \n",
            "366     20.2  316.03  14.00  \n",
            "44      17.9  389.39   9.55  \n",
            "\n",
            "[128 rows x 13 columns]\n",
            "TesttY\n",
            "244    17.6\n",
            "496    19.7\n",
            "464    21.4\n",
            "493    21.8\n",
            "499    17.5\n",
            "       ... \n",
            "445    11.8\n",
            "357    21.7\n",
            "414     7.0\n",
            "366    21.9\n",
            "44     21.2\n",
            "Name: MEDV, Length: 128, dtype: float64\n"
          ]
        }
      ]
    },
    {
      "cell_type": "markdown",
      "source": [
        "Reference:\n",
        "* https://www.kaggle.com/code/alexisbcook/cross-validation"
      ],
      "metadata": {
        "id": "p_8_YgQoAQa3"
      }
    },
    {
      "cell_type": "markdown",
      "source": [
        "###Step 3.2 Linear Regression"
      ],
      "metadata": {
        "id": "ZOb2bK7s46oN"
      }
    },
    {
      "cell_type": "markdown",
      "source": [
        "**Keyword**\n",
        "* Epoch = a single full iteration of the algorithm over the training data. (https://medium.com/@niitwork0921/what-is-epoch-in-machine-learning-1062064d42d6)"
      ],
      "metadata": {
        "id": "uRSl0Kp_VEny"
      }
    },
    {
      "cell_type": "markdown",
      "source": [
        "**What is linear Regression?**\n",
        "\n",
        "Linear regression is a machine learning model which is used for predicting the relationship between value x and value y, based on the given data on the graph.\n",
        "\n",
        "**Hypothesis (Data Prediction) Function of Linear Regression**\n",
        "* $h(\\vec{x})=\\vec{h}\\cdot\\vec{x}, x_0=1$\n",
        "\n",
        "**Evaluation Function of Linear Regression**\n",
        "* $J(\\vec{h})=\\frac{1}{2m}\\sum_{i=1}^m(h(x_i)-y_i)^2$\n",
        "* $\\frac{\\partial }{\\partial h_{i}}J(\\vec{h})=\\frac{1}{m}*\\Sigma_{i=0}^m(hx_i-y_i)*x_i$\n",
        "\n",
        "**GradientDescent (Accuracy Optimize Function)**\n",
        "* $h_{i} := h_{i}-a*\\frac{\\partial }{\\partial h_{i}}J(\\vec{h})$"
      ],
      "metadata": {
        "id": "vk-582TOA96w"
      }
    },
    {
      "cell_type": "code",
      "source": [
        "name00=df.columns[2]\n",
        "name01=df.columns[1]\n",
        "\n",
        "#def LinearRegression_Hypothesis():\n",
        "\n",
        "def LineR_Evaluation(data,Vector):\n",
        "  sigma =0\n",
        "  for i in range(data.shape[0]):\n",
        "    sigma +=pow((data[0]*Vector[1]+Vector[0]-data[1]),2)\n",
        "  return (1/(2*data.shape[0]))*sigma\n",
        "\n",
        "def LineR_DiffEvaluation(data,Vector):\n",
        "  res = Vector[1] * data[0] + Vector[0] - data[1]\n",
        "  return [res.mean(),(res*data[0]).mean()]\n",
        "  # reference: https://mccormickml.com/2014/03/04/gradient-descent-derivation/\n",
        "\n",
        "def GradientDescent(data,Diff,LRate=0.008,Decay=0.0002,InitialVector=[0.5,0.5],LastEpoch=10000, AcceptError=1e-10):\n",
        "  epoch=0\n",
        "  Vector=np.array(InitialVector)\n",
        "  while epoch<LastEpoch or np.all(np.abs(Diff(data,Vector))<=AcceptError):\n",
        "    print(Vector)\n",
        "    Vector-=LRate*pow((1-Decay),epoch)*np.array(Diff(data,Vector))\n",
        "    # Slowly decrease learning rate.\n",
        "    # reference: https://www.thoughtco.com/exponential-decay-definition-2312215\n",
        "    epoch+=1\n",
        "  return list(Vector)\n",
        "\n",
        "h_i=GradientDescent([df[name00], df[name01]],LineR_DiffEvaluation)\n",
        "print(h_i)"
      ],
      "metadata": {
        "id": "1NV0rho-CXOX"
      },
      "execution_count": null,
      "outputs": []
    },
    {
      "cell_type": "markdown",
      "source": [
        "**Matrix Multiplication**\n",
        "\n",
        "$R\\times C=P$\n",
        "\n",
        "$\\vec{r_i}\\cdot\\vec{c_j}=p_{i,j}$\n",
        "\n",
        "* $R\\in\\mathbb{R^{n\\times m}}$\n",
        "* $C\\in\\mathbb{R^{m\\times q}}$\n",
        "* $P\\in\\mathbb{R^{n\\times q}}$\n",
        "* $\\vec{r_i}=$ row vector inside $R$ no.$i$\n",
        "* $\\vec{c_j}=$ column vector inside $R$ no.$j$\n",
        "* $i,j\\in\\mathbb{Z}$\n",
        "* $i\\in[1,n]$\n",
        "* $j\\in[1,p]$\n",
        "\n",
        "reference: https://www.mathsisfun.com/algebra/matrix-multiplying.html"
      ],
      "metadata": {
        "id": "BuNc8g42dLLS"
      }
    },
    {
      "cell_type": "markdown",
      "source": [
        "**Given that**\n",
        "* $\\vec{h}\\in\\mathbb{R^{n+1}}$\n",
        "* $X\\in\\mathbb{R^{m\\times n}}$\n",
        "* $[X+\\vec{1}]\\in\\mathbb{R^{m\\times n+1}},\\vec{1}\\in\\mathbb{R^m}$\n",
        "* $[X+\\vec{1}]=$ add vector that contains only $1$ into $X$ as the new column of $X$\n",
        "* $[X+\\vec{1}]^T\\in\\mathbb{R^{n+1\\times m}}$\n",
        "* $\\vec{h}*[X+\\vec{1}]^T\\in\\mathbb{R^{}}$"
      ],
      "metadata": {
        "id": "qACzTCbOiJfP"
      }
    },
    {
      "cell_type": "code",
      "source": [
        "TrainX['One']=1\n",
        "Tran=TrainX.T\n",
        "\n",
        "print(Tran)"
      ],
      "metadata": {
        "colab": {
          "base_uri": "https://localhost:8080/"
        },
        "id": "-TgNA6kogov5",
        "outputId": "8e27a425-ddc6-4199-858a-0cb415484965"
      },
      "execution_count": 44,
      "outputs": [
        {
          "output_type": "stream",
          "name": "stdout",
          "text": [
            "               255       381       373        191        306        194  \\\n",
            "CRIM       0.03548   15.8744   11.1081    0.06911    0.07503    0.01439   \n",
            "ZN        80.00000    0.0000    0.0000   45.00000   33.00000   60.00000   \n",
            "INDUS      3.64000   18.1000   18.1000    3.44000    2.18000    2.93000   \n",
            "CHAS       0.00000    0.0000    0.0000    0.00000    0.00000    0.00000   \n",
            "NOX        0.39200    0.6710    0.6680    0.43700    0.47200    0.40100   \n",
            "RM         5.87600    6.5450    4.9060    6.73900    7.42000    6.60400   \n",
            "AGE       19.10000   99.1000  100.0000   30.80000   71.90000   18.80000   \n",
            "DIS        9.22030    1.5192    1.1742    6.47980    3.09920    6.21960   \n",
            "RAD        1.00000   24.0000   24.0000    5.00000    7.00000    1.00000   \n",
            "TAX      315.00000  666.0000  666.0000  398.00000  222.00000  265.00000   \n",
            "PTRATIO   16.40000   20.2000   20.2000   15.20000   18.40000   15.60000   \n",
            "B        395.18000  396.9000  396.9000  389.71000  396.90000  376.70000   \n",
            "LSTAT      9.25000   21.0800   34.7700    4.69000    6.47000    4.38000   \n",
            "One        1.00000    1.0000    1.0000    1.00000    1.00000    1.00000   \n",
            "\n",
            "               127        450        488        471  ...        96   \\\n",
            "CRIM       0.25915    6.71772    0.15086    4.03841  ...    0.11504   \n",
            "ZN         0.00000    0.00000    0.00000    0.00000  ...    0.00000   \n",
            "INDUS     21.89000   18.10000   27.74000   18.10000  ...    2.89000   \n",
            "CHAS       0.00000    0.00000    0.00000    0.00000  ...    0.00000   \n",
            "NOX        0.62400    0.71300    0.60900    0.53200  ...    0.44500   \n",
            "RM         5.69300    6.74900    5.45400    6.22900  ...        NaN   \n",
            "AGE       96.00000   92.60000   92.70000   90.70000  ...   69.60000   \n",
            "DIS        1.78830    2.32360    1.82090    3.09930  ...    3.49520   \n",
            "RAD        4.00000   24.00000    4.00000   24.00000  ...    2.00000   \n",
            "TAX      437.00000  666.00000  711.00000  666.00000  ...  276.00000   \n",
            "PTRATIO   21.20000   20.20000   20.10000   20.20000  ...   18.00000   \n",
            "B        392.11000    0.32000  395.09000  395.33000  ...  391.83000   \n",
            "LSTAT     17.19000   17.44000   18.06000   12.87000  ...   11.34000   \n",
            "One        1.00000    1.00000    1.00000    1.00000  ...    1.00000   \n",
            "\n",
            "               6          334        62         157        237       427  \\\n",
            "CRIM       0.08829    0.03738    0.11027    1.22358    0.51183   37.6619   \n",
            "ZN        12.50000    0.00000   25.00000    0.00000    0.00000    0.0000   \n",
            "INDUS      7.87000    5.19000    5.13000   19.58000    6.20000   18.1000   \n",
            "CHAS       0.00000    0.00000    0.00000    0.00000    0.00000    0.0000   \n",
            "NOX        0.52400    0.51500    0.45300    0.60500    0.50700    0.6790   \n",
            "RM         6.01200    6.31000    6.45600    6.94300    7.35800    6.2020   \n",
            "AGE       66.60000   38.50000   67.80000   97.40000   71.60000   78.7000   \n",
            "DIS        5.56050    6.45840    7.22550    1.87730    4.14800    1.8629   \n",
            "RAD        5.00000    5.00000    8.00000    5.00000    8.00000   24.0000   \n",
            "TAX      311.00000  224.00000  284.00000  403.00000  307.00000  666.0000   \n",
            "PTRATIO   15.20000   20.20000   19.70000   14.70000   17.40000   20.2000   \n",
            "B        395.60000  389.40000  396.90000  363.43000  390.07000   18.8200   \n",
            "LSTAT     12.43000    6.75000    6.73000    4.59000    4.73000   14.5200   \n",
            "One        1.00000    1.00000    1.00000    1.00000    1.00000    1.0000   \n",
            "\n",
            "               363        92         423  \n",
            "CRIM       4.22239    0.04203    7.05042  \n",
            "ZN         0.00000   28.00000    0.00000  \n",
            "INDUS     18.10000   15.04000   18.10000  \n",
            "CHAS       1.00000    0.00000    0.00000  \n",
            "NOX        0.77000    0.46400    0.61400  \n",
            "RM         5.80300    6.44200    6.10300  \n",
            "AGE       89.00000   53.60000   85.10000  \n",
            "DIS        1.90470    3.66590    2.02180  \n",
            "RAD       24.00000    4.00000   24.00000  \n",
            "TAX      666.00000  270.00000  666.00000  \n",
            "PTRATIO   20.20000   18.20000   20.20000  \n",
            "B        353.04000  395.01000    2.52000  \n",
            "LSTAT     14.64000    8.16000   23.29000  \n",
            "One        1.00000    1.00000    1.00000  \n",
            "\n",
            "[14 rows x 383 columns]\n"
          ]
        }
      ]
    },
    {
      "cell_type": "code",
      "source": [
        "name00=df.columns[2]\n",
        "name01=df.columns[1]\n",
        "\n",
        "#def LinearRegression_Hypothesis():\n",
        "\n",
        "def LineR_Evaluation(dX,dY,Vector):\n",
        "  sigma =0\n",
        "  for i in range(dY.shape[0]):\n",
        "    sigma +=pow((dX*Vector[1]+Vector[0]-dY),2)\n",
        "  return (1/(2*dY.shape[0]))*sigma\n",
        "\n",
        "def LineR_DiffEvaluation(dX,dY,Vector):\n",
        "  Coef_Dot = #... + Vector[1] * dX[dX.columns[0]] + Vector[1] * dX[dX.columns[0]] + Vector[0] - dY\n",
        "  theDottt = \n",
        "  return [res.mean(),(res*dX[dX.columns[0]]).mean(),(res*dX[dX.columns[1]]).mean(),...]\n",
        "  # reference: https://mccormickml.com/2014/03/04/gradient-descent-derivation/\n",
        "\n",
        "def GradientDescent(dX,dY,Diff,LRate=0.008,Decay=0.0002,LastEpoch=10000, AcceptError=1e-10):\n",
        "  epoch=0\n",
        "  Vector=np.ones(len(dX.columns)+1)\n",
        "  #Coef_Vect=np.ones(len(dX.columns))\n",
        "  #Inte_Cons=1\n",
        "  while epoch<LastEpoch or np.all(np.abs(Diff(dX,dY,Vector))<=AcceptError):\n",
        "    Vector-=LRate*pow((1-Decay),epoch)*np.array(Diff(dX,dY,Vector))\n",
        "    #print(Vector)\n",
        "    #Coef_Vect-=LRate*pow((1-Decay),epoch)*np.array(Diff(dX,dY,Vector))\n",
        "    #Inte_Cons-=LRate*pow((1-Decay),epoch)*np.array(Diff(dX,dY,Vector))\n",
        "    # Slowly decrease learning rate.\n",
        "    # reference: https://www.thoughtco.com/exponential-decay-definition-2312215\n",
        "    epoch+=1\n",
        "  return list(Vector)\n",
        "\n",
        "'''\n",
        "TrainX\n",
        "TrainY\n",
        "TesttX\n",
        "TesttY\n",
        "'''\n",
        "\n",
        "h_i=GradientDescent(TrainX,TrainY,LineR_DiffEvaluation)\n",
        "print(h_i)"
      ],
      "metadata": {
        "colab": {
          "base_uri": "https://localhost:8080/",
          "height": 365
        },
        "id": "CN8QCunXQchA",
        "outputId": "3647d82f-b928-474b-c9cd-e55d6fda21c9"
      },
      "execution_count": 34,
      "outputs": [
        {
          "output_type": "stream",
          "name": "stdout",
          "text": [
            "[1. 1. 1. 1. 1. 1. 1. 1. 1. 1. 1. 1. 1.]\n"
          ]
        },
        {
          "output_type": "error",
          "ename": "ValueError",
          "evalue": "ignored",
          "traceback": [
            "\u001b[0;31m---------------------------------------------------------------------------\u001b[0m",
            "\u001b[0;31mValueError\u001b[0m                                Traceback (most recent call last)",
            "\u001b[0;32m<ipython-input-34-a3f7d033a442>\u001b[0m in \u001b[0;36m<module>\u001b[0;34m\u001b[0m\n\u001b[1;32m     33\u001b[0m '''\n\u001b[1;32m     34\u001b[0m \u001b[0;34m\u001b[0m\u001b[0m\n\u001b[0;32m---> 35\u001b[0;31m \u001b[0mh_i\u001b[0m\u001b[0;34m=\u001b[0m\u001b[0mGradientDescent\u001b[0m\u001b[0;34m(\u001b[0m\u001b[0mTrainX\u001b[0m\u001b[0;34m,\u001b[0m\u001b[0mTrainY\u001b[0m\u001b[0;34m,\u001b[0m\u001b[0mLineR_DiffEvaluation\u001b[0m\u001b[0;34m)\u001b[0m\u001b[0;34m\u001b[0m\u001b[0;34m\u001b[0m\u001b[0m\n\u001b[0m\u001b[1;32m     36\u001b[0m \u001b[0mprint\u001b[0m\u001b[0;34m(\u001b[0m\u001b[0mh_i\u001b[0m\u001b[0;34m)\u001b[0m\u001b[0;34m\u001b[0m\u001b[0;34m\u001b[0m\u001b[0m\n",
            "\u001b[0;32m<ipython-input-34-a3f7d033a442>\u001b[0m in \u001b[0;36mGradientDescent\u001b[0;34m(dX, dY, Diff, LRate, Decay, LastEpoch, AcceptError)\u001b[0m\n\u001b[1;32m     20\u001b[0m   \u001b[0;32mwhile\u001b[0m \u001b[0mepoch\u001b[0m\u001b[0;34m<\u001b[0m\u001b[0mLastEpoch\u001b[0m \u001b[0;32mor\u001b[0m \u001b[0mnp\u001b[0m\u001b[0;34m.\u001b[0m\u001b[0mall\u001b[0m\u001b[0;34m(\u001b[0m\u001b[0mnp\u001b[0m\u001b[0;34m.\u001b[0m\u001b[0mabs\u001b[0m\u001b[0;34m(\u001b[0m\u001b[0mDiff\u001b[0m\u001b[0;34m(\u001b[0m\u001b[0mdX\u001b[0m\u001b[0;34m,\u001b[0m\u001b[0mdY\u001b[0m\u001b[0;34m,\u001b[0m\u001b[0mVector\u001b[0m\u001b[0;34m)\u001b[0m\u001b[0;34m)\u001b[0m\u001b[0;34m<=\u001b[0m\u001b[0mAcceptError\u001b[0m\u001b[0;34m)\u001b[0m\u001b[0;34m:\u001b[0m\u001b[0;34m\u001b[0m\u001b[0;34m\u001b[0m\u001b[0m\n\u001b[1;32m     21\u001b[0m     \u001b[0mprint\u001b[0m\u001b[0;34m(\u001b[0m\u001b[0mVector\u001b[0m\u001b[0;34m)\u001b[0m\u001b[0;34m\u001b[0m\u001b[0;34m\u001b[0m\u001b[0m\n\u001b[0;32m---> 22\u001b[0;31m     \u001b[0mVector\u001b[0m\u001b[0;34m-=\u001b[0m\u001b[0mLRate\u001b[0m\u001b[0;34m*\u001b[0m\u001b[0mpow\u001b[0m\u001b[0;34m(\u001b[0m\u001b[0;34m(\u001b[0m\u001b[0;36m1\u001b[0m\u001b[0;34m-\u001b[0m\u001b[0mDecay\u001b[0m\u001b[0;34m)\u001b[0m\u001b[0;34m,\u001b[0m\u001b[0mepoch\u001b[0m\u001b[0;34m)\u001b[0m\u001b[0;34m*\u001b[0m\u001b[0mnp\u001b[0m\u001b[0;34m.\u001b[0m\u001b[0marray\u001b[0m\u001b[0;34m(\u001b[0m\u001b[0mDiff\u001b[0m\u001b[0;34m(\u001b[0m\u001b[0mdX\u001b[0m\u001b[0;34m,\u001b[0m\u001b[0mdY\u001b[0m\u001b[0;34m,\u001b[0m\u001b[0mVector\u001b[0m\u001b[0;34m)\u001b[0m\u001b[0;34m)\u001b[0m\u001b[0;34m\u001b[0m\u001b[0;34m\u001b[0m\u001b[0m\n\u001b[0m\u001b[1;32m     23\u001b[0m     \u001b[0;31m# Slowly decrease learning rate.\u001b[0m\u001b[0;34m\u001b[0m\u001b[0;34m\u001b[0m\u001b[0m\n\u001b[1;32m     24\u001b[0m     \u001b[0;31m# reference: https://www.thoughtco.com/exponential-decay-definition-2312215\u001b[0m\u001b[0;34m\u001b[0m\u001b[0;34m\u001b[0m\u001b[0m\n",
            "\u001b[0;31mValueError\u001b[0m: operands could not be broadcast together with shapes (13,) (2,396) (13,) "
          ]
        }
      ]
    },
    {
      "cell_type": "markdown",
      "source": [
        "**Compare the code**"
      ],
      "metadata": {
        "id": "SMYBr2Le3g0X"
      }
    },
    {
      "cell_type": "code",
      "source": [
        "print(h_i)\n",
        "# [31.51638752159319, -1.8172786483055543]\n",
        "\n",
        "from sklearn.linear_model import LinearRegression\n",
        "\n",
        "regr = LinearRegression()\n",
        "  \n",
        "regr.fit(np.array(df[name00]).reshape(-1, 1), np.array(df[name01]).reshape(-1, 1))\n",
        "\n",
        "print(regr.intercept_,regr.coef_[0])\n",
        "# [31.51899535] [-1.8174491]"
      ],
      "metadata": {
        "colab": {
          "base_uri": "https://localhost:8080/"
        },
        "id": "7xHgJsX73gHr",
        "outputId": "0f6c8e87-ac1a-4e1b-8f80-484304b463a8"
      },
      "execution_count": null,
      "outputs": [
        {
          "output_type": "stream",
          "name": "stdout",
          "text": [
            "[31.51638752159319, -1.8172786483055543]\n",
            "[31.51899535] [-1.8174491]\n"
          ]
        }
      ]
    },
    {
      "cell_type": "code",
      "source": [
        "def LineR_Evaluation(data,Vector):\n",
        "  sigma =0\n",
        "  for i in range(data[0].shape[0]):\n",
        "    sigma +=pow((data[0].iloc[i]*Vector[1]+Vector[0]-data[1].iloc[i]),2)\n",
        "  return (1/(2*data[0].shape[0]))*sigma\n",
        "\n",
        "print(LineR_Evaluation([df[name00], df[name01]],h_i))\n",
        "print(LineR_Evaluation([df[name00], df[name01]],[regr.intercept_,regr.coef_[0]]))"
      ],
      "metadata": {
        "colab": {
          "base_uri": "https://localhost:8080/"
        },
        "id": "-RrSkyfAuxBV",
        "outputId": "70aec0d4-4187-4c5e-b7af-48f382776fd0"
      },
      "execution_count": null,
      "outputs": [
        {
          "output_type": "stream",
          "name": "stdout",
          "text": [
            "192.54900170718594\n",
            "[192.54900078]\n"
          ]
        }
      ]
    },
    {
      "cell_type": "code",
      "source": [
        "plt.scatter(df[name00],df[name01])\n",
        "xline=np.arange(-1, 30, 0.5)\n",
        "plt.plot(xline,xline*h_i[1]+h_i[0],color='red')\n",
        "plt.plot(xline,xline*regr.coef_[0]+regr.intercept_,color='green')\n",
        "plt.xlabel(name00)\n",
        "plt.ylabel(name01)\n",
        "plt.show()"
      ],
      "metadata": {
        "colab": {
          "base_uri": "https://localhost:8080/",
          "height": 279
        },
        "id": "ONPwTPpnOA3K",
        "outputId": "f8281bde-a807-4ab0-e54a-fee602454da4"
      },
      "execution_count": null,
      "outputs": [
        {
          "output_type": "display_data",
          "data": {
            "text/plain": [
              "<Figure size 432x288 with 1 Axes>"
            ],
            "image/png": "[encoded data removed]"
          },
          "metadata": {
            "needs_background": "light"
          }
        }
      ]
    },
    {
      "cell_type": "code",
      "source": [
        "print(h_i)"
      ],
      "metadata": {
        "colab": {
          "base_uri": "https://localhost:8080/"
        },
        "id": "8Hc6WxVcx1tJ",
        "outputId": "b25eea0e-5633-418c-89f9-e507eb970068"
      },
      "execution_count": null,
      "outputs": [
        {
          "output_type": "stream",
          "name": "stdout",
          "text": [
            "[21.033493057457676, -1.1321090702497214]\n"
          ]
        }
      ]
    },
    {
      "cell_type": "code",
      "source": [
        "plt.scatter(df[name00],df[name01])\n",
        "xline=np.arange(-1, 30, 0.5)\n",
        "plt.plot(xline,xline*h_i[1]+h_i[0],color='red')\n",
        "plt.plot(xline,xline*(regr.coef_[0])+regr.intercept_,color='green')\n",
        "plt.xlabel(name00)\n",
        "plt.ylabel(name01)\n",
        "plt.show()"
      ],
      "metadata": {
        "colab": {
          "base_uri": "https://localhost:8080/",
          "height": 279
        },
        "id": "_k7qwcg42NIU",
        "outputId": "ae4dd491-81c3-4ee9-ff10-c8f641acd1bf"
      },
      "execution_count": null,
      "outputs": [
        {
          "output_type": "display_data",
          "data": {
            "text/plain": [
              "<Figure size 432x288 with 1 Axes>"
            ],
            "image/png": "[encoded data removed]"
          },
          "metadata": {
            "needs_background": "light"
          }
        }
      ]
    },
    {
      "cell_type": "code",
      "source": [
        "name00=df.columns[2]\n",
        "name01=df.columns[1]\n",
        "Ratio = 0.75\n",
        "DataRatio = int(df.shape[0]*Ratio)\n",
        "X_Train = df[[name00]].sample(frac = 1).iloc[:DataRatio,:]\n",
        "Y_Train = df[[name01]].sample(frac = 1).iloc[:DataRatio,:]\n",
        "X_Test  = df[[name00]].sample(frac = 1).iloc[DataRatio:,:]\n",
        "Y_Test  = df[[name01]].sample(frac = 1).iloc[DataRatio:,:]"
      ],
      "metadata": {
        "id": "I0aOpnugjdTN"
      },
      "execution_count": null,
      "outputs": []
    }
  ]
}