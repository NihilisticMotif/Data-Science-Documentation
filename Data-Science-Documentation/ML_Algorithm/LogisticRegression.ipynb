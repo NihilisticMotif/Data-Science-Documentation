{
  "nbformat": 4,
  "nbformat_minor": 0,
  "metadata": {
    "colab": {
      "provenance": [],
      "collapsed_sections": [
        "EWtll8EhabDz",
        "qhVJlNuDsfaG",
        "b4iB-wZSsrrg"
      ],
      "authorship_tag": "ABX9TyOdpto5+nlI8bUP4Eg66eV1",
      "include_colab_link": true
    },
    "kernelspec": {
      "name": "python3",
      "display_name": "Python 3"
    },
    "language_info": {
      "name": "python"
    }
  },
  "cells": [
    {
      "cell_type": "markdown",
      "metadata": {
        "id": "view-in-github",
        "colab_type": "text"
      },
      "source": [
        "<a href=\"https://colab.research.google.com/github/NihilisticMotif/Data-Science-Documentation/blob/main/Data-Science-Documentation/ML_Algorithm/LogisticRegression.ipynb\" target=\"_parent\"><img src=\"https://colab.research.google.com/assets/colab-badge.svg\" alt=\"Open In Colab\"/></a>"
      ]
    },
    {
      "cell_type": "markdown",
      "source": [
        "###To Do Now\n",
        "1. Explain and implement Maximum Likelihood estimation (https://www.analyticsvidhya.com/blog/2018/07/introductory-guide-maximum-likelihood-estimation-case-study-r/?utm_source=related_WP&utm_medium=https://www.analyticsvidhya.com/blog/2021/09/maximum-likelihood-estimation-a-comprehensive-guide/)\n",
        "2. Apply Maximum Likelihood estimation with evaluating logistic regression.\n",
        "\n",
        "Other information:\n",
        "* https://arunaddagatla.medium.com/maximum-likelihood-estimation-in-logistic-regression-f86ff1627b67\n",
        "* https://machinelearningmastery.com/logistic-regression-with-maximum-likelihood-estimation/\n",
        "* https://stats.stackexchange.com/questions/183871/what-is-the-difference-between-maximum-likelihood-estimation-gradient-descent"
      ],
      "metadata": {
        "id": "GXf1Ux5PqPRu"
      }
    },
    {
      "cell_type": "markdown",
      "source": [
        "###To Do Now\n",
        "\n",
        "**Logistic regression**\n",
        "1. Implement Gradient Descent for logistic regression\n",
        "2. Evaluate the accuracy of the logistic regression algorithm\n",
        "\n",
        "**Linear Regression**\n",
        "1. Linear Regression with multiple degrees\n",
        "2. Optimize linear regression without gradient descent\n",
        "3. Evaluate the accuracy of linear regression without r-square\n",
        "\n",
        "**KaggleProject01_BostonHousing_by_TOLGAHANCEPEL.ipynb**\n",
        "1. **CorrelationBetweenVariables.ipynb:** Explain how `df.corr` work?\n",
        "2. **CrossValidation.ipynb:** Explain about this (https://www.kaggle.com/code/alexisbcook/cross-validation)\n",
        "3. continue the project\n",
        "\n",
        "**MissingValue.ipynb:** \n",
        "1. How to diagnose the missing data mechanism?\n",
        "2. How to deal with missing value?"
      ],
      "metadata": {
        "id": "1S6GuixH0rTz"
      }
    },
    {
      "cell_type": "markdown",
      "source": [
        "#Getting Data"
      ],
      "metadata": {
        "id": "EWtll8EhabDz"
      }
    },
    {
      "cell_type": "markdown",
      "source": [
        "###[Step 1]: Import library and data set"
      ],
      "metadata": {
        "id": "Af_fxzcipSEe"
      }
    },
    {
      "cell_type": "code",
      "source": [
        "!pip install --upgrade -q gspread"
      ],
      "metadata": {
        "id": "SC0oqdC1ryQC"
      },
      "execution_count": null,
      "outputs": []
    },
    {
      "cell_type": "code",
      "source": [
        "# [1.] import library\n",
        "\n",
        "from __future__ import absolute_import, division, print_function, unicode_literals\n",
        "\n",
        "import matplotlib.pyplot as plt\n",
        "import numpy as np\n",
        "import pandas as pd\n",
        "import math \n",
        "\n",
        "# [2.] Connect Google Collab with Google Sheet\n",
        "from google.colab import auth\n",
        "import gspread\n",
        "from google.auth import default\n",
        "from google.colab import data_table\n",
        "\n",
        "auth.authenticate_user()\n",
        "creds, _ = default()\n",
        "gc = gspread.authorize(creds)\n",
        "worksheet = gc.open('student-mat').get_worksheet(0)\n",
        "rows = worksheet.get_all_values()\n",
        "dfmain = pd.DataFrame(rows)\n",
        "\n",
        "# [3.] Display Data form Google Sheet\n",
        "dfmain.head()"
      ],
      "metadata": {
        "colab": {
          "base_uri": "https://localhost:8080/"
        },
        "outputId": "e084bce9-970c-4af1-9d45-6390a2bdae17",
        "id": "0yggkypVq3EA"
      },
      "execution_count": null,
      "outputs": [
        {
          "output_type": "execute_result",
          "data": {
            "text/plain": [
              "       0    1    2        3        4        5     6     7        8         9   \\\n",
              "0  school  sex  age  address  famsize  Pstatus  Medu  Fedu     Mjob      Fjob   \n",
              "1      GP    F   18        U      GT3        A     4     4  at_home   teacher   \n",
              "2      GP    F   17        U      GT3        T     1     1  at_home     other   \n",
              "3      GP    F   15        U      LE3        T     1     1  at_home     other   \n",
              "4      GP    F   15        U      GT3        T     4     2   health  services   \n",
              "\n",
              "   ...      23        24     25    26    27      28        29  30  31  32  \n",
              "0  ...  famrel  freetime  goout  Dalc  Walc  health  absences  G1  G2  G3  \n",
              "1  ...       4         3      4     1     1       3         6   5   6   6  \n",
              "2  ...       5         3      3     1     1       3         4   5   5   6  \n",
              "3  ...       4         3      2     2     3       3        10   7   8  10  \n",
              "4  ...       3         2      2     1     1       5         2  15  14  15  \n",
              "\n",
              "[5 rows x 33 columns]"
            ],
            "text/html": [
              "\n",
              "  <div id=\"df-eb8df24d-f97b-4ae3-9527-b7e322c77cf2\">\n",
              "    <div class=\"colab-df-container\">\n",
              "      <div>\n",
              "<style scoped>\n",
              "    .dataframe tbody tr th:only-of-type {\n",
              "        vertical-align: middle;\n",
              "    }\n",
              "\n",
              "    .dataframe tbody tr th {\n",
              "        vertical-align: top;\n",
              "    }\n",
              "\n",
              "    .dataframe thead th {\n",
              "        text-align: right;\n",
              "    }\n",
              "</style>\n",
              "<table border=\"1\" class=\"dataframe\">\n",
              "  <thead>\n",
              "    <tr style=\"text-align: right;\">\n",
              "      <th></th>\n",
              "      <th>0</th>\n",
              "      <th>1</th>\n",
              "      <th>2</th>\n",
              "      <th>3</th>\n",
              "      <th>4</th>\n",
              "      <th>5</th>\n",
              "      <th>6</th>\n",
              "      <th>7</th>\n",
              "      <th>8</th>\n",
              "      <th>9</th>\n",
              "      <th>...</th>\n",
              "      <th>23</th>\n",
              "      <th>24</th>\n",
              "      <th>25</th>\n",
              "      <th>26</th>\n",
              "      <th>27</th>\n",
              "      <th>28</th>\n",
              "      <th>29</th>\n",
              "      <th>30</th>\n",
              "      <th>31</th>\n",
              "      <th>32</th>\n",
              "    </tr>\n",
              "  </thead>\n",
              "  <tbody>\n",
              "    <tr>\n",
              "      <th>0</th>\n",
              "      <td>school</td>\n",
              "      <td>sex</td>\n",
              "      <td>age</td>\n",
              "      <td>address</td>\n",
              "      <td>famsize</td>\n",
              "      <td>Pstatus</td>\n",
              "      <td>Medu</td>\n",
              "      <td>Fedu</td>\n",
              "      <td>Mjob</td>\n",
              "      <td>Fjob</td>\n",
              "      <td>...</td>\n",
              "      <td>famrel</td>\n",
              "      <td>freetime</td>\n",
              "      <td>goout</td>\n",
              "      <td>Dalc</td>\n",
              "      <td>Walc</td>\n",
              "      <td>health</td>\n",
              "      <td>absences</td>\n",
              "      <td>G1</td>\n",
              "      <td>G2</td>\n",
              "      <td>G3</td>\n",
              "    </tr>\n",
              "    <tr>\n",
              "      <th>1</th>\n",
              "      <td>GP</td>\n",
              "      <td>F</td>\n",
              "      <td>18</td>\n",
              "      <td>U</td>\n",
              "      <td>GT3</td>\n",
              "      <td>A</td>\n",
              "      <td>4</td>\n",
              "      <td>4</td>\n",
              "      <td>at_home</td>\n",
              "      <td>teacher</td>\n",
              "      <td>...</td>\n",
              "      <td>4</td>\n",
              "      <td>3</td>\n",
              "      <td>4</td>\n",
              "      <td>1</td>\n",
              "      <td>1</td>\n",
              "      <td>3</td>\n",
              "      <td>6</td>\n",
              "      <td>5</td>\n",
              "      <td>6</td>\n",
              "      <td>6</td>\n",
              "    </tr>\n",
              "    <tr>\n",
              "      <th>2</th>\n",
              "      <td>GP</td>\n",
              "      <td>F</td>\n",
              "      <td>17</td>\n",
              "      <td>U</td>\n",
              "      <td>GT3</td>\n",
              "      <td>T</td>\n",
              "      <td>1</td>\n",
              "      <td>1</td>\n",
              "      <td>at_home</td>\n",
              "      <td>other</td>\n",
              "      <td>...</td>\n",
              "      <td>5</td>\n",
              "      <td>3</td>\n",
              "      <td>3</td>\n",
              "      <td>1</td>\n",
              "      <td>1</td>\n",
              "      <td>3</td>\n",
              "      <td>4</td>\n",
              "      <td>5</td>\n",
              "      <td>5</td>\n",
              "      <td>6</td>\n",
              "    </tr>\n",
              "    <tr>\n",
              "      <th>3</th>\n",
              "      <td>GP</td>\n",
              "      <td>F</td>\n",
              "      <td>15</td>\n",
              "      <td>U</td>\n",
              "      <td>LE3</td>\n",
              "      <td>T</td>\n",
              "      <td>1</td>\n",
              "      <td>1</td>\n",
              "      <td>at_home</td>\n",
              "      <td>other</td>\n",
              "      <td>...</td>\n",
              "      <td>4</td>\n",
              "      <td>3</td>\n",
              "      <td>2</td>\n",
              "      <td>2</td>\n",
              "      <td>3</td>\n",
              "      <td>3</td>\n",
              "      <td>10</td>\n",
              "      <td>7</td>\n",
              "      <td>8</td>\n",
              "      <td>10</td>\n",
              "    </tr>\n",
              "    <tr>\n",
              "      <th>4</th>\n",
              "      <td>GP</td>\n",
              "      <td>F</td>\n",
              "      <td>15</td>\n",
              "      <td>U</td>\n",
              "      <td>GT3</td>\n",
              "      <td>T</td>\n",
              "      <td>4</td>\n",
              "      <td>2</td>\n",
              "      <td>health</td>\n",
              "      <td>services</td>\n",
              "      <td>...</td>\n",
              "      <td>3</td>\n",
              "      <td>2</td>\n",
              "      <td>2</td>\n",
              "      <td>1</td>\n",
              "      <td>1</td>\n",
              "      <td>5</td>\n",
              "      <td>2</td>\n",
              "      <td>15</td>\n",
              "      <td>14</td>\n",
              "      <td>15</td>\n",
              "    </tr>\n",
              "  </tbody>\n",
              "</table>\n",
              "<p>5 rows × 33 columns</p>\n",
              "</div>\n",
              "      <button class=\"colab-df-convert\" onclick=\"convertToInteractive('df-eb8df24d-f97b-4ae3-9527-b7e322c77cf2')\"\n",
              "              title=\"Convert this dataframe to an interactive table.\"\n",
              "              style=\"display:none;\">\n",
              "        \n",
              "  <svg xmlns=\"http://www.w3.org/2000/svg\" height=\"24px\"viewBox=\"0 0 24 24\"\n",
              "       width=\"24px\">\n",
              "    <path d=\"M0 0h24v24H0V0z\" fill=\"none\"/>\n",
              "    <path d=\"M18.56 5.44l.94 2.06.94-2.06 2.06-.94-2.06-.94-.94-2.06-.94 2.06-2.06.94zm-11 1L8.5 8.5l.94-2.06 2.06-.94-2.06-.94L8.5 2.5l-.94 2.06-2.06.94zm10 10l.94 2.06.94-2.06 2.06-.94-2.06-.94-.94-2.06-.94 2.06-2.06.94z\"/><path d=\"M17.41 7.96l-1.37-1.37c-.4-.4-.92-.59-1.43-.59-.52 0-1.04.2-1.43.59L10.3 9.45l-7.72 7.72c-.78.78-.78 2.05 0 2.83L4 21.41c.39.39.9.59 1.41.59.51 0 1.02-.2 1.41-.59l7.78-7.78 2.81-2.81c.8-.78.8-2.07 0-2.86zM5.41 20L4 18.59l7.72-7.72 1.47 1.35L5.41 20z\"/>\n",
              "  </svg>\n",
              "      </button>\n",
              "      \n",
              "  <style>\n",
              "    .colab-df-container {\n",
              "      display:flex;\n",
              "      flex-wrap:wrap;\n",
              "      gap: 12px;\n",
              "    }\n",
              "\n",
              "    .colab-df-convert {\n",
              "      background-color: #E8F0FE;\n",
              "      border: none;\n",
              "      border-radius: 50%;\n",
              "      cursor: pointer;\n",
              "      display: none;\n",
              "      fill: #1967D2;\n",
              "      height: 32px;\n",
              "      padding: 0 0 0 0;\n",
              "      width: 32px;\n",
              "    }\n",
              "\n",
              "    .colab-df-convert:hover {\n",
              "      background-color: #E2EBFA;\n",
              "      box-shadow: 0px 1px 2px rgba(60, 64, 67, 0.3), 0px 1px 3px 1px rgba(60, 64, 67, 0.15);\n",
              "      fill: #174EA6;\n",
              "    }\n",
              "\n",
              "    [theme=dark] .colab-df-convert {\n",
              "      background-color: #3B4455;\n",
              "      fill: #D2E3FC;\n",
              "    }\n",
              "\n",
              "    [theme=dark] .colab-df-convert:hover {\n",
              "      background-color: #434B5C;\n",
              "      box-shadow: 0px 1px 3px 1px rgba(0, 0, 0, 0.15);\n",
              "      filter: drop-shadow(0px 1px 2px rgba(0, 0, 0, 0.3));\n",
              "      fill: #FFFFFF;\n",
              "    }\n",
              "  </style>\n",
              "\n",
              "      <script>\n",
              "        const buttonEl =\n",
              "          document.querySelector('#df-eb8df24d-f97b-4ae3-9527-b7e322c77cf2 button.colab-df-convert');\n",
              "        buttonEl.style.display =\n",
              "          google.colab.kernel.accessAllowed ? 'block' : 'none';\n",
              "\n",
              "        async function convertToInteractive(key) {\n",
              "          const element = document.querySelector('#df-eb8df24d-f97b-4ae3-9527-b7e322c77cf2');\n",
              "          const dataTable =\n",
              "            await google.colab.kernel.invokeFunction('convertToInteractive',\n",
              "                                                     [key], {});\n",
              "          if (!dataTable) return;\n",
              "\n",
              "          const docLinkHtml = 'Like what you see? Visit the ' +\n",
              "            '<a target=\"_blank\" href=https://colab.research.google.com/notebooks/data_table.ipynb>data table notebook</a>'\n",
              "            + ' to learn more about interactive tables.';\n",
              "          element.innerHTML = '';\n",
              "          dataTable['output_type'] = 'display_data';\n",
              "          await google.colab.output.renderOutput(dataTable, element);\n",
              "          const docLink = document.createElement('div');\n",
              "          docLink.innerHTML = docLinkHtml;\n",
              "          element.appendChild(docLink);\n",
              "        }\n",
              "      </script>\n",
              "    </div>\n",
              "  </div>\n",
              "  "
            ]
          },
          "metadata": {},
          "execution_count": 34
        }
      ]
    },
    {
      "cell_type": "markdown",
      "source": [
        "###[Step 2]: clean data set"
      ],
      "metadata": {
        "id": "sYL3j0qRpYDJ"
      }
    },
    {
      "cell_type": "code",
      "source": [
        "# [1.] Get string from the first row of every columns\n",
        "# reference: https://www.easytweaks.com/get-first-row-pandas-dataframe/\n",
        "ColumnName = dfmain.iloc[0].to_list()\n",
        "\n",
        "# [2.] Rename every column\n",
        "for i in range(len(ColumnName)):\n",
        "  dfmain.rename(columns={i:ColumnName[i]},inplace=True)\n",
        "\n",
        "# [3.] Drop first row\n",
        "dfmain=dfmain.drop([0], axis=0)\n",
        "\n",
        "# [4.] Change Data Type\n",
        "# reference: https://www.geeksforgeeks.org/change-data-type-for-one-or-more-columns-in-pandas-dataframe/\n",
        "# reference: https://statisticsglobe.com/convert-string-boolean-pandas-dataframe-column-python\n",
        "# reference: https://sparkbyexamples.com/pandas/pandas-convert-column-to-numpy-array/\n",
        "# reference: https://pandas.pydata.org/docs/reference/api/pandas.Series.map.html\n",
        "# reference: https://stackoverflow.com/questions/2468334/creating-dynamic-and-expandable-dictionaries-in-python\n",
        "# reference: https://favtutor.com/blogs/merge-dictionaries-python\n",
        "# reference: https://datagy.io/python-int-to-binary/\n",
        "\n",
        "# VectorName is used for indicate the meaning of the vector in each categorized data based column\n",
        "# VectorName = [[ColumnIndex,ColumnDict],...,[ColumnIndex,ColumnDict]]\n",
        "VectorName=[]\n",
        "\n",
        "# BinaryVector(lengh) is a function that is used for generate vector\n",
        "def BinaryVector(lengh):\n",
        "  mathbbR = math.ceil(math.log2(lengh))\n",
        "  categorization = []\n",
        "  for element in range(lengh):\n",
        "    binary = str(bin(element)).split('b')[1]\n",
        "    vector = []\n",
        "    for k in range(mathbbR-len(binary)):\n",
        "      vector.append(0)\n",
        "    for i in binary:\n",
        "      vector.append(int(i))\n",
        "    categorization.append(vector)\n",
        "  categorization=np.array(categorization)\n",
        "  return categorization\n",
        "\n",
        "# Change the data type of every column in dfmain\n",
        "for i in range(len(ColumnName)):\n",
        "  IsD=np.array(dfmain[ColumnName[i]])[0]\n",
        "  if IsD.isdigit():\n",
        "    # Change data type from String into Integer\n",
        "    dfmain[ColumnName[i]]=dfmain[ColumnName[i]].apply(pd.to_numeric)\n",
        "  else:\n",
        "    # Change data type from String into Vector that contains 0 and 1\n",
        "    dfColumn = dfmain[ColumnName[i]].to_numpy()\n",
        "    ListValue=list(np.sort(pd.Series(np.array(dfColumn)).value_counts().index.to_numpy()))\n",
        "    # Create Binary Vecotr Dictionary\n",
        "    Convert = { \"data\":[]}\n",
        "    Category=BinaryVector(len(ListValue))\n",
        "    for j in range(len(ListValue)):\n",
        "      ConvertData = {}\n",
        "      ConvertData[ListValue[j]] = Category[j]\n",
        "      Convert[\"data\"].append(ConvertData)\n",
        "    for k in range(len(Convert['data'])):\n",
        "      if (k!=0):\n",
        "        Convert['data'][k].update(Convert['data'][k-1])\n",
        "      else:\n",
        "        continue\n",
        "    # Update the dfmain and VectorName\n",
        "    VectorName.append([i,Convert['data'][-1]])\n",
        "    dfmain[ColumnName[i]] = dfmain[ColumnName[i]].map(dict(Convert['data'][-1]))"
      ],
      "metadata": {
        "id": "IJtMdVHL1R0K"
      },
      "execution_count": null,
      "outputs": []
    },
    {
      "cell_type": "code",
      "source": [
        "dfmain.head()"
      ],
      "metadata": {
        "colab": {
          "base_uri": "https://localhost:8080/"
        },
        "id": "xeJljQ_8Bjvi",
        "outputId": "cefd6682-b8ee-4e06-9d1e-f75f4ae4cb78"
      },
      "execution_count": null,
      "outputs": [
        {
          "output_type": "execute_result",
          "data": {
            "text/plain": [
              "  school  sex  age address famsize Pstatus  Medu  Fedu       Mjob       Fjob  \\\n",
              "1    [0]  [0]   18     [1]     [0]     [0]     4     4  [0, 0, 0]  [1, 0, 0]   \n",
              "2    [0]  [0]   17     [1]     [0]     [1]     1     1  [0, 0, 0]  [0, 1, 0]   \n",
              "3    [0]  [0]   15     [1]     [1]     [1]     1     1  [0, 0, 0]  [0, 1, 0]   \n",
              "4    [0]  [0]   15     [1]     [0]     [1]     4     2  [0, 0, 1]  [0, 1, 1]   \n",
              "5    [0]  [0]   16     [1]     [0]     [1]     3     3  [0, 1, 0]  [0, 1, 0]   \n",
              "\n",
              "   ... famrel freetime  goout  Dalc  Walc health absences  G1  G2  G3  \n",
              "1  ...      4        3      4     1     1      3        6   5   6   6  \n",
              "2  ...      5        3      3     1     1      3        4   5   5   6  \n",
              "3  ...      4        3      2     2     3      3       10   7   8  10  \n",
              "4  ...      3        2      2     1     1      5        2  15  14  15  \n",
              "5  ...      4        3      2     1     2      5        4   6  10  10  \n",
              "\n",
              "[5 rows x 33 columns]"
            ],
            "text/html": [
              "\n",
              "  <div id=\"df-0784ecdf-2045-454e-9bc8-43f3f56f0cf1\">\n",
              "    <div class=\"colab-df-container\">\n",
              "      <div>\n",
              "<style scoped>\n",
              "    .dataframe tbody tr th:only-of-type {\n",
              "        vertical-align: middle;\n",
              "    }\n",
              "\n",
              "    .dataframe tbody tr th {\n",
              "        vertical-align: top;\n",
              "    }\n",
              "\n",
              "    .dataframe thead th {\n",
              "        text-align: right;\n",
              "    }\n",
              "</style>\n",
              "<table border=\"1\" class=\"dataframe\">\n",
              "  <thead>\n",
              "    <tr style=\"text-align: right;\">\n",
              "      <th></th>\n",
              "      <th>school</th>\n",
              "      <th>sex</th>\n",
              "      <th>age</th>\n",
              "      <th>address</th>\n",
              "      <th>famsize</th>\n",
              "      <th>Pstatus</th>\n",
              "      <th>Medu</th>\n",
              "      <th>Fedu</th>\n",
              "      <th>Mjob</th>\n",
              "      <th>Fjob</th>\n",
              "      <th>...</th>\n",
              "      <th>famrel</th>\n",
              "      <th>freetime</th>\n",
              "      <th>goout</th>\n",
              "      <th>Dalc</th>\n",
              "      <th>Walc</th>\n",
              "      <th>health</th>\n",
              "      <th>absences</th>\n",
              "      <th>G1</th>\n",
              "      <th>G2</th>\n",
              "      <th>G3</th>\n",
              "    </tr>\n",
              "  </thead>\n",
              "  <tbody>\n",
              "    <tr>\n",
              "      <th>1</th>\n",
              "      <td>[0]</td>\n",
              "      <td>[0]</td>\n",
              "      <td>18</td>\n",
              "      <td>[1]</td>\n",
              "      <td>[0]</td>\n",
              "      <td>[0]</td>\n",
              "      <td>4</td>\n",
              "      <td>4</td>\n",
              "      <td>[0, 0, 0]</td>\n",
              "      <td>[1, 0, 0]</td>\n",
              "      <td>...</td>\n",
              "      <td>4</td>\n",
              "      <td>3</td>\n",
              "      <td>4</td>\n",
              "      <td>1</td>\n",
              "      <td>1</td>\n",
              "      <td>3</td>\n",
              "      <td>6</td>\n",
              "      <td>5</td>\n",
              "      <td>6</td>\n",
              "      <td>6</td>\n",
              "    </tr>\n",
              "    <tr>\n",
              "      <th>2</th>\n",
              "      <td>[0]</td>\n",
              "      <td>[0]</td>\n",
              "      <td>17</td>\n",
              "      <td>[1]</td>\n",
              "      <td>[0]</td>\n",
              "      <td>[1]</td>\n",
              "      <td>1</td>\n",
              "      <td>1</td>\n",
              "      <td>[0, 0, 0]</td>\n",
              "      <td>[0, 1, 0]</td>\n",
              "      <td>...</td>\n",
              "      <td>5</td>\n",
              "      <td>3</td>\n",
              "      <td>3</td>\n",
              "      <td>1</td>\n",
              "      <td>1</td>\n",
              "      <td>3</td>\n",
              "      <td>4</td>\n",
              "      <td>5</td>\n",
              "      <td>5</td>\n",
              "      <td>6</td>\n",
              "    </tr>\n",
              "    <tr>\n",
              "      <th>3</th>\n",
              "      <td>[0]</td>\n",
              "      <td>[0]</td>\n",
              "      <td>15</td>\n",
              "      <td>[1]</td>\n",
              "      <td>[1]</td>\n",
              "      <td>[1]</td>\n",
              "      <td>1</td>\n",
              "      <td>1</td>\n",
              "      <td>[0, 0, 0]</td>\n",
              "      <td>[0, 1, 0]</td>\n",
              "      <td>...</td>\n",
              "      <td>4</td>\n",
              "      <td>3</td>\n",
              "      <td>2</td>\n",
              "      <td>2</td>\n",
              "      <td>3</td>\n",
              "      <td>3</td>\n",
              "      <td>10</td>\n",
              "      <td>7</td>\n",
              "      <td>8</td>\n",
              "      <td>10</td>\n",
              "    </tr>\n",
              "    <tr>\n",
              "      <th>4</th>\n",
              "      <td>[0]</td>\n",
              "      <td>[0]</td>\n",
              "      <td>15</td>\n",
              "      <td>[1]</td>\n",
              "      <td>[0]</td>\n",
              "      <td>[1]</td>\n",
              "      <td>4</td>\n",
              "      <td>2</td>\n",
              "      <td>[0, 0, 1]</td>\n",
              "      <td>[0, 1, 1]</td>\n",
              "      <td>...</td>\n",
              "      <td>3</td>\n",
              "      <td>2</td>\n",
              "      <td>2</td>\n",
              "      <td>1</td>\n",
              "      <td>1</td>\n",
              "      <td>5</td>\n",
              "      <td>2</td>\n",
              "      <td>15</td>\n",
              "      <td>14</td>\n",
              "      <td>15</td>\n",
              "    </tr>\n",
              "    <tr>\n",
              "      <th>5</th>\n",
              "      <td>[0]</td>\n",
              "      <td>[0]</td>\n",
              "      <td>16</td>\n",
              "      <td>[1]</td>\n",
              "      <td>[0]</td>\n",
              "      <td>[1]</td>\n",
              "      <td>3</td>\n",
              "      <td>3</td>\n",
              "      <td>[0, 1, 0]</td>\n",
              "      <td>[0, 1, 0]</td>\n",
              "      <td>...</td>\n",
              "      <td>4</td>\n",
              "      <td>3</td>\n",
              "      <td>2</td>\n",
              "      <td>1</td>\n",
              "      <td>2</td>\n",
              "      <td>5</td>\n",
              "      <td>4</td>\n",
              "      <td>6</td>\n",
              "      <td>10</td>\n",
              "      <td>10</td>\n",
              "    </tr>\n",
              "  </tbody>\n",
              "</table>\n",
              "<p>5 rows × 33 columns</p>\n",
              "</div>\n",
              "      <button class=\"colab-df-convert\" onclick=\"convertToInteractive('df-0784ecdf-2045-454e-9bc8-43f3f56f0cf1')\"\n",
              "              title=\"Convert this dataframe to an interactive table.\"\n",
              "              style=\"display:none;\">\n",
              "        \n",
              "  <svg xmlns=\"http://www.w3.org/2000/svg\" height=\"24px\"viewBox=\"0 0 24 24\"\n",
              "       width=\"24px\">\n",
              "    <path d=\"M0 0h24v24H0V0z\" fill=\"none\"/>\n",
              "    <path d=\"M18.56 5.44l.94 2.06.94-2.06 2.06-.94-2.06-.94-.94-2.06-.94 2.06-2.06.94zm-11 1L8.5 8.5l.94-2.06 2.06-.94-2.06-.94L8.5 2.5l-.94 2.06-2.06.94zm10 10l.94 2.06.94-2.06 2.06-.94-2.06-.94-.94-2.06-.94 2.06-2.06.94z\"/><path d=\"M17.41 7.96l-1.37-1.37c-.4-.4-.92-.59-1.43-.59-.52 0-1.04.2-1.43.59L10.3 9.45l-7.72 7.72c-.78.78-.78 2.05 0 2.83L4 21.41c.39.39.9.59 1.41.59.51 0 1.02-.2 1.41-.59l7.78-7.78 2.81-2.81c.8-.78.8-2.07 0-2.86zM5.41 20L4 18.59l7.72-7.72 1.47 1.35L5.41 20z\"/>\n",
              "  </svg>\n",
              "      </button>\n",
              "      \n",
              "  <style>\n",
              "    .colab-df-container {\n",
              "      display:flex;\n",
              "      flex-wrap:wrap;\n",
              "      gap: 12px;\n",
              "    }\n",
              "\n",
              "    .colab-df-convert {\n",
              "      background-color: #E8F0FE;\n",
              "      border: none;\n",
              "      border-radius: 50%;\n",
              "      cursor: pointer;\n",
              "      display: none;\n",
              "      fill: #1967D2;\n",
              "      height: 32px;\n",
              "      padding: 0 0 0 0;\n",
              "      width: 32px;\n",
              "    }\n",
              "\n",
              "    .colab-df-convert:hover {\n",
              "      background-color: #E2EBFA;\n",
              "      box-shadow: 0px 1px 2px rgba(60, 64, 67, 0.3), 0px 1px 3px 1px rgba(60, 64, 67, 0.15);\n",
              "      fill: #174EA6;\n",
              "    }\n",
              "\n",
              "    [theme=dark] .colab-df-convert {\n",
              "      background-color: #3B4455;\n",
              "      fill: #D2E3FC;\n",
              "    }\n",
              "\n",
              "    [theme=dark] .colab-df-convert:hover {\n",
              "      background-color: #434B5C;\n",
              "      box-shadow: 0px 1px 3px 1px rgba(0, 0, 0, 0.15);\n",
              "      filter: drop-shadow(0px 1px 2px rgba(0, 0, 0, 0.3));\n",
              "      fill: #FFFFFF;\n",
              "    }\n",
              "  </style>\n",
              "\n",
              "      <script>\n",
              "        const buttonEl =\n",
              "          document.querySelector('#df-0784ecdf-2045-454e-9bc8-43f3f56f0cf1 button.colab-df-convert');\n",
              "        buttonEl.style.display =\n",
              "          google.colab.kernel.accessAllowed ? 'block' : 'none';\n",
              "\n",
              "        async function convertToInteractive(key) {\n",
              "          const element = document.querySelector('#df-0784ecdf-2045-454e-9bc8-43f3f56f0cf1');\n",
              "          const dataTable =\n",
              "            await google.colab.kernel.invokeFunction('convertToInteractive',\n",
              "                                                     [key], {});\n",
              "          if (!dataTable) return;\n",
              "\n",
              "          const docLinkHtml = 'Like what you see? Visit the ' +\n",
              "            '<a target=\"_blank\" href=https://colab.research.google.com/notebooks/data_table.ipynb>data table notebook</a>'\n",
              "            + ' to learn more about interactive tables.';\n",
              "          element.innerHTML = '';\n",
              "          dataTable['output_type'] = 'display_data';\n",
              "          await google.colab.output.renderOutput(dataTable, element);\n",
              "          const docLink = document.createElement('div');\n",
              "          docLink.innerHTML = docLinkHtml;\n",
              "          element.appendChild(docLink);\n",
              "        }\n",
              "      </script>\n",
              "    </div>\n",
              "  </div>\n",
              "  "
            ]
          },
          "metadata": {},
          "execution_count": 36
        }
      ]
    },
    {
      "cell_type": "code",
      "source": [
        "CategorizingColumn=[]\n",
        "for i in VectorName:\n",
        "  CategorizingColumn.append(i[0])\n",
        "#print([VectorName[-1][0]])\n",
        "#print(ColumnName[VectorName[-1][0]])\n",
        "\n",
        "ColumnDis=[]\n",
        "ColumnCon=[]\n",
        "\n",
        "for i in range(len(ColumnName)):\n",
        "  if i in CategorizingColumn:\n",
        "    ColumnDis.append(ColumnName[i])\n",
        "  else:\n",
        "    ColumnCon.append(ColumnName[i])"
      ],
      "metadata": {
        "id": "WsumuNfenD5N"
      },
      "execution_count": null,
      "outputs": []
    },
    {
      "cell_type": "code",
      "source": [
        "idx1 = pd.Index([31, 2, 3, 4])\n",
        "idx2 = pd.Index([31,12, 2,4, 5, 6])\n",
        "idx1.intersection(idx2)"
      ],
      "metadata": {
        "colab": {
          "base_uri": "https://localhost:8080/"
        },
        "id": "ifKT3nvGsSns",
        "outputId": "79f5538d-3a17-40ab-c657-4cefe1319b36"
      },
      "execution_count": null,
      "outputs": [
        {
          "output_type": "execute_result",
          "data": {
            "text/plain": [
              "Int64Index([31, 2, 4], dtype='int64')"
            ]
          },
          "metadata": {},
          "execution_count": 38
        }
      ]
    },
    {
      "cell_type": "code",
      "source": [
        "# [5.] Create multiples copy of a data frame, in order to display different types of logistic regression.\n",
        "\n",
        "# df = data frame\n",
        "# Col = Column\n",
        "# B = binary\n",
        "# M = multinomial\n",
        "# O = ordinal\n",
        "# Con = float = continue\n",
        "# Dis = integer = discrete\n",
        "# Te = evaluating data\n",
        "# Tr = training data\n",
        "# X = input\n",
        "# Y = Output\n",
        "\n",
        "# [5.A] Binary Logistic regression with continue input\n",
        "\n",
        "BConX=[ColumnCon[4]]\n",
        "BConY=[ColumnDis[-3]]\n",
        "\n",
        "dfBCon=dfmain.loc[:, dfmain.columns.intersection([BConX[0],BConY[0]])]\n",
        "\n",
        "# [5.B] Binary Logistic regression with discrete input\n",
        "\n",
        "BDisX=[ColumnDis[0]]\n",
        "BDisY=[ColumnDis[-3]]\n",
        "\n",
        "dfBDis=dfmain.loc[:, dfmain.columns.intersection([BDisX[0],BDisY[0]])]\n",
        "\n",
        "#dfBint=dfmain"
      ],
      "metadata": {
        "id": "tV_Vq5UNjhsT"
      },
      "execution_count": null,
      "outputs": []
    },
    {
      "cell_type": "markdown",
      "source": [
        "###[Step 3]: separate training data set from evaluating data set"
      ],
      "metadata": {
        "id": "WOxedwicpb0H"
      }
    },
    {
      "cell_type": "code",
      "source": [
        "# Separate training and evaluating data in order to evaluate how well the algorithm predict data out side its data set.\n",
        "\n",
        "def SeparateData(data,Ratio,nameY):\n",
        "\n",
        "  DataRatio = int(data.shape[0]*Ratio)\n",
        "  Data=data.sample(frac = 1)\n",
        "  TrainD= Data.iloc[:DataRatio]\n",
        "  TesttD= Data.iloc[DataRatio:]\n",
        "\n",
        "  TrainX=TrainD.drop(nameY, axis=1)\n",
        "  TrainY=TrainD[nameY]\n",
        "  TesttX=TesttD.drop(nameY, axis=1)\n",
        "  TesttY=TesttD[nameY]\n",
        "\n",
        "  #print('TrainX')\n",
        "  #print(TrainX)\n",
        "  #print('TesttX')\n",
        "  #print(TesttX)\n",
        "\n",
        "  return [TrainX,TrainY,TesttX,TesttY]\n",
        "\n",
        "# df = data frame\n",
        "# Col = Column\n",
        "# X = input\n",
        "# Y = Output\n",
        "# Te = evaluating data\n",
        "# Tr = training data\n",
        "# 1f = for single feature linear regression\n",
        "# mf = for multiple features linear regression\n",
        "\n",
        "# Data A\n",
        "DaDBCon=SeparateData(dfBCon,0.75,BConY[0])\n",
        "TrXBCon=DaDBCon[0]\n",
        "TrYBCon=DaDBCon[1]\n",
        "TeXBCon=DaDBCon[2]\n",
        "TeYBCon=DaDBCon[3]\n",
        "\n",
        "# Data B\n",
        "DaDBDis=SeparateData(dfBDis,0.75,BDisY[0])\n",
        "TrXBDis=DaDBDis[0]\n",
        "TrYBDis=DaDBDis[1]\n",
        "TeXBDis=DaDBDis[2]\n",
        "TeYBDis=DaDBDis[3]\n",
        "\n",
        "\n",
        "'''\n",
        "TrX=TrX1f\n",
        "TrY=TrY1f\n",
        "TeX=TeX1f\n",
        "TeX=TeY1f\n",
        "'''\n",
        "\n",
        "'''\n",
        "DaDmf=SeparateData(dfmf,0.75,ColY1f)\n",
        "TrXmf=DaDmf[0]\n",
        "TrYmf=DaDmf[1]\n",
        "TeXmf=DaDmf[2]\n",
        "TeYmf=DaDmf[3]\n",
        "'''"
      ],
      "metadata": {
        "id": "1opx44hFYY08",
        "colab": {
          "base_uri": "https://localhost:8080/"
        },
        "outputId": "b02ae90e-5db0-4af7-b83e-de39acfd6fad"
      },
      "execution_count": null,
      "outputs": [
        {
          "output_type": "execute_result",
          "data": {
            "text/plain": [
              "'\\nDaDmf=SeparateData(dfmf,0.75,ColY1f)\\nTrXmf=DaDmf[0]\\nTrYmf=DaDmf[1]\\nTeXmf=DaDmf[2]\\nTeYmf=DaDmf[3]\\n'"
            ],
            "application/vnd.google.colaboratory.intrinsic+json": {
              "type": "string"
            }
          },
          "metadata": {},
          "execution_count": 40
        }
      ]
    },
    {
      "cell_type": "markdown",
      "source": [
        "#Introduction of Logistic Regression"
      ],
      "metadata": {
        "id": "qhVJlNuDsfaG"
      }
    },
    {
      "cell_type": "markdown",
      "source": [
        "###Introduction of Logistic Regression"
      ],
      "metadata": {
        "id": "z-GEWYVo1ZFU"
      }
    },
    {
      "cell_type": "markdown",
      "source": [
        "**What is Logistic Regression?**\n",
        "\n",
        "Logistic regression is a supervised learning algorithm used to predict a dependent categorical target variable. In essence, if you have a large set of data that you want to categorize, logistic regression may be able to help. (https://www.mastersindatascience.org/learning/machine-learning-algorithms/logistic-regression/)"
      ],
      "metadata": {
        "id": "BtANtY5G1dXV"
      }
    },
    {
      "cell_type": "markdown",
      "source": [
        "**Type of Logistic Regression**\n",
        "1. Binary logistic regression\n",
        "* This algorithm compute the input $X$ into output $y$, where $y$ only means true or false.\n",
        "* $y\\in \\{0,1\\}$\n",
        "* e.g. Is this picture has a dog? etc.\n",
        "2. Multinomial logistic regression\n",
        "* e.g.\n",
        "* Classifying texts into what language they come from.\n",
        "* Predicting whether a student will go to college, trade school or into the workforce.\n",
        "* Does your cat prefer wet food, dry food or human food?\n",
        "* etc.\n",
        "3. Ordinal logistic regression\n",
        "* Ordinal logistic regression is also a model where there are multiple classes that an item can be classified as; however, in this case an ordering of classes is required. Classes do not need to be proportionate. The distance between each class can vary.\n",
        "* e.g. Movies Rate etc.\n",
        "\n",
        "reference: https://www.mastersindatascience.org/learning/machine-learning-algorithms/logistic-regression/"
      ],
      "metadata": {
        "id": "WkU21g9AWSfK"
      }
    },
    {
      "cell_type": "markdown",
      "source": [
        "**Why we do not use linear regression in this case?**\n",
        "\n",
        "Linear Regression can only be used for predicting the relationship between continuous variable.\n",
        "\n",
        "This algorithm is not good for classification task because\n",
        "* In this case, output data can be classify into 2 values $\\{0,1\\}$, the linear regression algorithmn do not predict output data accuratly at all.\n",
        "* In theory, $h(x)$ should be $0\\leq h(x)\\leq 1$ for boolean classification problem."
      ],
      "metadata": {
        "id": "x4ZM6wNz3Oqn"
      }
    },
    {
      "cell_type": "markdown",
      "source": [
        "**What I will do in this tutorial?**\n",
        "* I will demonstrate how to use Logistic Regression to predict the relationship between continue $x$ variable and discrete $y$ variable."
      ],
      "metadata": {
        "id": "UG-LgEligdhK"
      }
    },
    {
      "cell_type": "markdown",
      "source": [
        "**Step**\n",
        "1. Creating Hypothesis Function\n",
        "2. Creating Evaluating Function\n",
        "3. Creating Optimization Function\n",
        "4. Evaluate the accuracy of the model"
      ],
      "metadata": {
        "id": "u4Yq7FV96rgL"
      }
    },
    {
      "cell_type": "markdown",
      "source": [
        "**Note**\n",
        "* Both linear regression and logistic regression are linear model."
      ],
      "metadata": {
        "id": "hiHQwvOhEcht"
      }
    },
    {
      "cell_type": "markdown",
      "source": [
        "###Linear Algebra Notation"
      ],
      "metadata": {
        "id": "XdN5jVnRgFPh"
      }
    },
    {
      "cell_type": "markdown",
      "source": [
        "**Linear algebra notation**\n",
        "\n",
        "**Vector Space**\n",
        "\n",
        "Vector Space = a space comprised of vectors, collectively with the associative and commutative law of addition of vectors and also the associative and distributive process of multiplication of vectors by scalars is called vector space. (https://byjus.com/maths/vector-space/)\n",
        "1. $\\vec{a_m}+\\vec{b_m}=\\vec{b_m}+\\vec{a_m}\\in\\mathbb{R^m}$\n",
        "2. $c\\vec{v_m}=\\vec{v_m}c\\in\\mathbb{R^m}$\n",
        "\n",
        "**Vector Space Notation**\n",
        "\n",
        "* $a\\in\\mathbb{R}$\n",
        "* $\\vec{a}_m\\in\\mathbb{R^m}$\n",
        "* $A_{m\\times n}\\in\\mathbb{R^{m\\times n}}$\n",
        "* $1_{m\\times n}\\in\\mathbb{R^{m\\times n}}=$ matrix that have only $1$ as its elements.\n",
        "* $a^{\\{n\\}}=a$ no. $n$ which is $\\in\\mathbb{R}$\n",
        "* $\\vec{a}_m^{\\{n\\}}=$ vector $a$ no. $n$ which is $\\in\\mathbb{R^m}$\n",
        "* $a^n=\\Pi_{i=1}^n a$\n",
        "* $\\vec{a}_m^n=\\Pi_{i=1}^n\\vec{a}_m$\n",
        "\n",
        "**Transpose**\n",
        "* $A_{m\\times n}\\implies A^T_{n\\times m}$\n",
        "\n",
        "**Dot product**\n",
        "\n",
        "* $\\vec{a_n}\\cdot\\vec{b_n}=\\sum_{i=1}^na^{\\{i\\}}b^{\\{i\\}}$\n",
        "\n",
        "**Matrix Multiplication**\n",
        "\n",
        "$R_{n\\times m}\\cdot C_{m\\times q}=P_{n\\times q}$\n",
        "\n",
        "$\\vec{r_m}^{\\{i\\leq n\\}}\\cdot\\vec{c_m}^{\\{j\\leq q\\}}=p^{\\{i\\leq n, j\\leq q\\}}$\n",
        "\n",
        "* $\\vec{r_m}^{\\{i\\leq n\\}}=$ row vector of matrix $R_{n\\times m}$ no.$i$\n",
        "* $\\vec{c_m}^{\\{j\\leq q\\}}=$ column vector of matrix $C_{m\\times q}$ no.$j$\n",
        "* $i,j\\in\\mathbb{Z}$\n",
        "* $i\\in[1,n]$\n",
        "* $j\\in[1,p]$\n",
        "\n",
        "reference: https://www.mathsisfun.com/algebra/matrix-multiplying.html"
      ],
      "metadata": {
        "id": "7_zBblwCZoLG"
      }
    },
    {
      "cell_type": "markdown",
      "source": [
        "#Binary Logistic Regression"
      ],
      "metadata": {
        "id": "b4iB-wZSsrrg"
      }
    },
    {
      "cell_type": "markdown",
      "source": [
        "###[Step 1]: Creating Hypothesis Function and define variables"
      ],
      "metadata": {
        "id": "5rZkJITc6-Lu"
      }
    },
    {
      "cell_type": "markdown",
      "source": [
        "**Here are the initial variable**"
      ],
      "metadata": {
        "id": "GrKdpyrtFzYV"
      }
    },
    {
      "cell_type": "code",
      "source": [
        "ColX=BConX[0]\n",
        "ColY=BConY[0]\n",
        "df=dfBCon\n",
        "TrX=TrXBCon\n",
        "TrY=TrYBCon\n",
        "TeX=TeXBCon\n",
        "TeY=TeYBCon"
      ],
      "metadata": {
        "id": "gH19gbSuRuv7"
      },
      "execution_count": null,
      "outputs": []
    },
    {
      "cell_type": "markdown",
      "source": [
        "Note:\n",
        "* $\\theta =\\vec{h}$\n",
        "* Personally, I like $\\vec{h}$ than $\\theta$ because it makes me realize that $\\vec{h}$ is a vector."
      ],
      "metadata": {
        "id": "kdg0xJNF4QIt"
      }
    },
    {
      "cell_type": "markdown",
      "source": [
        "**Hypothesis Function**\n",
        "\n",
        "* $h(\\vec{x}_n)=\\frac{1}{1 + \\exp({-\\vec{h_n}\\cdot\\vec{x_n}-h^{\\{0\\}}})}=$ Probability $\\in[0,1]$\n",
        "* $\\exp(c)=e^c$\n",
        "* $\\vec{h_n}=$ coefficient of hypothesis function\n",
        "* $h^{\\{0\\}}=$ intercept of hypothesis function\n",
        "* $n=$ number of all features\n",
        "\n",
        "**Hypothesis Function in $\\mathbb{R^{n+1}}$ form**\n",
        "\n",
        "* $h(\\vec{x}_{n+1})=\\frac{1}{1 + \\exp({-\\vec{h}_{n+1}\\cdot\\vec{x}_{n+1}})}=$ Probability $\\in[0,1]$\n",
        "* $x^{\\{0\\}}=1$\n",
        "\n",
        "**Note: In this case**\n",
        "* $h(\\vec{x})=\\frac{1}{1 + \\exp(-(x^{\\{1\\}}*h^{\\{1\\}}+h^{\\{0\\}}))}$\n",
        "* $h(x^{\\{1\\}})=$ The probability that the student have Higher_Education (Output)\n",
        "* $x^{\\{1\\}}$ = Grade score of the student (Input)\n",
        "\n",
        "**Output of $h(x)$:**\n",
        "* $\\vec{h}_{n+1}\\cdot\\vec{x}_{n+1}\\geq0\\implies h(\\vec{x}_{n+1})=\\frac{1}{1 + \\exp(-|\\vec{h}_{n+1}\\cdot\\vec{x}_{n+1}|)}\\geq0.5\\implies y=1$\n",
        "* $\\vec{h}_{n+1}\\cdot\\vec{x}_{n+1}<0\\implies h(\\vec{x}_{n+1})=\\frac{1}{1 + \\exp(|\\vec{h}_{n+1}\\cdot\\vec{x}_{n+1}|)}<0.5\\implies y=0$"
      ],
      "metadata": {
        "id": "NmkQxcj03-SJ"
      }
    },
    {
      "cell_type": "markdown",
      "source": [
        "**Hypothesis function that predicts all data from each row.**\n",
        "\n",
        "$h_m(X_{m\\times n+1})=\\frac{\\vec{1}_m}{\\vec{1}_m+\\exp(X_{m\\times n+1}\\cdot\\vec{h}_{n+1})}$\n",
        "* $\\vec{X}_{n+1}^{\\{0\\}}=\\vec{1}_{n+1}$\n",
        "* $m=$ number of all rows of the data frame"
      ],
      "metadata": {
        "id": "uA98rhCb3Pq9"
      }
    },
    {
      "cell_type": "markdown",
      "source": [
        "**Here is the Python implementation**"
      ],
      "metadata": {
        "id": "n7MmmwmTI8e9"
      }
    },
    {
      "cell_type": "code",
      "source": [
        "def HypothesisFunction(x1,h0,h1):\n",
        "  return 1/(1+np.exp(-(x1*h1+h0)))"
      ],
      "metadata": {
        "id": "Ot3sMlSyJDLz"
      },
      "execution_count": null,
      "outputs": []
    },
    {
      "cell_type": "markdown",
      "source": [
        "**Q: Why using $e$?**\n",
        "\n",
        "A: For mathematical simplicity and convenience.\n",
        "* $e^x=\\exp(x)$\n",
        "* $\\frac{d}{dx}[e^x]=e^x$\n",
        "\n",
        "reference: \n",
        "* https://www.quora.com/Why-is-logistic-regression-based-on-the-exponential-function-Where-did-the-exponential-function-come-from-anyway\n",
        "* https://stats.stackexchange.com/questions/338702/why-do-we-use-the-natural-exponential-in-logistic-regression"
      ],
      "metadata": {
        "id": "L3Ay0Bg7UL8c"
      }
    },
    {
      "cell_type": "markdown",
      "source": [
        "###[Step 2]: Creating Evaluation Function"
      ],
      "metadata": {
        "id": "SbEQfexwAA6u"
      }
    },
    {
      "cell_type": "markdown",
      "source": [
        "Keyword\n",
        "* Evaluation Function = Cost Function\n",
        "* Square Error Function = Evaluation Function of Linear Regression = Cost Function of Linear Regression"
      ],
      "metadata": {
        "id": "1k09rnckfWhH"
      }
    },
    {
      "cell_type": "markdown",
      "source": [
        "**Evaluating Function No.1**\n",
        "\n",
        "$J(\\vec{h_{n+1}})=\\frac{1}{m}\\Sigma_{i=1}^m C(h(\\vec{x_n}^{\\{i\\}}),y^{\\{i\\}})$\n",
        "\n",
        "* $y=1\\implies C(h(\\vec{x_n}^{\\{i\\}}),1)=-\\ln(h(\\vec{x}_n))$\n",
        "* $y=0\\implies C(h(\\vec{x_n}^{\\{i\\}}),0)=-\\ln(1-h(\\vec{x}))$\n",
        "\n",
        "**Evaluating Function No.2**\n",
        "\n",
        "$J(\\vec{h}_{n+1})=-\\frac{1}{m}\\Sigma_{i=1}^m[y^{\\{i\\}}*\\ln(h(\\vec{x_{n+1}}^{\\{i\\}}))+(1-y^{\\{i\\}})\\ln(\\vec{1}_{n+1}-h(\\vec{x_{n+1}}^{\\{i\\}}))]$\n",
        "\n",
        "* $y=1\\implies J(\\vec{h}))=-\\frac{1}{m}\\Sigma_{i=1}^m[\\ln(h(\\vec{x_{n+1}}^{\\{i\\}}))+0]$\n",
        "* $y=0\\implies J(\\vec{h}))=-\\frac{1}{m}\\Sigma_{i=1}^m[0+\\ln(1-h(\\vec{x_{n+1}}^{\\{i\\}}))]$\n",
        "\n",
        "**Evaluating Function No.3**\n",
        "\n",
        "$J(\\vec{h}_{n+1})=-\\frac{1}{m}\\,\\,(\\vec{y}_m\\cdot\\ln(h_m(X_{m\\times n+1}))+(\\vec{1}_m-\\vec{y}_m)\\cdot\\ln(\\vec{1}_m-h_m(X_{m\\times n+1})))$\n",
        "\n",
        "* $h_m(X_{m\\times n+1})=\\frac{\\vec{1}_m}{\\vec{1}_m+\\exp(X_{m\\times n+1}\\cdot\\vec{h}_{n+1})}$\n",
        "* $m=$ number of all training data samples\n",
        "\n",
        "**Evaluating Function No.4**\n",
        "\n",
        "$J(\\vec{h}_{n+1})=-\\frac{1}{m}\\,\\,(\\vec{y}_m\\cdot\\ln(\\frac{\\vec{1}_m}{\\vec{1}_m+\\exp(X_{m\\times n+1}\\cdot\\vec{h}_{n+1})})+(\\vec{1}_m-\\vec{y}_m)\\cdot\\ln(\\vec{1}_m-\\frac{\\vec{1}_m}{\\vec{1}_m+\\exp(X_{m\\times n+1}\\cdot\\vec{h}_{n+1})}))$"
      ],
      "metadata": {
        "id": "fGDffovhAed7"
      }
    },
    {
      "cell_type": "markdown",
      "source": [
        "**Here is the Python implementation**"
      ],
      "metadata": {
        "id": "cedBas_lJNag"
      }
    },
    {
      "cell_type": "code",
      "source": [
        "def HypothesisFunction(x1,h0,h1):\n",
        "  return 1/(1+np.exp(-(x1*h1+h0)))\n",
        "\n",
        "# 1/(1+np.exp(-(xline*2-3)))\n",
        "\n",
        "def EvaluationFunction(data,ind_x,ind_y,h0=0,h1=0):\n",
        "  num=0\n",
        "  for i in range(data.shape[0]):\n",
        "    num-=data.iat[i,ind_y]*np.emath.log(HypothesisFunction(data.iat[i,ind_x],h0,h1))+(1-data.iat[i,ind_y])*np.emath.log(1-HypothesisFunction(data.iat[i,ind_x],h0,h1))\n",
        "  num*=(1/data.shape[0])\n",
        "  return num\n",
        "\n",
        "# Here is the data.\n",
        "# How do I enforce a square grid in matplotlib? reference: https://stackoverflow.com/questions/50158333/how-do-i-enforce-a-square-grid-in-matplotlib\n",
        "plt.grid()\n",
        "\n",
        "# Add labels to the x- and y-axis.\n",
        "plt.xlabel(ColX)\n",
        "plt.ylabel(ColY)\n",
        "\n",
        "# Data is plotted.\n",
        "plt.scatter(df[ColX], df[ColY])\n",
        "\n",
        "# Here is the hypothesis function a.k.a. prediction function.\n",
        "Hi=[0.4,1.055]\n",
        "xline = np.arange(0, 4.1,0.5)\n",
        "yline = HypothesisFunction(xline,Hi[0],Hi[1])\n",
        "plt.plot(xline, yline, color='blue')\n",
        "\n",
        "plt.show()\n",
        "\n",
        "print(EvaluationFunction(df,0,1,h0=Hi[0],h1=Hi[1]))"
      ],
      "metadata": {
        "colab": {
          "base_uri": "https://localhost:8080/",
          "height": 467
        },
        "outputId": "8463f53a-e30e-4185-c7fd-52586c8ca82e",
        "id": "VD0Eao1N40OH"
      },
      "execution_count": null,
      "outputs": [
        {
          "output_type": "display_data",
          "data": {
            "text/plain": [
              "<Figure size 640x480 with 1 Axes>"
            ],
            "image/png": "[encoded data removed]"
          },
          "metadata": {}
        },
        {
          "output_type": "stream",
          "name": "stdout",
          "text": [
            "[0.19522913]\n"
          ]
        }
      ]
    },
    {
      "cell_type": "markdown",
      "source": [
        "**Q: Why doing this? $y=1\\implies\\ln(h(\\vec{x}))$ and $y=0\\implies\\ln(1-h(\\vec{x}))$**\n",
        "\n",
        "A: \n",
        "\n",
        "According to Logarithm: $a^b=c\\implies\\log_a(c)=b$\n",
        "\n",
        "$\\therefore a^0=1\\implies\\log_a(1)=0\\implies\\lim_{c\\to1}\\log_a(c)=0$\n",
        "\n",
        "Given that:\n",
        "* $h(\\vec{x})\\in[0,1]$\n",
        "* $h(\\vec{x})\\geq0.5\\implies y=1\\implies \\ln(h(\\vec{x}))\\to0$\n",
        "* $h(\\vec{x})<0.5\\implies y=0\\implies \\ln(1-h(\\vec{x}))\\to0$"
      ],
      "metadata": {
        "id": "byD2aBb4d1nb"
      }
    },
    {
      "cell_type": "markdown",
      "source": [
        "**Q: Why we do not use square error function? Why $J(\\vec{h})\\neq\\frac{1}{2m}\\sum_{i=1}^m(h(x^{\\{i\\}})-y^{\\{i\\}})^2$?**\n",
        "\n",
        "A: $\\frac{1}{2m}\\sum_{i=1}^m(h(x^{\\{i\\}})-y^{\\{i\\}})^2$ is not suitable with logistic regression because the value of $y$ is not continueous. If the square error function is ploted on nD cartesian plane. Then, the function will display multiple local minimums, which interrupt gradient descent from finding the global minimum."
      ],
      "metadata": {
        "id": "BzafrdvebZ4W"
      }
    },
    {
      "cell_type": "markdown",
      "source": [
        "**Q: Why $-(...)$?**\n",
        "\n",
        "A: \n",
        "\n",
        "Given that:\n",
        "* $h(\\vec{x})\\in[0,1]$\n",
        "\n",
        "According to Logarithm: $a^b=c\\implies\\log_a(c)=b$\n",
        "\n",
        "$0<a^b=c\\leq1\\implies \\log_a(c)=b\\leq0$\n",
        "\n",
        "$\\therefore \\frac{1}{m}\\Sigma_{i=1}^m[y_i*\\log(h(\\vec{x}))+(1-y_i)\\log(1-h(\\vec{x}))]\\leq0$\n",
        "\n",
        "For make things easier, $\\frac{1}{m}\\Sigma_{i=1}^m[y_i*\\log(h(\\vec{x}))+(1-y_i)\\log(1-h(\\vec{x}))]*-1\\geq0$"
      ],
      "metadata": {
        "id": "m-8HDoL1B0Ix"
      }
    },
    {
      "cell_type": "markdown",
      "source": [
        "**Q: Why $\\ln(x)$?**\n",
        "\n",
        "A: For mathematical simplicity\n",
        "\n",
        "* $\\frac{d}{dx}[\\ln(x)]=\\frac1x$"
      ],
      "metadata": {
        "id": "9bhe-XdIrJrH"
      }
    },
    {
      "cell_type": "code",
      "source": [
        "import math\n",
        "from mpl_toolkits import mplot3d\n",
        "from matplotlib.pyplot import figure\n",
        "\n",
        "# Here is the data.\n",
        "# How do I enforce a square grid in matplotlib? reference: https://stackoverflow.com/questions/50158333/how-do-i-enforce-a-square-grid-in-matplotlib\n",
        "plt.grid()\n",
        "\n",
        "def HypothesisFunction(x1,h0,h1):\n",
        "  return 1/(1+np.exp(-(x1*h1+h0)))\n",
        "\n",
        "def EvaluationFunction(data,ind_x,ind_y,h0=0,h1=0):\n",
        "  num=0\n",
        "  for i in range(data.shape[0]):\n",
        "    num-=data.iat[i,ind_y]*np.emath.log(HypothesisFunction(data.iat[i,ind_x],h0,h1))+(1-data.iat[i,ind_y])*np.emath.log(1-HypothesisFunction(data.iat[i,ind_x],h0,h1))\n",
        "  num*=(1/data.shape[0])\n",
        "  return num\n",
        "'''\n",
        "# This is the evaluation function of linear regression\n",
        "def LineR_Evaluation_1f(data,ind_x,ind_y,h0=0,h1=0):#m,c):\n",
        "    # size of training data = dfM.shape[0]\n",
        "    # x_i = dfM.iat[i,0]\n",
        "    # y_i = dfM.iat[i,1]\n",
        "    sigma =0\n",
        "    for i in range(data.shape[0]):\n",
        "      sigma +=pow((data.iat[i,ind_x]*h0+h1-data.iat[i,ind_y]),2)\n",
        "    return (1/(2*data.shape[0]))*sigma'''\n",
        "\n",
        "N = 300\n",
        "M = 300\n",
        "\n",
        "x_values = np.linspace(-10, 20, N)\n",
        "y_values = np.linspace(-10, 20, M)\n",
        "\n",
        "X, Y = np.meshgrid(x_values, y_values)\n",
        "Z = EvaluationFunction(df,0,1,h0=X,h1=Y)\n",
        "#Z = LineR_Evaluation_1f(df,0,1,h0=X,h1=Y)\n",
        "\n",
        "# Plotting 3D Data.\n",
        "ax = plt.axes(projection='3d')\n",
        "ax.plot_surface(X,Y,Z);\n",
        "\n",
        "ax.set_xlabel('h1')\n",
        "ax.set_ylabel('h0')\n",
        "ax.set_zlabel('Evaluation Function')\n",
        "ax.view_init(45,45);\n",
        "\n",
        "def countNaN(arr):\n",
        "  isnan=0\n",
        "  isnum=0\n",
        "  for i in arr:\n",
        "    for j in i:\n",
        "      if math.isnan(j)==True:\n",
        "        isnan+=1\n",
        "      else:\n",
        "        isnum+=1\n",
        "  print('Is not a Number='+str(isnan))\n",
        "  print('Is a Number='+str(isnum))\n",
        "countNaN(Z)\n",
        "# IsNan=6097\n",
        "# IsNum=3903"
      ],
      "metadata": {
        "colab": {
          "base_uri": "https://localhost:8080/",
          "height": 562
        },
        "outputId": "4afb6c3a-125d-4d62-b5ba-0f99cb3eb7e4",
        "id": "7zkEINuZqNo9"
      },
      "execution_count": null,
      "outputs": [
        {
          "output_type": "stream",
          "name": "stderr",
          "text": [
            "/usr/local/lib/python3.10/dist-packages/numpy/lib/scimath.py:287: RuntimeWarning: divide by zero encountered in log\n",
            "  return nx.log(x)\n",
            "<ipython-input-44-0328ff482849>:15: RuntimeWarning: invalid value encountered in multiply\n",
            "  num-=data.iat[i,ind_y]*np.emath.log(HypothesisFunction(data.iat[i,ind_x],h0,h1))+(1-data.iat[i,ind_y])*np.emath.log(1-HypothesisFunction(data.iat[i,ind_x],h0,h1))\n"
          ]
        },
        {
          "output_type": "stream",
          "name": "stdout",
          "text": [
            "Is not a Number=36225\n",
            "Is a Number=53775\n"
          ]
        },
        {
          "output_type": "display_data",
          "data": {
            "text/plain": [
              "<Figure size 640x480 with 2 Axes>"
            ],
            "image/png": "[encoded data removed]"
          },
          "metadata": {}
        }
      ]
    },
    {
      "cell_type": "markdown",
      "source": [
        "**Why graph show only half of a function?**\n",
        "\n",
        "Note that:\n",
        "* $a\\in\\mathbb{R}, \\log_a(0)=$ Undefined\n",
        "* $\\lim_{h\\to0}\\log_a(h)=$ Undefined because there are no values to the left of 0 in the domain of $\\log_a(h)$ (reference: https://www.mathway.com/Calculus)\n"
      ],
      "metadata": {
        "id": "f1RQMolQKu1e"
      }
    },
    {
      "cell_type": "markdown",
      "source": [
        "###[Step 3.1]: Create Optimization Function using Gradient Descent"
      ],
      "metadata": {
        "id": "Ex89snspbsCz"
      }
    },
    {
      "cell_type": "markdown",
      "source": [
        "**[1.] Gradient descent of logistic repression**\n",
        "\n",
        "Gradient descent is an optimization algorithm which is used for minimizing error value of the evaluation function\n",
        "\n",
        "$\\vec{h}_n:=\\vec{h}_n-a*\\frac{\\partial}{\\partial \\vec{h}_n}J_n(\\vec{h}_n)$\n",
        "\n",
        "$h^{\\{0\\}}:=h^{\\{0\\}}-a*\\frac{\\partial}{\\partial h^{\\{0\\}}}J(h^{\\{0\\}})$\n",
        "\n",
        "* $a=$ learning rate\n",
        "* $J_n()=$ Evaluation Function\n",
        "* $n=$ number of all features\n",
        "* $h^{\\{0\\}}=$ intercept"
      ],
      "metadata": {
        "id": "Kxt7m4jhiJCN"
      }
    },
    {
      "cell_type": "markdown",
      "source": [
        "**[2.] Find $\\frac{\\partial}{\\partial \\vec{h}_{n+1}}[h(\\vec{h}_n,h^{\\{0\\}})]=\\frac{\\partial}{\\partial \\vec{h}_{n+1}}[\\frac{1}{1+\\exp(-\\vec{x_n}\\cdot\\vec{h_n}-h^{\\{0\\}})}]$**\n",
        "\n",
        "$h(\\vec{h_n},h^{\\{0\\}})=\\frac{1}{1+\\exp(-\\vec{x_n}\\cdot\\vec{h_n}-h^{\\{0\\}})}=\\frac{1}{1+\\exp(-\\vec{x}_{n+1}\\cdot{\\vec{h}_{n+1}})}, x^{\\{0\\}}=1$\n",
        "\n",
        "Given that:\n",
        "$\\begin{bmatrix}f(h)=h^{-1}&\\,& f'(x)=-h^{-2} &\\,& f'(...)=-(1+\\exp(-\\vec{x}_{+1}\\cdot\\vec{h}_{n+1}))^{-2}\\\\g_1(h)=h+1&\\,& g_1'(h)=1 &\\,& g_1'(...)=1\\\\g_2(h)=\\exp(h)&\\,& g_2'(h)=\\exp(h) &\\,& g_2'(...)=\\exp(-\\vec{x}_{n+1}\\cdot\\vec{h_{n+1}})\\\\g_3(h)=-xh-c&\\,& g_3'(h)=-x &\\,& g_3'(...)=-\\vec{x}_{n+1}\\end{bmatrix}$\n",
        "\n",
        "According to Chain Rule: $\\frac{d}{dx}[f(g(x))] = (f\\circ g)'= f'(g(x))*g'(x)$\n",
        "\n",
        "$\\therefore\\frac{\\partial}{\\partial \\vec{h}_{n+1}}[\\frac{1}{1+\\exp(-\\vec{x_n}\\cdot\\vec{h_n}+h^{\\{0\\}})}]=f'(...)g_1'(...)g_2'(...)g_3'(...)$\n",
        "\n",
        "$\\frac{\\partial}{\\partial \\vec{h}_{n+1}}[\\frac{1}{1+\\exp(-\\vec{x_n}\\cdot\\vec{h_n}+h^{\\{0\\}})}]=-(1+\\exp(-\\vec{x}_{n+1}\\cdot\\vec{h}_{n+1}))^{-2}\\exp(-\\vec{x}_{n+1}\\cdot\\vec{h_{n+1}})(-\\vec{x}_{n+1})$\n",
        "\n",
        "$\\frac{\\partial}{\\partial \\vec{h}_{n+1}}[\\frac{1}{1+\\exp(-\\vec{x_n}\\cdot\\vec{h_n}+h^{\\{0\\}})}]=(1+\\exp(-\\vec{x}_{n+1}\\cdot\\vec{h}_{n+1}))^{-2}\\exp(-\\vec{x}_{n+1}\\cdot\\vec{h_{n+1}})(\\vec{x}_{n+1})$\n",
        "\n",
        "$\\frac{\\partial}{\\partial \\vec{h}_{n+1}}[\\frac{1}{1+\\exp(-\\vec{x_n}\\cdot\\vec{h_n}+h^{\\{0\\}})}]=\\frac{\\exp(-\\vec{x}_{n+1}\\cdot\\vec{h_{n+1}})(\\vec{x}_{n+1})}{(1+\\exp(-\\vec{x}_{n+1}\\cdot\\vec{h}_{n+1}))^2}$\n",
        "\n",
        "$\\frac{\\partial}{\\partial \\vec{h}_{n+1}}[\\frac{1}{1+\\exp(-\\vec{x_n}\\cdot\\vec{h_n}+h^{\\{0\\}})}]=\\frac{\\exp(-\\vec{x}_{n+1}\\cdot\\vec{h_{n+1}})(\\vec{x}_{n+1})+(\\vec{x}_{n+1})-(\\vec{x}_{n+1})}{(1+\\exp(-\\vec{x}_{n+1}\\cdot\\vec{h}_{n+1}))^2}$\n",
        "\n",
        "$\\frac{\\partial}{\\partial \\vec{h}_{n+1}}[\\frac{1}{1+\\exp(-\\vec{x_n}\\cdot\\vec{h_n}+h^{\\{0\\}})}]=\\frac{\\exp(-\\vec{x}_{n+1}\\cdot\\vec{h_{n+1}})(\\vec{x}_{n+1})+(\\vec{x}_{n+1})}{(1+\\exp(-\\vec{x}_{n+1}\\cdot\\vec{h}_{n+1}))^2}-\\frac{(\\vec{x}_{n+1})}{(1+\\exp(-\\vec{x}_{n+1}\\cdot\\vec{h}_{n+1}))^2}$\n",
        "\n",
        "$\\frac{\\partial}{\\partial \\vec{h}_{n+1}}[\\frac{1}{1+\\exp(-\\vec{x_n}\\cdot\\vec{h_n}+h^{\\{0\\}})}]=\\frac{\\vec{x}_{n+1}}{(1+\\exp(-\\vec{x}_{n+1}\\cdot\\vec{h}_{n+1}))}(\\frac{{(1+\\exp(-\\vec{x}_{n+1}\\cdot\\vec{h}_{n+1}))}}{(1+\\exp(-\\vec{x}_{n+1}\\cdot\\vec{h}_{n+1}))}-\\frac{1}{(1+\\exp(-\\vec{x}_{n+1}\\cdot\\vec{h}_{n+1}))})$\n",
        "\n",
        "$\\frac{\\partial}{\\partial \\vec{h}_{n+1}}[\\frac{1}{1+\\exp(-\\vec{x_n}\\cdot\\vec{h_n}+h^{\\{0\\}})}]=\\frac{\\vec{x}_{n+1}}{(1+\\exp(-\\vec{x}_{n+1}\\cdot\\vec{h}_{n+1}))}(1-\\frac{1}{(1+\\exp(-\\vec{x}_{n+1}\\cdot\\vec{h}_{n+1}))})$\n",
        "\n",
        "Given that:\n",
        "* $h(\\vec{h}_{n+1})=\\frac{1}{1+\\exp(-\\vec{x}_{n+1}\\cdot\\vec{h}_{n+1})}$\n",
        "\n",
        "$\\therefore\\frac{\\partial}{\\partial \\vec{h}_{n+1}}[\\frac{1}{1+\\exp(-\\vec{x}_{n+1}\\cdot\\vec{h}_{n+1})}]=h(\\vec{h}_{n+1})(1-h(\\vec{h}_{n+1}))\\vec{x}_{n+1}$\n"
      ],
      "metadata": {
        "id": "ADS74eWKqybN"
      }
    },
    {
      "cell_type": "markdown",
      "source": [
        "**[3.] Find $\\frac{d}{dx}[\\log_a(g(x))]$**\n",
        "\n",
        "Given that:\n",
        "* $f(x)=\\log_a(x)\\implies f'(x)=\\frac{1}{\\ln(a)*x}$\n",
        "* $g(x)$\n",
        "\n",
        "According to Chain Rule: $\\frac{d}{dx}[f(g(x))] = (f\\circ g)'= f'(g(x))*g'(x)$\n",
        "\n",
        "$\\therefore\\frac{d}{dx}[\\log_a(g(x))]=\\frac{g'(x)}{\\ln(a)*g(x)}$"
      ],
      "metadata": {
        "id": "PgS_7oNOj_AM"
      }
    },
    {
      "cell_type": "markdown",
      "source": [
        "**[4.] Finding $\\frac{\\partial}{\\partial \\vec{h}_{n+1}}J(\\vec{h}_{n+1})$**\n",
        "\n",
        "Given that:\n",
        "* $J(\\vec{h}_{n+1})=-\\frac{1}{m}\\Sigma_{i=1}^m[y^{\\{i\\}}*\\ln(h(\\vec{x}_{n+1}^{\\{i\\}}))+(1-y^{\\{i\\}})\\ln(1-h(\\vec{x}_{n+1}^{\\{i\\}}))]$\n",
        "\n",
        "$\\therefore \\frac{\\partial}{\\partial \\vec{h}_{n+1}}J(\\vec{h}_{n+1})=-\\frac{1}{m}\\Sigma_{i=1}^m[y^{\\{i\\}}*\\frac{\\partial}{\\partial \\vec{h}_{n+1}}[\\ln(h(\\vec{x}_{n+1}^{\\{i\\}}))]+(1-y^{\\{i\\}})\\frac{\\partial}{\\partial \\vec{h}_{n+1}}[\\ln(1-h(\\vec{x}_{n+1}^{\\{i\\}}))]]$\n",
        "\n",
        "Given that:\n",
        "* $\\frac{d}{dx}[\\log_a(g(x))]=\\frac{g'(x)}{\\ln(a)*g(x)}$\n",
        "* $\\ln(e)=1$\n",
        "\n",
        "$\\therefore \\frac{\\partial}{\\partial \\vec{h}_{n+1}}J(\\vec{h}_{n+1})=-\\frac{1}{m}\\Sigma_{i=1}^m[y^{\\{i\\}}*\\frac{\\frac{\\partial}{\\partial \\vec{h}_{n+1}}[h(\\vec{x}_{n+1}^{\\{i\\}})]}{h(\\vec{x}_{n+1}^{\\{i\\}})}+(1-y^{\\{i\\}})\\frac{\\frac{\\partial}{\\partial \\vec{h}_{n+1}}[1-h(\\vec{x}_{n+1}^{\\{i\\}})]}{1-h(\\vec{x}_{n+1}^{\\{i\\}})}]$\n",
        "\n",
        "Given that:\n",
        "* $\\frac{\\partial}{\\partial \\vec{h}_{n+1}}h(\\vec{h}_{n+1})=h(\\vec{h}_{n+1})(1-h(\\vec{h}_{n+1}))\\vec{x}_{n+1}$\n",
        "\n",
        "$\\therefore \\frac{\\partial}{\\partial \\vec{h}_{n+1}}J(\\vec{h}_{n+1})=-\\frac{1}{m}\\Sigma_{i=1}^m[y^{\\{i\\}}*\\frac{h(\\vec{h}_{n+1})(1-h(\\vec{h}_{n+1}))\\vec{x}_{n+1}^{\\{i\\}}}{h(\\vec{x}_{n+1}^{\\{i\\}})}+(1-y^{\\{i\\}})\\frac{\\frac{\\partial}{\\partial \\vec{h}_{n+1}}[1-h(\\vec{x}_{n+1}^{\\{i\\}})]}{1-h(\\vec{x}_{n+1}^{\\{i\\}})}]$\n",
        "\n",
        "According to chain rule: $\\frac{d}{dx}[f(g(x))]=f'(g(x))g'(x)$\n",
        "\n",
        "Given that:\n",
        "* $f(h)=-h\\implies f(h)=-1$\n",
        "\n",
        "$\\therefore \\frac{\\partial}{\\partial \\vec{h}_{n+1}}J(\\vec{h}_{n+1})=-\\frac{1}{m}\\Sigma_{i=1}^m[y^{\\{i\\}}*\\frac{h(\\vec{h}_{n+1})(1-h(\\vec{h}_{n+1}))\\vec{x}_{n+1}^{\\{i\\}}}{h(\\vec{x}_{n+1}^{\\{i\\}})}-(1-y^{\\{i\\}})\\frac{h(\\vec{h}_{n+1})(1-h(\\vec{h}_{n+1}))\\vec{x}_{n+1}^{\\{i\\}}}{1-h(\\vec{x}_{n+1}^{\\{i\\}})}]$\n",
        "\n",
        "$\\frac{\\partial}{\\partial \\vec{h}_{n+1}}J(\\vec{h}_{n+1})=-\\frac{1}{m}\\Sigma_{i=1}^m[y^{\\{i\\}}*\\frac{(1-h(\\vec{h}_{n+1}))\\vec{x}_{n+1}^{\\{i\\}}}{1}-(1-y^{\\{i\\}})\\frac{h(\\vec{h}_{n+1})\\vec{x}_{n+1}^{\\{i\\}}}{1}]$\n",
        "\n",
        "$\\frac{\\partial}{\\partial \\vec{h}_{n+1}}J(\\vec{h}_{n+1})=-\\frac{1}{m}\\Sigma_{i=1}^m[y^{\\{i\\}}*(1-h(\\vec{h}_{n+1}))\\vec{x}_{n+1}^{\\{i\\}}-(1-y^{\\{i\\}})h(\\vec{h}_{n+1})\\vec{x}_{n+1}^{\\{i\\}}]$\n",
        "\n",
        "$\\frac{\\partial}{\\partial \\vec{h}_{n+1}}J(\\vec{h}_{n+1})=-\\frac{1}{m}\\Sigma_{i=1}^m[y^{\\{i\\}}\\vec{x}^{\\{i\\}}_{n+1}-y^{\\{i\\}}h(...)\\vec{x}^{\\{i\\}}_{n+1}-h(\\vec{h}_{n+1})\\vec{x}_{n+1}^{\\{i\\}}+y^{\\{i\\}}h(\\vec{h}_{n+1})\\vec{x}_{n+1}^{\\{i\\}}]$\n",
        "  \n",
        "$\\frac{\\partial}{\\partial \\vec{h}_{n+1}}J(\\vec{h}_{n+1})=-\\frac{1}{m}\\Sigma_{i=1}^m[y^{\\{i\\}}\\vec{x}^{\\{i\\}}_{n+1}-h(\\vec{h}_{n+1})\\vec{x}_{n+1}^{\\{i\\}}]$\n",
        "\n",
        "  \n",
        "$\\frac{\\partial}{\\partial \\vec{h}_{n+1}}J(\\vec{h}_{n+1})=-\\frac{1}{m}\\Sigma_{i=1}^m[(y^{\\{i\\}}-h(\\vec{h}_{n+1}))\\vec{x}_{n+1}^{\\{i\\}}]$\n",
        "\n",
        "$\\therefore\\frac{\\partial}{\\partial \\vec{h}_{n+1}}J(\\vec{h}_{n+1})=-\\frac{1}{m}(\\vec{y}_m-h_m(X_{m\\times n+1}))\\cdot X_{m\\times n+1}$\n"
      ],
      "metadata": {
        "id": "VYh21_UCP354"
      }
    },
    {
      "cell_type": "markdown",
      "source": [
        "**[5.] Gradient Descent in matrix form**\n",
        "\n",
        "Given that:\n",
        "* $\\vec{h}_{n+1}:=\\vec{h}_{n+1}-a*\\frac{\\partial}{\\partial \\vec{h}_{n+1}}J(\\vec{h}_{n+1})$\n",
        "* $\\frac{\\partial}{\\partial \\vec{h}_{n+1}}J(\\vec{h}_{n+1})=-\\frac{1}{m}(\\vec{y}_m-h_m(X_{m\\times n+1}))\\cdot X_{m\\times n+1}$\n",
        "\n",
        "$\\therefore \\vec{h}_{n+1}:=\\vec{h}_{n+1}+\\frac{a}{m}(\\vec{y}_m-h_m(X_{m\\times n+1}))\\cdot X_{m\\times n+1}$\n",
        "\n",
        "**[6.] Gradient Descent of coefficient and intercept**\n",
        "\n",
        "* coefficient $=\\vec{h}_{n}:=\\vec{h}_{n}+\\frac{a}{m}(\\vec{y}_m-h_m(X_{m\\times n}))\\cdot X_{m\\times n}$\n",
        "* intercept $= h^{\\{0\\}}:=h^{\\{0\\}}+\\frac{a}{m}(\\vec{y}_m-h_m(\\vec{1}_m))\\cdot\\vec{1}_m$\n",
        "* $h(\\vec{h}_{n+1})=\\frac{1}{1+\\exp(-\\vec{x}_{n+1}\\cdot\\vec{h}_{n+1})}$"
      ],
      "metadata": {
        "id": "kDwOxFrIQTFa"
      }
    },
    {
      "cell_type": "code",
      "source": [
        "'''\n",
        "def HypothesisFunction(Coef,Inte,dX):\n",
        "  return np.ones(dX.shape[0])/(np.ones(dX.shape[0])+np.exp(-(np.dot(dX,Coef)+np.full((dX.shape[0]),Inte))))'''\n",
        "\n",
        "def HypothesisFunction(Coef,Inte,dX):\n",
        "  dX=np.array(dX).reshape((-1,1))\n",
        "  Coef=Coef.reshape((-1))\n",
        "  #print(dX.shape)\n",
        "  #print(Coef.shape)\n",
        "  #print(np.dot(dX,Coef))\n",
        "  #print(np.exp(-(np.dot(dX,Coef)+np.full((dX.shape[0]),Inte))))\n",
        "  return np.ones(dX.shape[0])/(np.ones(dX.shape[0])+np.exp(-(np.dot(dX,Coef)+np.full((dX.shape[0]),Inte))))\n",
        "\n",
        "Coef=np.ones(len(TrX.columns))\n",
        "Inte=1\n",
        "print(TrY-HypothesisFunction(Coef,Inte,TrX))"
      ],
      "metadata": {
        "colab": {
          "base_uri": "https://localhost:8080/"
        },
        "id": "FBecLvogBKFX",
        "outputId": "a3c6893f-9435-48a5-c529-ce4b56c554db"
      },
      "execution_count": null,
      "outputs": [
        {
          "output_type": "stream",
          "name": "stdout",
          "text": [
            "378    [0.047425873177566635]\n",
            "186    [0.047425873177566635]\n",
            "243     [0.11920292202211769]\n",
            "70     [0.006692850924284732]\n",
            "154     [-0.8807970779778823]\n",
            "                ...          \n",
            "150     [0.11920292202211769]\n",
            "241    [0.047425873177566635]\n",
            "127    [0.047425873177566635]\n",
            "24     [0.047425873177566635]\n",
            "220     [0.01798620996209155]\n",
            "Name: higher, Length: 296, dtype: object\n"
          ]
        }
      ]
    },
    {
      "cell_type": "code",
      "source": [
        "def LogisR_Hypo(Coef,Inte,dX):\n",
        "  return (1)/(1+np.exp(-np.dot(dX,Coef)-Inte))\n",
        "\n",
        "def Diff_LogisR_Loss(dX,dY,Coef,Inte):\n",
        "  ix=np.ones(dX.shape[0])\n",
        "  return [\n",
        "      (1/dX.shape[0])*np.dot(ix.T,(LogisR_Hypo(Coef,Inte,dX)-dY)),  # Intercept\n",
        "      (1/dX.shape[0])*np.dot(dX.T,(LogisR_Hypo(Coef,Inte,dX)-dY))   # Coefficient\n",
        "      ]\n",
        "  # reference: https://medium.com/analytics-vidhya/derivative-of-log-loss-function-for-logistic-regression-9b832f025c2d\n",
        "\n",
        "def GradientDescent(dX,dY,Diff,LRate=0.005,Decay=0.000_03,LastEpoch=10_000, AcceptError=1e-10):\n",
        "  epoch=0\n",
        "  Coef_Vect=np.ones(dX.shape[1])\n",
        "  Inte_Cons=1\n",
        "  GD_Growth=[]\n",
        "  while epoch<LastEpoch or (np.all(np.abs(Diff(dX,dY,Coef_Vect,Inte_Cons)[1])<=AcceptError)and (np.abs(Diff(dX,dY,Coef_Vect,Inte_Cons)[0])<=AcceptError)):\n",
        "\n",
        "    Coef_Vect-=LRate*pow((1-Decay),epoch)*np.array(Diff(dX,dY,Coef_Vect,Inte_Cons)[1].tolist()).reshape((-1))\n",
        "    Inte_Cons-=LRate*pow((1-Decay),epoch)*np.array(Diff(dX,dY,Coef_Vect,Inte_Cons)[0].tolist()).reshape((-1))\n",
        "\n",
        "    row = pd.DataFrame({\n",
        "              'epoch No.': [epoch], \n",
        "              'Error': [np.abs(Diff(dX,dY,Coef_Vect,Inte_Cons)[0])],\n",
        "              })\n",
        "    GD_Growth.append(row)\n",
        "\n",
        "    # Slowly decrease learning rate.\n",
        "    # reference: https://www.thoughtco.com/exponential-decay-definition-2312215\n",
        "    epoch+=1\n",
        "  GD_Growth = pd.concat(GD_Growth)\n",
        "  # reference: https://stackoverflow.com/questions/28669482/appending-pandas-dataframes-generated-in-a-for-loop\n",
        "  return [list(Inte_Cons),list(Coef_Vect),GD_Growth]\n",
        "\n",
        "HBiCon=GradientDescent(TrX,TrY,Diff_LogisR_Loss)\n",
        "\n",
        "print(HBiCon[0])\n",
        "print(HBiCon[1])\n"
      ],
      "metadata": {
        "id": "2wnvIprgL4Jk",
        "colab": {
          "base_uri": "https://localhost:8080/"
        },
        "outputId": "1979cac4-1d8e-4554-b80e-15f62a85eb7c"
      },
      "execution_count": null,
      "outputs": [
        {
          "output_type": "stream",
          "name": "stdout",
          "text": [
            "[1.0007919623960926]\n",
            "[1.250837838221293]\n"
          ]
        }
      ]
    },
    {
      "cell_type": "code",
      "source": [
        "def HypothesisFunction(Coef,Inte,dX):\n",
        "  dX=np.array(dX).reshape((-1,1))\n",
        "  Coef=Coef.reshape((-1))\n",
        "  return np.ones(dX.shape[0])/(np.ones(dX.shape[0])+np.exp(-(np.dot(dX,Coef)+np.full((dX.shape[0]),Inte))))\n",
        "\n"
      ],
      "metadata": {
        "id": "WFDRELtLo7YS"
      },
      "execution_count": null,
      "outputs": []
    },
    {
      "cell_type": "markdown",
      "source": [
        "###[Stap 3.2]: Gradient Descent Graph"
      ],
      "metadata": {
        "id": "Njg1-uQgJxPS"
      }
    },
    {
      "cell_type": "code",
      "source": [
        "HBiCon[2].plot(x='epoch No.',y='Error')\n",
        "plt.grid()\n",
        "plt.show()"
      ],
      "metadata": {
        "colab": {
          "base_uri": "https://localhost:8080/",
          "height": 449
        },
        "id": "s5ZLAK7OJ0pE",
        "outputId": "7c913d5b-3b67-46a8-a861-0d53ab109e4a"
      },
      "execution_count": null,
      "outputs": [
        {
          "output_type": "display_data",
          "data": {
            "text/plain": [
              "<Figure size 640x480 with 1 Axes>"
            ],
            "image/png": "[encoded data removed]"
          },
          "metadata": {}
        }
      ]
    },
    {
      "cell_type": "markdown",
      "source": [
        "**About this graph**\n",
        "\n",
        "This graph indicates how much error function value of the logistic regression model decrease over epoches."
      ],
      "metadata": {
        "id": "ghXSoDJsnhj9"
      }
    },
    {
      "cell_type": "code",
      "source": [
        "HBiCon[2].plot(x='epoch No.',y='LearningRate')\n",
        "plt.grid()\n",
        "plt.show()"
      ],
      "metadata": {
        "colab": {
          "base_uri": "https://localhost:8080/",
          "height": 449
        },
        "id": "3aUD82CXOwGS",
        "outputId": "f9098818-15f1-4705-feb9-c166a3c2c3ac"
      },
      "execution_count": null,
      "outputs": [
        {
          "output_type": "display_data",
          "data": {
            "text/plain": [
              "<Figure size 640x480 with 1 Axes>"
            ],
            "image/png": "[encoded data removed]"
          },
          "metadata": {}
        }
      ]
    },
    {
      "cell_type": "markdown",
      "source": [
        "**About this graph**\n",
        "\n",
        "This graph indicates how much learning rate of the logistic regression model decrease over epoches."
      ],
      "metadata": {
        "id": "yWG3ba-on7ML"
      }
    },
    {
      "cell_type": "markdown",
      "source": [
        "###[Step 3.3]: Implementing Logistic Regression using other Python Library"
      ],
      "metadata": {
        "id": "Dcj2nNG5LLyG"
      }
    },
    {
      "cell_type": "markdown",
      "source": [
        "**SKLearn Library**"
      ],
      "metadata": {
        "id": "62aBwbY-XTyt"
      }
    },
    {
      "cell_type": "code",
      "source": [
        "from sklearn import linear_model\n",
        "\n",
        "skLGBi = linear_model.LogisticRegression()\n",
        "skLGBi.fit(TrX,np.array(np.array(TrY.tolist()).tolist()).reshape((-1)))\n",
        "# reference: https://stackoverflow.com/questions/45325283/valueerror-unknown-label-type-unknown-in-sklearn\n",
        "\n",
        "print(skLGBi.coef_)\n",
        "print(skLGBi.intercept_)"
      ],
      "metadata": {
        "colab": {
          "base_uri": "https://localhost:8080/"
        },
        "id": "AvtHmlOtLWxf",
        "outputId": "43d25ddb-b2e6-4093-ba75-06a7537be91e"
      },
      "execution_count": null,
      "outputs": [
        {
          "output_type": "stream",
          "name": "stdout",
          "text": [
            "[[1.28086607]]\n",
            "[0.90068387]\n"
          ]
        }
      ]
    },
    {
      "cell_type": "markdown",
      "source": [
        "###[Step 4]: Evaluate the accuracy of the algorithm by confusion matrix\n",
        "* https://meettank29067.medium.com/performance-measurement-in-logistic-regression-8c9109b25278"
      ],
      "metadata": {
        "id": "WWkXmNn3rm3s"
      }
    },
    {
      "cell_type": "code",
      "source": [
        "def ConfusionMatrix(dX,dY,Hypo,Coef,Inte):\n",
        "  \n",
        "  Result=[1,2,3,4]\n",
        "  Confusion = pd.DataFrame({'Actual_Positive':[Result[0],Result[1]],'Actual_Negative':[Result[2],Result[3]]},index=['Predict_Positive', 'Predict_Negative'])\n",
        "  return Confusion"
      ],
      "metadata": {
        "id": "hJuZtvirmBSk"
      },
      "execution_count": null,
      "outputs": []
    },
    {
      "cell_type": "code",
      "source": [
        "p=0\n",
        "n=0\n",
        "for i in (LogisR_Hypo(skLGBi.coef_,skLGBi.intercept_,TeX)):\n",
        "  if i>=0.5:\n",
        "    p+=1\n",
        "  else:\n",
        "    n+=1\n",
        "print(TeX.shape)\n",
        "print(n+p)\n",
        "print(p)\n",
        "print(n)"
      ],
      "metadata": {
        "colab": {
          "base_uri": "https://localhost:8080/"
        },
        "id": "XYs_h5AXrlZQ",
        "outputId": "ef8e0608-e556-48c9-f4f4-b3ae515e762a"
      },
      "execution_count": null,
      "outputs": [
        {
          "output_type": "stream",
          "name": "stdout",
          "text": [
            "(99, 1)\n",
            "99\n",
            "99\n",
            "0\n"
          ]
        }
      ]
    },
    {
      "cell_type": "code",
      "source": [
        "LogisR_Hypo(HBiCon[1],HBiCon[0],TeX)"
      ],
      "metadata": {
        "id": "O7FZAXUqrxv4"
      },
      "execution_count": null,
      "outputs": []
    },
    {
      "cell_type": "markdown",
      "source": [
        "###[Step 4A]: Evaluate the accuracy of the algorithm by plotting graph"
      ],
      "metadata": {
        "id": "sHRRXL8SvI3i"
      }
    },
    {
      "cell_type": "code",
      "source": [
        "def HypothesisFunction(Coef,Inte,dX):\n",
        "  dX=np.array(dX).reshape((-1,1))\n",
        "  Coef=np.array(Coef).reshape((-1))\n",
        "  return np.ones(dX.shape[0])/(np.ones(dX.shape[0])+np.exp(-(np.dot(dX,Coef)+np.full((dX.shape[0]),Inte))))\n",
        "\n",
        "# Here is the data.\n",
        "# How do I enforce a square grid in matplotlib? reference: https://stackoverflow.com/questions/50158333/how-do-i-enforce-a-square-grid-in-matplotlib\n",
        "plt.grid()\n",
        "\n",
        "# Add labels to the x- and y-axis.\n",
        "plt.xlabel(ColX)\n",
        "plt.ylabel(ColY)\n",
        "\n",
        "# Data is plotted.\n",
        "plt.scatter(df[ColX], df[ColY])\n",
        "\n",
        "# Here is the hypothesis function a.k.a. prediction function.\n",
        "xline = np.arange(0,5,0.01)\n",
        "#yline = HypothesisFunction(HBiCon[1],HBiCon[0],xline)\n",
        "yline = HypothesisFunction(skLGBi.coef_[0],skLGBi.intercept_,xline)\n",
        "\n",
        "plt.plot(xline, HypothesisFunction(skLGBi.coef_[0],skLGBi.intercept_,xline), color='red')\n",
        "plt.plot(xline, HypothesisFunction(HBiCon[1],HBiCon[0],xline), color='blue')\n",
        "plt.show()\n",
        "\n",
        "#print(EvaluationFunction(dfmain,ind_X,ind_Y,h0=h_i[0],h1=h_i[1]))"
      ],
      "metadata": {
        "colab": {
          "base_uri": "https://localhost:8080/",
          "height": 449
        },
        "outputId": "6151db00-c244-48b5-cba7-082bb2b92ce0",
        "id": "fnJk55jSiuZo"
      },
      "execution_count": null,
      "outputs": [
        {
          "output_type": "display_data",
          "data": {
            "text/plain": [
              "<Figure size 640x480 with 1 Axes>"
            ],
            "image/png": "[encoded data removed]"
          },
          "metadata": {}
        }
      ]
    },
    {
      "cell_type": "markdown",
      "source": [
        "###[Unfinished] [Step 4B]: how to measure performance of logistic regression"
      ],
      "metadata": {
        "id": "DsBRTq1XWgZd"
      }
    },
    {
      "cell_type": "code",
      "source": [
        "def LogisR_DiffEvaluation(dX,dY,Coef,Inte):\n",
        "  #print(dX.shape[0])\n",
        "  #print(Coef)\n",
        "  return [-(dY-HypothesisFunction(Coef,Inte,np.ones(dX.shape[0]))).mean(),-np.dot(dY-HypothesisFunction(Coef,Inte,dX),dX)]\n",
        "\n",
        "print(LogisR_DiffEvaluation(TrX,TrY,skLGBi.coef_,skLGBi.intercept_))"
      ],
      "metadata": {
        "colab": {
          "base_uri": "https://localhost:8080/"
        },
        "id": "9KPnFZNOV5n_",
        "outputId": "42f84627-2f1d-42e9-f02e-c36760ffde24"
      },
      "execution_count": null,
      "outputs": [
        {
          "output_type": "stream",
          "name": "stdout",
          "text": [
            "[array([-0.05750067]), array([array([-1.28096429])], dtype=object)]\n"
          ]
        }
      ]
    },
    {
      "cell_type": "markdown",
      "source": [
        "#Measure the accuracy of Logistic Regression algorithm\n",
        "\n",
        "1) AIC ( Akaike Information Criteria)\n",
        "\n",
        "2) Confusion matrix\n",
        "\n",
        "3) ROC curve\n",
        "\n",
        "4) Null deviance and residual deviance\n",
        "\n",
        "* reference: https://meettank29067.medium.com/performance-measurement-in-logistic-regression-8c9109b25278"
      ],
      "metadata": {
        "id": "QzdWbyn1Xt3d"
      }
    },
    {
      "cell_type": "markdown",
      "source": [
        "###[Unfinished]: AIC"
      ],
      "metadata": {
        "id": "DOXFOtLPX_-8"
      }
    },
    {
      "cell_type": "markdown",
      "source": [
        "**Introduction**\n",
        "* The Akaike Information Criterion (AIC) is used for comparing multiple models. (It is not suitable for measuring a single model.)\n",
        "* The model with the lower AIC score is expected to strike a superior balance between its ability to fit the data set and its ability to avoid over-fitting the data set."
      ],
      "metadata": {
        "id": "nk9LBtf1ZWq2"
      }
    },
    {
      "cell_type": "markdown",
      "source": [
        "**Maximum Likelihood Estimation Formula**\n",
        "\n",
        "$L=\\arg\\max_{h\\in D}\\Pi P(h,x)$\n",
        "* $\\arg\\max=$ return a maximum value\n",
        "* $h=$ a parameter\n",
        "* $L=$ an approximated parameter (estimator)\n",
        "* $P=$ probability distribution\n",
        "* $D=$ set of all possible value of a dataset (input)"
      ],
      "metadata": {
        "id": "qpzHpiNcBJjE"
      }
    },
    {
      "cell_type": "markdown",
      "source": [
        "**Formula**\n",
        "\n",
        "$A^{\\{AIC\\}}=2k-2\\ln(L)$\n",
        "* $k=$ Number of model parameters\n",
        "* $L=$ maximum likelihood."
      ],
      "metadata": {
        "id": "LQC5gcevZp7B"
      }
    },
    {
      "cell_type": "markdown",
      "source": [
        "**Reference:**\n",
        "* https://timeseriesreasoning.com/contents/akaike-information-criterion/"
      ],
      "metadata": {
        "id": "f5Ozb0WcZIIX"
      }
    },
    {
      "cell_type": "code",
      "source": [
        "def AIC(k,L,h,x):\n",
        "  return 2*k-2*np.log(L(h,x))\n",
        "\n"
      ],
      "metadata": {
        "id": "K6DKLfN8ju7a"
      },
      "execution_count": null,
      "outputs": []
    },
    {
      "cell_type": "markdown",
      "source": [
        "###Confusion matrix"
      ],
      "metadata": {
        "id": "rJ-mE57is6pr"
      }
    },
    {
      "cell_type": "code",
      "source": [
        "def ConfusionMatrix():\n",
        "  Result=[1,2,3,4]\n",
        "  Confusion = pd.DataFrame({'Actual_Positive':[Result[0],Result[1]],'Actual_Negative':[Result[2],Result[3]]},index=['Predict_Positive', 'Predict_Negative'])\n",
        "  return Confusion"
      ],
      "metadata": {
        "id": "vEpru5eOs_oE"
      },
      "execution_count": null,
      "outputs": []
    },
    {
      "cell_type": "code",
      "source": [
        "p=0\n",
        "n=0\n",
        "for i in (LogisR_Hypo(skLGBi.coef_,skLGBi.intercept_,TeX)):\n",
        "  if i>=0.5:\n",
        "    p+=1\n",
        "  else:\n",
        "    n+=1\n",
        "print(TeX.shape)\n",
        "print(n+p)\n",
        "print(p)\n",
        "print(n)"
      ],
      "metadata": {
        "colab": {
          "base_uri": "https://localhost:8080/"
        },
        "outputId": "ef8e0608-e556-48c9-f4f4-b3ae515e762a",
        "id": "e-hueodws_oF"
      },
      "execution_count": null,
      "outputs": [
        {
          "output_type": "stream",
          "name": "stdout",
          "text": [
            "(99, 1)\n",
            "99\n",
            "99\n",
            "0\n"
          ]
        }
      ]
    },
    {
      "cell_type": "code",
      "source": [
        "LogisR_Hypo(HBiCon[1],HBiCon[0],TeX)"
      ],
      "metadata": {
        "id": "9rgK2QmMs_oF"
      },
      "execution_count": null,
      "outputs": []
    },
    {
      "cell_type": "markdown",
      "source": [
        "###[3.]: ROC curve"
      ],
      "metadata": {
        "id": "5E9MD1rBYILn"
      }
    },
    {
      "cell_type": "markdown",
      "source": [
        "###[4.]: Null deviance and residual deviance"
      ],
      "metadata": {
        "id": "hP_pWNf6YMyP"
      }
    },
    {
      "cell_type": "markdown",
      "source": [
        "#[Unfinished] Binary Logistic Regression with discrete Input"
      ],
      "metadata": {
        "id": "IBhMfuXavPYU"
      }
    },
    {
      "cell_type": "markdown",
      "source": [
        "###Step 2.1, Why Logistic Regression for continuous variables is not effective for discrete input variable?"
      ],
      "metadata": {
        "id": "XClp-AqduZww"
      }
    },
    {
      "cell_type": "markdown",
      "source": [
        "**Initial variable**\n",
        "\n",
        "Given that:\n",
        "* $x\\in\\mathbb{Z},x\\in[0,1]$\n",
        "* $y\\in\\mathbb{Z},y\\in[0,1]$\n"
      ],
      "metadata": {
        "id": "V6dFoecBohAU"
      }
    },
    {
      "cell_type": "code",
      "source": [
        "ColX=BDisX[0]\n",
        "ColY=BDisY[0]\n",
        "df=dfBDis\n",
        "TrX=TrXBDis\n",
        "TrY=TrYBDis\n",
        "TeX=TeXBDis\n",
        "TeY=TeYBDis"
      ],
      "metadata": {
        "id": "fYEL4XOhxSqa"
      },
      "execution_count": null,
      "outputs": []
    },
    {
      "cell_type": "code",
      "source": [
        "'''\n",
        "ind_X=22\n",
        "ind_Y=20\n",
        "ColumnNameX=ColumnName[ind_X]\n",
        "ColumnNameY=ColumnName[ind_Y]\n",
        "dfmain=dfmain'''"
      ],
      "metadata": {
        "id": "RWMCKllqof6p"
      },
      "execution_count": null,
      "outputs": []
    },
    {
      "cell_type": "code",
      "source": [
        "from sklearn import linear_model\n",
        "\n",
        "ind_X=22\n",
        "ind_Y=20\n",
        "ColumnNameX=ColumnName[ind_X]\n",
        "ColumnNameY=ColumnName[ind_Y]\n",
        "dfmain=dfmain\n",
        "\n",
        "dfmain_X = np.stack(list(np.array(dfmain[ColumnNameX]))).reshape(-1)\n",
        "dfmain_Y = np.stack(list(np.array(dfmain[ColumnNameY]))).reshape(-1)\n",
        "\n",
        "logr = linear_model.LogisticRegression()\n",
        "logr.fit(np.array(dfmain_X).reshape(-1,1),dfmain_Y)\n",
        "\n",
        "predicted = logr.predict(np.array([-40]).reshape(-1,1))\n",
        "\n",
        "def HypothesisFunction(x,logr):\n",
        "  probability = 1 / (1 + np.exp(-(logr.coef_ * x + logr.intercept_)))\n",
        "  '''\n",
        "  Note:\n",
        "  * logr.coef_ = h_i[1]\n",
        "  * logr.intercept_ = h_i[0]\n",
        "  '''\n",
        "  return(probability.reshape(-1))\n",
        "\n",
        "# [3.] Plot the Graph\n",
        "plt.grid()\n",
        "\n",
        "plt.xlabel(ColumnNameX)\n",
        "plt.ylabel(ColumnNameY)\n",
        "plt.scatter(dfmain[ColumnNameX], dfmain[ColumnNameY])\n",
        "xline = np.arange(-0.1,1.1,0.1)\n",
        "yline = HypothesisFunction(xline,logr)\n",
        "\n",
        "plt.plot(xline, yline, color='blue')\n",
        "plt.show()\n",
        "\n",
        "print('h_i[1] = '+str(logr.coef_[0]))\n",
        "print('h_i[0] = '+str(logr.intercept_))\n",
        "\n",
        "'''\n",
        "Note: I got h_i = [1.32865499 0.17638434]\n",
        "'''"
      ],
      "metadata": {
        "colab": {
          "base_uri": "https://localhost:8080/",
          "height": 334
        },
        "outputId": "afbb970e-4a8e-4897-b72c-1d55b571797d",
        "id": "BEC6YyjAw6XH"
      },
      "execution_count": null,
      "outputs": [
        {
          "output_type": "display_data",
          "data": {
            "text/plain": [
              "<Figure size 432x288 with 1 Axes>"
            ],
            "image/png": "[encoded data removed]"
          },
          "metadata": {
            "needs_background": "light"
          }
        },
        {
          "output_type": "stream",
          "name": "stdout",
          "text": [
            "h_i[1] = [-0.7767415]\n",
            "h_i[0] = [3.25426529]\n"
          ]
        },
        {
          "output_type": "execute_result",
          "data": {
            "text/plain": [
              "'\\nNote: I got h_i = [1.32865499 0.17638434]\\n'"
            ],
            "application/vnd.google.colaboratory.intrinsic+json": {
              "type": "string"
            }
          },
          "metadata": {},
          "execution_count": 78
        }
      ]
    },
    {
      "cell_type": "code",
      "source": [
        "FF = len(dfmain.loc[(dfmain[ColumnNameX] == 0)& (dfmain[ColumnNameY] == 0)])\n",
        "FT = len(dfmain.loc[(dfmain[ColumnNameX] == 0)& (dfmain[ColumnNameY] == 1)])\n",
        "TF = len(dfmain.loc[(dfmain[ColumnNameX] == 1)& (dfmain[ColumnNameY] == 0)])\n",
        "TT = len(dfmain.loc[(dfmain[ColumnNameX] == 1)& (dfmain[ColumnNameY] == 1)])\n",
        "\n",
        "print(\"FF = \"+str(FF))\n",
        "print(\"FT = \"+str(FT))\n",
        "print(\"TF = \"+str(TF))\n",
        "print(\"TT = \"+str(TT))"
      ],
      "metadata": {
        "colab": {
          "base_uri": "https://localhost:8080/"
        },
        "id": "Yjai7bFfqk44",
        "outputId": "fbaabba8-8cb0-4f60-b83f-a6e8eb5ed767"
      },
      "execution_count": null,
      "outputs": [
        {
          "output_type": "stream",
          "name": "stdout",
          "text": [
            "FF = 9\n",
            "FT = 254\n",
            "TF = 11\n",
            "TT = 121\n"
          ]
        }
      ]
    },
    {
      "cell_type": "markdown",
      "source": [
        "###Step 2.2, Modify logistic regression for discrete input variable"
      ],
      "metadata": {
        "id": "ly6xQ0_Wu7yW"
      }
    },
    {
      "cell_type": "code",
      "source": [
        "ind_X=20\n",
        "ind_Y=32\n",
        "ColumnNameX=ColumnName[ind_X]\n",
        "ColumnNameY=ColumnName[ind_Y]\n",
        "dfmain=dfmain"
      ],
      "metadata": {
        "id": "8mpPVGHXITUp"
      },
      "execution_count": null,
      "outputs": []
    },
    {
      "cell_type": "markdown",
      "source": [
        "**What is T Test?**\n",
        "* A statistical test that is used to compare the means of two groups.\n",
        "\n",
        "**T Test Formula:** $y_{\\text{test}}=\\text{mean}_{0}*B_0+(\\text{mean}_{1}-\\text{mean}_{0})*B_1=\\text{mean}_{0}*B_0+\\Delta\\text{mean}*B_1$\n",
        "\n",
        "* $y_{\\text{test}}=$ T Test result\n",
        "* $\\text{mean}_0=$ average value of $y$ when $x=0$\n",
        "* $\\text{mean}_1=$ average value of $y$ when $x=1$\n",
        "* $B_0=$ coefficient that turn on $\\text{mean}_{0}$\n",
        "* $B_1=$ coefficient that turn off or on $\\text{mean}_{1}$ depending on the data\n",
        "\n",
        "**Note**\n",
        "* The blue line = $\\text{mean}_0$\n",
        "* The red line = $\\text{mean}_1=\\text{mean}_0+\\Delta\\text{mean}*B_1$\n",
        "\n",
        "**T Test in Matrix Form**\n",
        "* The data can be represented as matrix\n",
        "* $y_{\\text{test}}=\\begin{bmatrix}\n",
        "\\text{mean}_{0}*\\vec{B_0} & (\\text{mean}_{1}-\\text{mean}_{0})*\\vec{B_1}\\\\\n",
        "\\end{bmatrix}\\in\\mathbb{R}^{m\\times2}$\n",
        "* $\\vec{B_0},\\vec{B_1}\\in\\mathbb{R}^m,m=$ number of all data $\\in\\mathbb{Z}^+$\n",
        "\n",
        "**Why doing this?**\n",
        "* We are testing if $\\text{mean}_{1}-\\text{mean}_{0}=0$ or not?\n",
        "* If $\\text{mean}_{1}-\\text{mean}_{0}=0\\implies$ your data matches the null hypothesis and there are no irregularities found.\n",
        "* null hypothesis = The hypothesis that there is no significant difference between specified populations, any observed difference being due to sampling or experimental error."
      ],
      "metadata": {
        "id": "TRwD8wvrIKg2"
      }
    },
    {
      "cell_type": "code",
      "source": [
        "def HypothesisFunction(x1,h0,h1):\n",
        "  return 1/(1+np.exp(-(x1*h1+h0)))\n",
        "\n",
        "def EvaluationFunction(data,ind_x,ind_y,h0=0,h1=0):\n",
        "  num=0\n",
        "  for i in range(data.shape[0]):\n",
        "    num-=data.iat[i,ind_y]*np.emath.log(HypothesisFunction(data.iat[i,ind_x],h0,h1))+(1-data.iat[i,ind_y])*np.emath.log(1-HypothesisFunction(data.iat[i,ind_x],h0,h1))\n",
        "  num*=(1/data.shape[0])\n",
        "  return num\n",
        "\n",
        "plt.grid()\n",
        "\n",
        "# The Data\n",
        "plt.xlabel(ColumnNameX)\n",
        "plt.ylabel(ColumnNameY)\n",
        "plt.scatter(dfmain[ColumnNameX], dfmain[ColumnNameY])\n",
        "\n",
        "# The mean of the data\n",
        "line=np.arange(-0.1,1.1,0.1)\n",
        "mean0 = dfmain.loc[dfmain[ColumnNameX] == 0, ColumnNameY].mean()\n",
        "mean1 = dfmain.loc[dfmain[ColumnNameX] == 1, ColumnNameY].mean()\n",
        "print('mean0 = '+str(mean0))\n",
        "plt.plot(line,(line/line)*dfmain.loc[dfmain[ColumnNameX] == 0, ColumnNameY].mean(),color='blue')\n",
        "print('mean1 = '+str(mean1))\n",
        "plt.plot(line,(line/line)*dfmain.loc[dfmain[ColumnNameX] == 1, ColumnNameY].mean(),color='red')\n",
        "\n",
        "plt.show()"
      ],
      "metadata": {
        "colab": {
          "base_uri": "https://localhost:8080/",
          "height": 387
        },
        "outputId": "ed6c9931-4fbb-42be-e2d8-bb03b751ba7b",
        "id": "MePfX74Ex8zc"
      },
      "execution_count": null,
      "outputs": [
        {
          "output_type": "stream",
          "name": "stdout",
          "text": [
            "mean0 = 6.8\n",
            "mean1 = 10.608\n"
          ]
        },
        {
          "output_type": "stream",
          "name": "stderr",
          "text": [
            "<ipython-input-40-b7982ba8884e>:23: RuntimeWarning: invalid value encountered in true_divide\n",
            "  plt.plot(line,(line/line)*dfmain.loc[dfmain[ColumnNameX] == 0, ColumnNameY].mean(),color='blue')\n",
            "<ipython-input-40-b7982ba8884e>:25: RuntimeWarning: invalid value encountered in true_divide\n",
            "  plt.plot(line,(line/line)*dfmain.loc[dfmain[ColumnNameX] == 1, ColumnNameY].mean(),color='red')\n"
          ]
        },
        {
          "output_type": "display_data",
          "data": {
            "text/plain": [
              "<Figure size 432x288 with 1 Axes>"
            ],
            "image/png": "[encoded data removed]"
          },
          "metadata": {
            "needs_background": "light"
          }
        }
      ]
    },
    {
      "cell_type": "code",
      "source": [
        "yTEST = pd.DataFrame(\n",
        "    data={\n",
        "        #'mean0': list(np.stack(list(mean0*np.ones(dfmain[ColumnNameX].shape[0])))), \n",
        "        #'mean1-mean0': list(np.stack(list((mean1-mean0)*dfmain[ColumnNameX])).reshape(-1)),\n",
        "        'result':list(np.stack(list(mean0+(mean1-mean0)*dfmain[ColumnNameX])).reshape(-1))\n",
        "        }\n",
        "        )\n",
        "                         \n",
        "print(yTEST)     "
      ],
      "metadata": {
        "colab": {
          "base_uri": "https://localhost:8080/"
        },
        "id": "nKTDE1SmRFjE",
        "outputId": "fa6e6d9f-f995-48d9-b070-68b54c325899"
      },
      "execution_count": null,
      "outputs": [
        {
          "output_type": "stream",
          "name": "stdout",
          "text": [
            "     result\n",
            "0    10.608\n",
            "1    10.608\n",
            "2    10.608\n",
            "3    10.608\n",
            "4    10.608\n",
            "..      ...\n",
            "390  10.608\n",
            "391  10.608\n",
            "392  10.608\n",
            "393  10.608\n",
            "394  10.608\n",
            "\n",
            "[395 rows x 1 columns]\n"
          ]
        }
      ]
    },
    {
      "cell_type": "markdown",
      "source": [
        "**What is Odds?**\n",
        "\n",
        "Odds provide a measure of the likelihood of a particular outcome.\n",
        "\n",
        "* Odds $=\\frac{\\text{probability that the outcome occurs}}{\\text{the probability that the outcome does not occur}}=\\frac{p}{1-p}$\n",
        "* Odds is not probability\n",
        "* Probability $=\\frac{\\text{probability that the outcome occurs}}{\\text{total outcome}}=p\\in[0,1]$\n",
        "\n",
        "**What is $\\ln(\\frac{p}{1-p})$ used for?**\n",
        "* $\\ln(\\frac{p}{1-p})=\\ln(\\text{Odds})$\n",
        "* $\\ln()$ makes odds becomes symmetrical.\n",
        "\n",
        "reference: https://youtu.be/ARfXDSkQf1Y"
      ],
      "metadata": {
        "id": "mlYJtiWINq66"
      }
    },
    {
      "cell_type": "markdown",
      "source": [
        "**How to apply T Test with logistic regression formula that have discrete input variable?**\n",
        "\n",
        "Given that:\n",
        "* $y_{\\text{test}}=$ T Test result\n",
        "\n",
        "**The logistic regression formula with discrete input variable:** \n",
        "$y_{\\text{test}}=B_1*\\ln(\\frac{F_T}{F_F})+B_2*(\\ln(\\frac{T_T}{T_F})-\\ln(\\frac{F_T}{F_F}))$\n",
        "* $y_{\\text{test}}=$ The Test that indicate the relationship between input and output variable.\n",
        "* $F=0=$ False, $T=1=$ True\n",
        "* $F_F=$ number of all $\\vec{v}$ that $\\begin{bmatrix} 0& 0 \\end{bmatrix}$\n",
        "* $F_T=$ number of all $\\vec{v}$ that $\\begin{bmatrix} 0& 1 \\end{bmatrix}$\n",
        "* $T_F=$ number of all $\\vec{v}$ that $\\begin{bmatrix} 1& 0 \\end{bmatrix}$\n",
        "* $T_T=$ number of all $\\vec{v}$ that $\\begin{bmatrix} 1& 1 \\end{bmatrix}$\n",
        "* $B_0=$ coefficient that turn on $\\ln(\\frac{F_T}{F_F})$\n",
        "* $B_1=$ coefficient that turn off or on $(\\ln(\\frac{T_T}{T_F})-\\ln(\\frac{F_T}{F_F}))$ depending on the data\n",
        "\n",
        "**Why $\\ln(...)$?**\n",
        "* $\\ln(...)=\\ln(\\frac{p}{1-p})=\\ln(\\text{Odds})$"
      ],
      "metadata": {
        "id": "s_Tl_BJoAwq-"
      }
    },
    {
      "cell_type": "code",
      "source": [
        "ind_X=22\n",
        "ind_Y=20\n",
        "ColumnNameX=ColumnName[ind_X]\n",
        "ColumnNameY=ColumnName[ind_Y]\n",
        "dfmain=dfmain"
      ],
      "metadata": {
        "id": "Om-kF2ixaFPK"
      },
      "execution_count": null,
      "outputs": []
    },
    {
      "cell_type": "code",
      "source": [
        "FF = len(dfmain.loc[(dfmain[ColumnNameX] == 0)& (dfmain[ColumnNameY] == 0)])\n",
        "FT = len(dfmain.loc[(dfmain[ColumnNameX] == 0)& (dfmain[ColumnNameY] == 1)])\n",
        "TF = len(dfmain.loc[(dfmain[ColumnNameX] == 1)& (dfmain[ColumnNameY] == 0)])\n",
        "TT = len(dfmain.loc[(dfmain[ColumnNameX] == 1)& (dfmain[ColumnNameY] == 1)])\n",
        "\n",
        "print(\"FF = \"+str(FF))\n",
        "print(\"FT = \"+str(FT))\n",
        "print(\"TF = \"+str(TF))\n",
        "print(\"TT = \"+str(TT))\n",
        "# reference: https://stackoverflow.com/questions/17322109/get-dataframe-row-count-based-on-conditions\n",
        "\n",
        "yTEST = pd.DataFrame(\n",
        "    data={\n",
        "        'X Variable':list(dfmain[ColumnNameX]),\n",
        "        'Y Variable':list(dfmain[ColumnNameY]),\n",
        "        'result':list(np.log((FT)/(FF))+(np.log((TT)/(TF))-np.log((FT)/(FF)))*dfmain[ColumnNameX])\n",
        "        }\n",
        "        )\n",
        "\n",
        "print('np.log((FT)/(FF)) = '+str(np.log((FT)/(FF))))\n",
        "print('np.log((TT)/(TF))-np.log((FT)/(FF)) = '+str(np.log((TT)/(TF))-np.log((FT)/(FF))))\n",
        "print(yTEST)"
      ],
      "metadata": {
        "colab": {
          "base_uri": "https://localhost:8080/"
        },
        "id": "knHWJOq7a1-K",
        "outputId": "eb4ca2e1-a53e-42e2-d339-41dff56eff79"
      },
      "execution_count": null,
      "outputs": [
        {
          "output_type": "stream",
          "name": "stdout",
          "text": [
            "FF = 9\n",
            "FT = 254\n",
            "TF = 11\n",
            "TT = 121\n",
            "np.log((FT)/(FF)) = 3.340109689682317\n",
            "np.log((TT)/(TF))-np.log((FT)/(FF)) = -0.9422144168839464\n",
            "    X Variable Y Variable                result\n",
            "0          [0]        [1]   [3.340109689682317]\n",
            "1          [0]        [1]   [3.340109689682317]\n",
            "2          [0]        [1]   [3.340109689682317]\n",
            "3          [1]        [1]  [2.3978952727983707]\n",
            "4          [0]        [1]   [3.340109689682317]\n",
            "..         ...        ...                   ...\n",
            "390        [0]        [1]   [3.340109689682317]\n",
            "391        [0]        [1]   [3.340109689682317]\n",
            "392        [0]        [1]   [3.340109689682317]\n",
            "393        [0]        [1]   [3.340109689682317]\n",
            "394        [0]        [1]   [3.340109689682317]\n",
            "\n",
            "[395 rows x 3 columns]\n"
          ]
        }
      ]
    }
  ]
}