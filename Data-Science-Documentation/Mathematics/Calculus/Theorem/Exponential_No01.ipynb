{
  "nbformat": 4,
  "nbformat_minor": 0,
  "metadata": {
    "colab": {
      "provenance": [],
      "collapsed_sections": [
        "U1AQsJV-ehGw",
        "_geusCTKw0pT",
        "HLh6U2yywxEV",
        "F1ZRSksg2wBY",
        "MMJ5ViiojjVE"
      ],
      "authorship_tag": "ABX9TyO4TMda022D3c6crqBZHp00",
      "include_colab_link": true
    },
    "kernelspec": {
      "name": "python3",
      "display_name": "Python 3"
    },
    "language_info": {
      "name": "python"
    }
  },
  "cells": [
    {
      "cell_type": "markdown",
      "metadata": {
        "id": "view-in-github",
        "colab_type": "text"
      },
      "source": [
        "<a href=\"https://colab.research.google.com/github/NihilisticMotif/Data-Science-Documentation/blob/main/Data-Science-Documentation/Mathematics/Calculus/Theorem/Exponential_No01.ipynb\" target=\"_parent\"><img src=\"https://colab.research.google.com/assets/colab-badge.svg\" alt=\"Open In Colab\"/></a>"
      ]
    },
    {
      "cell_type": "markdown",
      "source": [
        "###(0) Triangle of Power (3Blue1Brown)\n",
        "\n",
        "* reference: https://youtu.be/sULa9Lc4pck"
      ],
      "metadata": {
        "id": "J8_RZXUY3yRq"
      }
    },
    {
      "cell_type": "markdown",
      "source": [
        "**Notation**\n",
        "* $\\frac{[a]}{[b][]}=b^a$\n",
        "* $\\frac{[]}{[b][c]}=\\log_{b}c$\n",
        "* $\\frac{[a]}{[][c]}=(c)^{\\frac{1}{a}}$\n",
        "\n",
        "**Operation**\n",
        "* $\\frac{[+]}{[\\mathbb{R}][\\times]}$\n",
        "* $\\frac{[y_1]}{[x][]}*\\frac{[y_2]}{[x][]}=x^{y_1}*x^{y_2}=x^{y_1+y_2}$\n",
        "* $\\frac{[]}{[x][y_1]}+\\frac{[]}{[x][y_1]}=\\log_{x}y_1+\\log_{x}y_2=\\log_{x}(y_1*y_2)$\n",
        "\n",
        "**Identity**\n",
        "* $\\frac{[\\frac{[]}{[b][c]}]}{[b][]}=b^{\\log_{b}c}=c$\n",
        "* etc."
      ],
      "metadata": {
        "id": "viUyCB436_fx"
      }
    },
    {
      "cell_type": "markdown",
      "source": [
        "###(1) $a^b=c \\implies \\log_ac=b$"
      ],
      "metadata": {
        "id": "U1AQsJV-ehGw"
      }
    },
    {
      "cell_type": "markdown",
      "source": [
        "Types of $\\log_ab$\n",
        "1. Logarithm = $\\log_ab$\n",
        "2. Common Logarithm = $\\log_{10}b=\\log b$\n",
        "3. Natural Logarithm = $\\log_eb=\\ln b$"
      ],
      "metadata": {
        "id": "gulV-qn9g9ta"
      }
    },
    {
      "cell_type": "markdown",
      "source": [
        "Properties\n",
        "* $\\log_ab > 0$\n",
        "* $\\log_aa^x=x$\n",
        "* $a^{\\log_ax}=x$\n",
        "* $\\log_a1=0$"
      ],
      "metadata": {
        "id": "N0osngf_wq4H"
      }
    },
    {
      "cell_type": "markdown",
      "source": [
        "Property of $f(x)=\\log_a(mx+c)$\n",
        "\n",
        "1. Domain (the domain of a function is the set of inputs accepted by the function.)\n",
        "\n",
        "* $mx+c>0$\n",
        "\n",
        "$mx>-c$\n",
        "\n",
        "* If $m>0 \\implies x>\\frac{-c}{|m|} \\therefore$ Domain = $(\\frac{-c}{|m|},\\infty)$\n",
        "\n",
        "* If $m<0 \\implies x<\\frac{-c}{-|m|} \\implies x<\\frac{c}{|m|}$ Domain = $(-\\infty, \\frac{c}{|m|})$\n",
        "\n",
        "2. Range = the difference between the largest and smallest value of $f(x)$. \n",
        "\n",
        "* In this case, range = $(-\\infty,\\infty)$\n",
        "\n",
        "3. Asymptote = a line or curve that acts as the limit of another line or curve. \n",
        "\n",
        "* Horizontal Asymptote = $\\infty$\\\n",
        "\n",
        "* If $m>0 \\implies$ Vertical Asymptote = $\\frac{-c}{|m|}$\n",
        "\n",
        "* If $m<0 \\implies$ Vertical Asymptote = $\\frac{c}{|m|}$"
      ],
      "metadata": {
        "id": "kqWZH0tAkugz"
      }
    },
    {
      "cell_type": "markdown",
      "source": [
        "Example:\n",
        "* $\\log_216=4$\n",
        "* $\\log_381=4$\n",
        "* $\\log_{10}-100=$ Undefined.\n",
        "* $\\log_70=$ Undefined.\n",
        "* etc."
      ],
      "metadata": {
        "id": "vvurHEExf1t0"
      }
    },
    {
      "cell_type": "markdown",
      "source": [
        "###(2) Rules of $\\log$"
      ],
      "metadata": {
        "id": "_geusCTKw0pT"
      }
    },
    {
      "cell_type": "markdown",
      "source": [
        "**Exponential Rules**\n",
        "* $a^0=1$\n",
        "* $a^m*a^n=a^{m+n}$\n",
        "* $\\frac{a^m}{a^n}=a^m*a^{-n}=a^{m-n}$\n",
        "* $(a^m)^n=a^{m*n}$"
      ],
      "metadata": {
        "id": "2kshkzsrw6YX"
      }
    },
    {
      "cell_type": "markdown",
      "source": [
        "**Logarithm Rules**\n",
        "* $\\log_a(1)=0$\n",
        "* $\\log_a(xy)=\\log_a(x)+\\log_a(y)$\n",
        "* $\\log_a(\\frac{x}{y})=\\log_a(x)-\\log_a(y)$\n",
        "* $\\log_a(x^y)=y*\\log_a(x)=\\log_a(x)*y$\n",
        "* $\\log_ab=\\frac{1}{\\log_ba}$"
      ],
      "metadata": {
        "id": "xULg-PqfyCEA"
      }
    },
    {
      "cell_type": "markdown",
      "source": [
        "**Prove that $\\log_a(xy)=\\log_a(x)+\\log_a(y)$:**\n",
        "\n",
        "Let \n",
        "* $x_u=\\log_a(x) \\therefore a^{x_u}=x$\n",
        "* $y_u=\\log_a(y) \\therefore a^{y_u}=y$\n",
        "* $b=\\log_a(\\frac{x}{y})$\n",
        "\n",
        "$a^{b}=xy=a^{x_u}*a^{y_u}=a^{x_u+y_u}$\n",
        "\n",
        "$\\therefore b=x_u+y_u=\\log_a(xy)=\\log_a(x)+\\log_a(y)$\n",
        "\n",
        "reference: https://math.stackexchange.com/questions/2002721/proof-of-logxy-log-x-log-y"
      ],
      "metadata": {
        "id": "c9yNa8Xz5qRJ"
      }
    },
    {
      "cell_type": "markdown",
      "source": [
        "**Prove that $\\log_a(\\frac{x}{y})=\\log_a(x)-\\log_a(y)$:**\n",
        "\n",
        "Let \n",
        "* $x_u=\\log_a(x) \\therefore a^{x_u}=x$\n",
        "* $y_u=\\log_a(y) \\therefore a^{y_u}=y$\n",
        "* $b=\\log_a(\\frac{x}{y})$\n",
        "\n",
        "$a^b=\\frac{x}{y}=\\frac{a^{x_u}}{a^{y_u}}=a^{x_u-y_u}$\n",
        "\n",
        "$\\therefore b = x_u-y_u = \\log_a(\\frac{x}{y})=\\log_a(x)-\\log_a(y)$"
      ],
      "metadata": {
        "id": "gHkotCUX-ykX"
      }
    },
    {
      "cell_type": "markdown",
      "source": [
        "**Prove that $\\log_a(x^y)=y*\\log_a(x)=\\log_a(x)*y$:**\n",
        "\n",
        "Let \n",
        "* $x_u=\\log_a(x) \\therefore a^{x_u}=x$\n",
        "\n",
        "$(a^{x_u})^n=a^{x_u*n}=x^n$\n",
        "\n",
        "$\\therefore \\log_a(x^n)=x_u*n=\\log_a(x)*n$"
      ],
      "metadata": {
        "id": "pqI7uNtB_8KP"
      }
    },
    {
      "cell_type": "markdown",
      "source": [
        "**Prove that: $\\log_ab=\\frac{1}{\\log_ba}$**\n",
        "\n",
        "Given that:\n",
        "* $a^b=c\\implies\\log_ac=b$\n",
        "\n",
        "$a=c^\\frac{1}{b}$\n",
        "\n",
        "$\\therefore\\log_ca=\\frac{1}{b}=\\frac{1}{\\log_ac}$"
      ],
      "metadata": {
        "id": "nDy8CuJ6qaQX"
      }
    },
    {
      "cell_type": "markdown",
      "source": [
        "###(-3) $\\frac{d}{dx}[e^x] =e^x$"
      ],
      "metadata": {
        "id": "HLh6U2yywxEV"
      }
    },
    {
      "cell_type": "markdown",
      "source": [
        "Property $e$\n",
        "\n",
        "1. $\\lim_{n \\to \\infty}(1+\\frac{1}{n})^n=e$\n",
        "2. $\\lim_{h \\to 0}\\frac{e^{h}-1}{h}=1$\n",
        "3. $\\frac{d}{dx}[e^x] = \\lim_{h \\to 0}\\frac{e^{x+h}-e^x}{h} = e^x\\lim_{h \\to 0}\\frac{e^{h}-1}{h} = e^x$"
      ],
      "metadata": {
        "id": "5F35d7Gqw28x"
      }
    },
    {
      "cell_type": "markdown",
      "source": [
        "**Example No1:**\n",
        "\n",
        "$\\frac{d}{dx}[c^x]=\\lim_{h\\to0}\\frac{c^{x+h}-c^x}{h}$\n",
        "\n",
        "$=c^x*\\lim_{h\\to0}\\frac{c^{h}-1}{h}$\n",
        "\n",
        "$=c^x*\\ln(c)$"
      ],
      "metadata": {
        "id": "zU4v3_-NI6BV"
      }
    },
    {
      "cell_type": "markdown",
      "source": [
        "**Prove that $\\lim_{h \\to 0}\\frac{e^{h}-1}{h}=1$**\n",
        "\n",
        "Given that\n",
        "* $y=e^h-1$\n",
        "\n",
        "$\\therefore y+1=e^h$\n",
        "\n",
        "$\\log_e(y+1)=\\log_e(e^h)$\n",
        "\n",
        "According to Logarithm property: $\\log_aa^x=x$\n",
        "\n",
        "$\\therefore \\log_e(y+1)=h$\n",
        "\n",
        "Given that\n",
        "* $y=e^h-1$\n",
        "* $\\log_e(y+1)=h$\n",
        "\n",
        "$\\therefore \\frac{e^{h}-1}{h}=\\frac{y}{\\log_e(y+1)}=\\frac{e^{h}-1}{\\log_e(e^h-1+1)}$\n",
        "\n",
        "Given that:\n",
        "* $\\lim_{h\\to0}e^h-1=\\lim_{y\\to0}y$\n",
        "\n",
        "$\\therefore \\lim_{h\\to0}\\frac{e^{h}-1}{h}=\\lim_{y\\to0}\\frac{y}{\\log_e(y+1)}$\n",
        "\n",
        "$\\lim_{y\\to0}\\frac{y}{\\ln(y+1)}=\\lim_{y\\to0}\\frac{1}{\\frac{\\ln(y+1)}{y}}$\n",
        "\n",
        "$\\lim_{y\\to0}\\frac{y}{\\ln(y+1)}=\\lim_{y\\to0}\\frac{1}{\\frac{1}{y}*\\ln(y+1)}$\n",
        "\n",
        "\n",
        "According to Logarithm property: $\\log_a(x^y)=y*\\log_a(x)=\\log_a(x)*y$\n",
        "\n",
        "$\\therefore\\lim_{y\\to0}\\frac{y}{\\ln(y+1)}=\\lim_{y\\to0}\\frac{1}{\\ln((y+1)^\\frac{1}{y})}$\n",
        "\n",
        "Given that\n",
        "* $\\lim_{n\\to\\infty}(1+\\frac{1}{n})^n=e$\n",
        "* $\\lim_{n\\to\\infty}\\frac{1}{n}=\\lim_{y\\to0}y$\n",
        "* $\\therefore \\lim_{n\\to\\infty}(1+\\frac{1}{n})^n=\\lim_{y\\to0}(y+1)^\\frac{1}{y}=e$\n",
        "\n",
        "$\\therefore\\lim_{y\\to0}\\frac{y}{\\ln(y+1)}=\\frac{1}{\\ln(e)}$\n",
        "\n",
        "According to Logarithm property: $\\log_aa^x=x$\n",
        "\n",
        "$\\therefore\\lim_{y\\to0}\\frac{y}{\\ln(y+1)}=\\frac{1}{1}=1$\n",
        "\n",
        "reference:\n",
        "* https://youtu.be/qWw8VnzTddg\n",
        "* https://socratic.org/questions/how-do-you-solve-the-following-limit-e-x-1-x-as-x-approaches-zero"
      ],
      "metadata": {
        "id": "7rJUQgU0Xohu"
      }
    },
    {
      "cell_type": "markdown",
      "source": [
        "**Prove that $\\lim_{h \\to 0}\\frac{e^{h}-1}{h}=1$ No.2**\n",
        "\n",
        "According to L'Hôpital's rule, $\\lim_{x\\to c}\\frac{f(x)}{g(x)}=\\lim_{x\\to c}\\frac{f'(x)}{g'(x)}$\n",
        "\n",
        "$\\therefore\\lim_{h \\to 0}\\frac{e^{h}-1}{h}=\\lim_{h \\to 0}\\frac{e^{h}-0}{1}=\\frac{e^{0}-0}{1}=1$\n",
        "\n",
        "reference:\n",
        "* https://www.quora.com/How-lim-of-h-approach-to-zero-e-h-1-h-is-equal-to-1-but-by-direct-substituting-you-get-0-0"
      ],
      "metadata": {
        "id": "jFc5tgP0gQio"
      }
    },
    {
      "cell_type": "markdown",
      "source": [
        "**Unfinished, Prove that $\\lim_{h \\to 0}\\frac{e^{h}-1}{h}=1$ No.3**\n",
        "\n",
        "???\n",
        "\n",
        "reference:\n",
        "* https://math.stackexchange.com/questions/2832934/how-to-prove-that-lim-h-to-0-fraceh-1h"
      ],
      "metadata": {
        "id": "wjv0FtUkk8qJ"
      }
    },
    {
      "cell_type": "markdown",
      "source": [
        "**Prove that $\\lim_{h\\to0}\\frac{c^{h}-1}{h}=\\log_e(c)=\\ln(c)$: No.1**\n",
        "\n",
        "Given that:\n",
        "* $y=c^h-1$\n",
        "\n",
        "$\\lim_{y\\to0}y+1=\\lim_{h\\to0}c^h$\n",
        "\n",
        "$y+1=c^h$\n",
        "\n",
        "$\\ln(y+1)=\\ln(c^h)$\n",
        "\n",
        "According to Logarithm: $\\log_a(x^y)=y*\\log_a(x)=\\log_a(x)*y$\n",
        "\n",
        "$\\therefore\\ln(y+1)=h*\\ln(c)$\n",
        "\n",
        "$\\frac{\\ln(y+1)}{\\ln(c)}=h$\n",
        "\n",
        "Given that:\n",
        "* $y=c^h-1$\n",
        "* $\\frac{\\ln(y+1)}{\\ln(c)}=h$\n",
        "\n",
        "$\\therefore \\frac{c^h-1}{h}=\\frac{y}{\\frac{\\ln(y+1)}{\\ln(c)}}$\n",
        "\n",
        "$\\frac{c^h-1}{h}=\\frac{y}{\\ln(y+1)}*\\ln(c)$\n",
        "\n",
        "$\\frac{c^h-1}{h}=\\frac{1}{\\frac{1}{y}*\\ln(y+1)}*\\ln(c)$\n",
        "\n",
        "According to Logarithm property: $\\log_a(x^y)=y*\\log_a(x)=\\log_a(x)*y$\n",
        "\n",
        "$\\frac{c^h-1}{h}=\\frac{1}{\\ln((y+1)^{\\frac{1}{y}})}*\\ln(c)$\n",
        "\n",
        "Given that\n",
        "* $\\lim_{n\\to\\infty}(1+\\frac{1}{n})^n=e$\n",
        "* $\\lim_{n\\to\\infty}\\frac{1}{n}=\\lim_{y\\to0}y$\n",
        "* $\\therefore \\lim_{n\\to\\infty}(1+\\frac{1}{n})^n=\\lim_{y\\to0}(y+1)^\\frac{1}{y}=e$\n",
        "\n",
        "$\\therefore\\frac{c^h-1}{h}=\\frac{1}{\\ln(e))}*\\ln(c)$\n",
        "\n",
        "According to Logarithm property: $\\log_aa^x=x$\n",
        "\n",
        "$\\therefore\\frac{c^h-1}{h}=\\ln(c)$\n",
        "\n",
        "\n",
        "reference:\n",
        "* https://math.stackexchange.com/questions/331153/proving-that-lim-h-to-0-fracbh-1h-lnb"
      ],
      "metadata": {
        "id": "N6JQ6fyedivN"
      }
    },
    {
      "cell_type": "markdown",
      "source": [
        "###(-4) $e=\\Sigma_{k=0}^{\\infty}\\frac{1}{k!}$"
      ],
      "metadata": {
        "id": "MMJ5ViiojjVE"
      }
    },
    {
      "cell_type": "markdown",
      "source": [
        "**Proof No.1: (Unfinished)**\n",
        "\n",
        "Given that:\n",
        "* $e=\\lim_{k\\to\\infty}(1+\\frac{1}{k})^k$\n",
        "\n",
        "According to Binomial theorem: $(x+y)^n=\\Sigma_{r=0}^n\\frac{n!}{(n-r)!*r!}x^{n-r}y^r$\n",
        "\n",
        "$\\therefore e=\\lim_{k\\to\\infty}(1+\\frac{1}{k})^k=\\lim_{k\\to\\infty}\\Sigma_{r=0}^k\\frac{k!}{(k-r)!*r!}1^{k-r}*(\\frac{1}{k})^r$\n",
        "\n",
        "$e=\\lim_{k\\to\\infty}(1+\\frac{1}{k})^k=\\lim_{k\\to\\infty}\\Sigma_{r=0}^k\\frac{k!}{(k-r)!*r!}(\\frac{1}{k})^r$\n",
        "\n",
        "$e=\\lim_{k\\to\\infty}(1+\\frac{1}{k})^k=\\lim_{k\\to\\infty}\\Sigma_{r=0}^k\\frac{k!}{(k-r)!*r!}*k^{-r}$\n",
        "\n",
        "$e=\\lim_{k\\to\\infty}(1+\\frac{1}{k})^k=\\lim_{k\\to\\infty}\\Sigma_{r=0}^k\\frac{(k-1)!}{(k-r)!*r!}k^{-r+1}$\n",
        "\n",
        "\n",
        "Note:\n",
        "\n",
        "$e=\\lim_{k\\to\\infty}(1+\\frac{1}{k})^k=\\lim_{k\\to\\infty}\\Sigma_{r=0}^k\\frac{k*(k-1)*...*(k-r+1)*(k-r)*(k-r-1)*...*(1)}{(k-r)*(k-r-1)*...*(1)*r*(r-1)*...*(1)}(\\frac{1}{k})^r$\n",
        "\n",
        "$\\therefore e=\\lim_{k\\to\\infty}(1+\\frac{1}{k})^k=\\lim_{k\\to\\infty}\\Sigma_{r=0}^k\\frac{k*(k-1)*...*(k-r+1)}{r*(r-1)*...*(1)}(\\frac{1}{k})^r$\n",
        "\n",
        "$\\therefore e=\\lim_{k\\to\\infty}(1+\\frac{1}{k})^k=\\lim_{k\\to\\infty}\\Sigma_{r=0}^k\\frac{(k-1)*...*(k-r+1)}{r*(r-1)*...*(1)}(\\frac{1}{k})^{r-1}$\n",
        "\n",
        "if\n",
        "1. $r=0\\implies \\lim_{k\\to\\infty} \\frac{k!}{k!}*k^{0} = 1$\n",
        "1. $r=1\\implies \\lim_{k\\to\\infty} \\frac{k!}{(k-1)!}*k^{-1} = 1$\n",
        "1. $r=2\\implies \\lim_{k\\to\\infty} \\frac{k!}{(k-2)!*2}*k^{-2}$\n",
        "* $\\therefore lim_{k\\to\\infty} \\frac{k!}{(k-2)!*2}*k^{-2}= lim_{k\\to\\infty} \\frac{(k-1)!}{(k-2)!*2}*k^{-1}$\n",
        "* $\\therefore lim_{k\\to\\infty} \\frac{k!}{(k-2)!*2}*k^{-2}= lim_{k\\to\\infty} \\frac{(k-1)!}{k*(k-2)!*2}$\n",
        "* $\\therefore lim_{k\\to\\infty} \\frac{k!}{(k-2)!*2}*k^{-2}c= lim_{k\\to\\infty} \\frac{(k-1)}{k*2}$\n",
        "* $\\therefore lim_{k\\to\\infty} \\frac{k!}{(k-2)!*2}*k^{-2}c= lim_{k\\to\\infty} \\frac{(k-1)}{k}*\\frac{1}{2}$\n",
        "* $\\therefore lim_{k\\to\\infty} \\frac{k!}{(k-2)!*2}*k^{-2}c\n",
        "= \\frac{1}{2}$\n",
        "1. $r=3\\implies \\lim_{k\\to\\infty} \\frac{k!}{(k-3)!*3!}*k^{-3} = 1$\n",
        "\n",
        "\n",
        "$e=\\lim_{k\\to\\infty}(1+\\frac{1}{k})^k=\\lim_{k\\to\\infty}\\Sigma_{r=0}^k\\frac{k*(k-1)*...*1}{(k-r)*(k-r-1)*...*(1)*r*(r-1)*...*(1)}(\\frac{1}{k})*(\\frac{1}{k})*...*(\\frac{1}{k})$\n",
        "\n",
        "\n",
        "$r\\leq k$"
      ],
      "metadata": {
        "id": "rinxe5nhkzBu"
      }
    },
    {
      "cell_type": "markdown",
      "source": [
        "**Proof No.2: (Unfinished)**\n",
        "\n",
        "\n",
        "Given that:\n",
        "* $e=\\lim_{k\\to\\infty}(1+\\frac{1}{k})^k$\n",
        "* $e=\\Sigma_{k=0}^{\\infty}\\frac{1}{k!}$\n",
        "\n",
        "According to Binomial theorem: $(x+y)^n=\\Sigma_{r=0}^n\\frac{n!}{(n-r)!*r!}x^{n-r}y^r$\n",
        "\n",
        "$\\therefore e=\\lim_{k\\to\\infty}(1+\\frac{1}{k})^k=\\lim_{k\\to\\infty}\\Sigma_{r=0}^k\\frac{k!}{(k-r)!*r!}1^{k-r}*(\\frac{1}{k})^r$\n",
        "\n",
        "$e=\\lim_{k\\to\\infty}(1+\\frac{1}{k})^k=\\lim_{k\\to\\infty}\\Sigma_{r=0}^k\\frac{k!}{(k-r)!*r!}(\\frac{1}{k})^r$\n",
        "\n",
        "$e=\\lim_{k\\to\\infty}(1+\\frac{1}{k})^k=\\lim_{k\\to\\infty}\\Sigma_{r=0}^k\\frac{k!}{(k-r)!*r!}*k^{-r}$\n",
        "\n",
        "$\\therefore e=\\lim_{n\\to\\infty}\\Sigma_{k=0}^n\\frac{n!}{(n-k)!*k!*n}=\\Sigma_{k=0}^{\\infty}\\frac{1}{k!}\\implies \\lim_{n\\to\\infty}\\Sigma_{k=0}^n\\frac{n!}{(n-k)!*n}=1$"
      ],
      "metadata": {
        "id": "9iT6MnHPzQl6"
      }
    },
    {
      "cell_type": "markdown",
      "source": [
        "$e=\\lim_{n\\to\\infty}(1+\\frac{1}{n})^n$"
      ],
      "metadata": {
        "id": "7kcuhEhSkRpn"
      }
    },
    {
      "cell_type": "markdown",
      "source": [
        "reference:\n",
        "* https://en.wikipedia.org/wiki/List_of_representations_of_e#As_an_infinite_series"
      ],
      "metadata": {
        "id": "dWnCE4EPv047"
      }
    },
    {
      "cell_type": "markdown",
      "source": [
        "###(5) $\\frac{d}{dx}c^x=c^x*\\ln(c)$"
      ],
      "metadata": {
        "id": "F1ZRSksg2wBY"
      }
    },
    {
      "cell_type": "markdown",
      "source": [
        "**Prove:**\n",
        "\n",
        "$\\frac{d}{dx}c^x=\\lim_{h\\to0}\\frac{c^{x+h}-c^x}{h}$\n",
        "\n",
        "$\\frac{d}{dx}c^x=c^x*\\lim_{h\\to0}\\frac{c^{h}-1}{h}$\n",
        "\n",
        "Given that: \n",
        "* $\\lim_{h\\to0}\\frac{c^{h}-1}{h}=\\ln(c)$\n",
        "\n",
        "$\\therefore\\frac{d}{dx}c^x=c^x*\\ln(c)$"
      ],
      "metadata": {
        "id": "oTfzddW14k_8"
      }
    },
    {
      "cell_type": "markdown",
      "source": [
        "###(6) $\\frac{d}{dx}\\log_a(x)=\\frac{1}{x*\\ln(a)}$"
      ],
      "metadata": {
        "id": "00MlsxEW89P9"
      }
    },
    {
      "cell_type": "markdown",
      "source": [
        "**Prove that $\\frac{d}{dx}\\log_a(x)=\\frac{1}{x*\\ln(a)}$ No.1:**\n",
        "\n",
        "According to derivative: $\\frac{d}{dx}[f(x)]=\\lim_{h\\to0}\\frac{f(x+h)-f(x)}{h}$\n",
        "\n",
        "$\\frac{d}{dx}[\\log_a(x)]=\\lim_{h\\to0}\\frac{\\log_a(x+h)-\\log_a(x)}{h}$\n",
        "\n",
        "According to Logarithm: $\\log_a(\\frac{x}{y})=\\log_a(x)-\\log_a(y)$\n",
        "\n",
        "$\\frac{d}{dx}[\\log_a(x)]=\\lim_{h\\to0}\\frac{\\log_a(\\frac{x+h}{x})}{h}$\n",
        "\n",
        "$\\frac{d}{dx}[\\log_a(x)]=\\lim_{h\\to0}\\frac{\\log_a(1+\\frac{h}{x})}{h}$\n",
        "\n",
        "Given that:\n",
        "* $\\frac{h}{x}=t\\implies h=xt$\n",
        "* $\\lim_{h\\to0}\\frac{h}{x}=\\lim_{t\\to0}t$\n",
        "\n",
        "$\\therefore\\frac{d}{dx}[\\log_a(x)]=\\lim_{t\\to0}\\frac{\\log_a(1+t)}{xt}$\n",
        "\n",
        "$\\frac{d}{dx}[\\log_a(x)]=\\frac{1}{xt}*\\lim_{t\\to0}\\log_a(1+t)$\n",
        "\n",
        "According to Logarithm: $\\log_a(x^y)=y*\\log_a(x)=\\log_a(x)*y$\n",
        "\n",
        "$\\therefore\\frac{d}{dx}[\\log_a(x)]=\\frac{1}{x}*\\lim_{t\\to0}\\log_a((1+t)^{\\frac{1}{t}})$\n",
        "\n",
        "$\\frac{d}{dx}[\\log_a(x)]=\\frac{1}{x}\\log_a(\\lim_{t\\to0}(1+t)^{\\frac{1}{t}})$\n",
        "\n",
        "According to $e$: $e=\\lim_{n\\to\\infty}(1+\\frac{1}{n})^n=\\lim_{n\\to0}(1+n)^{\\frac{1}{n}}$\n",
        "\n",
        "$\\therefore\\frac{d}{dx}[\\log_a(x)]=\\frac{1}{x}*\\log_a(e)$\n",
        "\n",
        "According to logarithm: $\\log_ac=\\frac{1}{\\log_ca}$\n",
        "\n",
        "$\\therefore\\frac{d}{dx}[\\log_a(x)]=\\frac{1}{x*\\ln(a)}$\n",
        "\n",
        "reference:\n",
        "* https://www.cuemath.com/calculus/derivative-of-log-x/"
      ],
      "metadata": {
        "id": "QbCeF0wyeuMN"
      }
    },
    {
      "cell_type": "markdown",
      "source": [
        "**Prove that $\\frac{d}{dx}\\log_a(x)=\\frac{1}{x*\\ln(a)}$ No.2:**\n",
        "\n",
        "According to derivative: $\\frac{d}{dx}[f(x)]=\\lim_{h\\to0}\\frac{f(x+h)-f(x)}{h}$\n",
        "\n",
        "$\\frac{d}{dx}[\\log_a(x)]=\\lim_{h\\to0}\\frac{\\log_a(x+h)-\\log_a(x)}{h}$\n",
        "\n",
        "According to Logarithm: $\\log_a(\\frac{x}{y})=\\log_a(x)-\\log_a(y)$\n",
        "\n",
        "$\\frac{d}{dx}[\\log_a(x)]=\\lim_{h\\to0}\\frac{\\log_a(\\frac{x+h}{x})}{h}$\n",
        "\n",
        "$\\frac{d}{dx}[\\log_a(x)]=\\lim_{h\\to0}\\frac{\\log_a(1+\\frac{h}{x})}{h}$\n",
        "\n",
        "Given that:\n",
        "* $\\lim_{y\\to1}y=\\lim_{h\\to0}1+\\frac{h}{x}\\implies\\lim_{h\\to0} h=\\lim_{y\\to1}x(y-1)$\n",
        "\n",
        "$\\therefore\\frac{d}{dx}[\\log_a(x)]=\\lim_{y\\to1}\\frac{\\log_a(y)}{x(y-1)}$\n",
        "\n",
        "$\\frac{d}{dx}[\\log_a(x)]=\\frac{1}{x}*\\lim_{y\\to1}\\frac{\\log_a(y)}{y-1}$\n",
        "\n",
        "Given that:\n",
        "* $\\lim_{y\\to1}y-1=\\lim_{z\\to0}z\\implies\\lim_{y\\to1}\\log_ay=\\lim_{z\\to0}\\log_a(z+1)$\n",
        "\n",
        "$\\therefore\\frac{d}{dx}[\\log_a(x)]=\\frac{1}{x}*\\lim_{z\\to0}\\frac{\\log_a(z+1)}{z}$\n",
        "\n",
        "According to logarithm: $\\log_a(x^y)=y*\\log_a(x)=\\log_a(x)*y$\n",
        "\n",
        "$\\therefore\\frac{d}{dx}[\\log_a(x)]=\\frac{1}{x}*\\lim_{z\\to0}\\log_a((z+1)^{\\frac{1}{z}})$\n",
        "\n",
        "$\\frac{d}{dx}[\\log_a(x)]=\\frac{1}{x}*\\log_a(\\lim_{z\\to0}(z+1)^{\\frac{1}{z}})$\n",
        "\n",
        "According to $e$: $e=\\lim_{n\\to0}(1+n)^\\frac1n$\n",
        "\n",
        "$\\therefore\\frac{d}{dx}[\\log_a(x)]=\\frac{1}{x}*\\log_a(e)$\n",
        "\n",
        "According to logarithm: $\\log_ab=\\frac{1}{\\log_ba}$\n",
        "\n",
        "$\\therefore\\frac{d}{dx}[\\log_a(x)]=\\frac{1}{x*\\ln(a)}$\n"
      ],
      "metadata": {
        "id": "_tPAi92yuB0U"
      }
    },
    {
      "cell_type": "markdown",
      "source": [
        "###(7) $\\frac{d}{dx}[x^x]$"
      ],
      "metadata": {
        "id": "txSPUvd9d-vX"
      }
    },
    {
      "cell_type": "markdown",
      "source": [
        "Given that: $y=x^x$\n",
        "\n",
        "$\\therefore \\ln(y)=\\ln(x^x)$\n",
        "\n",
        "According to Logarithm: $\\log_a(x^y)=y*\\log_a(x)=\\log_a(x)*y$\n",
        "\n",
        "$\\therefore \\ln(y)=x*\\ln(x)$\n",
        "\n",
        "$\\frac{dy}{dx}[\\ln(y)]=\\frac{dy}{dx}[x*\\ln(x)]$\n",
        "\n",
        "According to Product Rule: $\\frac{d}{dx}[f(x)*g(x)] = f'(x)*g(x)+g'(x)*f(x)$\n",
        "\n",
        "$\\therefore\\frac{dy}{dx}[\\ln(y)]=\\frac{dy}{dx}[x]*\\ln(x)+x*\\frac{dy}{dx}[\\ln(x)]$\n",
        "\n",
        "$\\therefore\\frac{dy}{dx}[\\ln(y)]=\\ln(x)+x*\\frac{dy}{dx}[\\ln(x)]$\n",
        "\n",
        "According to derivertive: $\\frac{d}{dx}[\\log_a(x)]=\\frac{1}{\\ln(a)*x}$\n",
        "\n",
        "Given that: $\\ln(e)=1$\n",
        "\n",
        "$\\therefore\\frac{dy}{dx}[\\ln(y)]=\\ln(x)+x*\\frac{1}{x}$\n",
        "\n",
        "$\\therefore\\frac{dy}{dx}[\\ln(y)]=\\ln(x)+1$\n",
        "\n",
        "According to Chain Rule: $\\frac{d}{dx}[f(g(x))] = (f\\circ g)'= f'(g(x))*g'(x)$\n",
        "\n",
        "Given that:\n",
        "* $f(x)=\\ln(x)\\implies f'(x)=\\frac{1}{x}$\n",
        "* $g(x)=y\\implies g'(x)=\\frac{dy}{dx}$\n",
        "\n",
        "$\\therefore\\frac{1}{y}*\\frac{dy}{dx}=\\ln(x)+1$\n",
        "\n",
        "$\\frac{dy}{dx}=y*(\\ln(x)+1)$\n",
        "\n",
        "Given that: $y=x^x$\n",
        "\n",
        "$\\therefore\\frac{dy}{dx}=x^x*(\\ln(x)+1)$\n"
      ],
      "metadata": {
        "id": "GIi4d7jzd-vY"
      }
    },
    {
      "cell_type": "markdown",
      "source": [
        "###(8) $\\frac{d}{dx}[\\log_a(x)]=\\frac{1}{\\ln(a)*x}$"
      ],
      "metadata": {
        "id": "8Hi-CNuL9jZu"
      }
    },
    {
      "cell_type": "markdown",
      "source": [
        "**Prove that $\\frac{d}{dx}\\log_a(x)=\\frac{1}{x*\\ln(a)}$ No.1:**\n",
        "\n",
        "According to derivative: $\\frac{d}{dx}[f(x)]=\\lim_{h\\to0}\\frac{f(x+h)-f(x)}{h}$\n",
        "\n",
        "$\\frac{d}{dx}[\\log_a(x)]=\\lim_{h\\to0}\\frac{\\log_a(x+h)-\\log_a(x)}{h}$\n",
        "\n",
        "According to Logarithm: $\\log_a(\\frac{x}{y})=\\log_a(x)-\\log_a(y)$\n",
        "\n",
        "$\\frac{d}{dx}[\\log_a(x)]=\\lim_{h\\to0}\\frac{\\log_a(\\frac{x+h}{x})}{h}$\n",
        "\n",
        "$\\frac{d}{dx}[\\log_a(x)]=\\lim_{h\\to0}\\frac{\\log_a(1+\\frac{h}{x})}{h}$\n",
        "\n",
        "Given that:\n",
        "* $\\frac{h}{x}=t\\implies h=xt$\n",
        "* $\\lim_{h\\to0}\\frac{h}{x}=\\lim_{t\\to0}t$\n",
        "\n",
        "$\\therefore\\frac{d}{dx}[\\log_a(x)]=\\lim_{t\\to0}\\frac{\\log_a(1+t)}{xt}$\n",
        "\n",
        "$\\frac{d}{dx}[\\log_a(x)]=\\frac{1}{xt}*\\lim_{t\\to0}\\log_a(1+t)$\n",
        "\n",
        "According to Logarithm: $\\log_a(x^y)=y*\\log_a(x)=\\log_a(x)*y$\n",
        "\n",
        "$\\therefore\\frac{d}{dx}[\\log_a(x)]=\\frac{1}{x}*\\lim_{t\\to0}\\log_a((1+t)^{\\frac{1}{t}})$\n",
        "\n",
        "$\\frac{d}{dx}[\\log_a(x)]=\\frac{1}{x}\\log_a(\\lim_{t\\to0}(1+t)^{\\frac{1}{t}})$\n",
        "\n",
        "According to $e$: $e=\\lim_{n\\to\\infty}(1+\\frac{1}{n})^n=\\lim_{n\\to0}(1+n)^{\\frac{1}{n}}$\n",
        "\n",
        "$\\therefore\\frac{d}{dx}[\\log_a(x)]=\\frac{1}{x}*\\log_a(e)$\n",
        "\n",
        "According to logarithm: $\\log_ac=\\frac{1}{\\log_ca}$\n",
        "\n",
        "$\\therefore\\frac{d}{dx}[\\log_a(x)]=\\frac{1}{x*\\ln(a)}$\n",
        "\n",
        "reference:\n",
        "* https://www.cuemath.com/calculus/derivative-of-log-x/"
      ],
      "metadata": {
        "id": "QIT5DX-VkKnH"
      }
    },
    {
      "cell_type": "markdown",
      "source": [
        "**Find $\\frac{d}{dx}[\\log_af(x)]=?$**"
      ],
      "metadata": {
        "id": "xi3szD5Uh-5i"
      }
    }
  ]
}