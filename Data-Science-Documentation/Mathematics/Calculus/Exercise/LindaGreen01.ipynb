{
  "nbformat": 4,
  "nbformat_minor": 0,
  "metadata": {
    "colab": {
      "provenance": [],
      "authorship_tag": "ABX9TyNX8JgTL1BnyqoV4C46LTRS",
      "include_colab_link": true
    },
    "kernelspec": {
      "name": "python3",
      "display_name": "Python 3"
    },
    "language_info": {
      "name": "python"
    }
  },
  "cells": [
    {
      "cell_type": "markdown",
      "metadata": {
        "id": "view-in-github",
        "colab_type": "text"
      },
      "source": [
        "<a href=\"https://colab.research.google.com/github/NihilisticMotif/Data-Science-Documentation/blob/main/Data-Science-Documentation/Mathematics/Calculus/Exercise/LindaGreen01.ipynb\" target=\"_parent\"><img src=\"https://colab.research.google.com/assets/colab-badge.svg\" alt=\"Open In Colab\"/></a>"
      ]
    },
    {
      "cell_type": "markdown",
      "source": [
        "###(1) Related Rates - Distances\n",
        "\n",
        "* reference: https://youtu.be/HfACrKJ_Y2w (8:12:11) "
      ],
      "metadata": {
        "id": "V-HbfjLyKeML"
      }
    },
    {
      "cell_type": "markdown",
      "source": [
        "**Problem:** \n",
        "\n",
        "**Note**\n",
        "* $m_s=$ miles\n",
        "* $m_t=$ minutes\n",
        "* $\\vec{P_c}\\in\\mathbb{R^3} = (c_1,c_2,t)=$ at position $(c_1,c_2)$ in time $t$ of the object $c$\n",
        "* $f_c(t)=$ movement of the object $c$\n",
        "\n",
        "**In this case**\n",
        "* $\\vec{P_A}=(-20,0,0)$\n",
        "* $\\vec{P_B}=(0,0,0)$\n",
        "* $A$ go to east with speed $\\frac{2}{3}\\,\\frac{m_s}{60m_t}$\n",
        "* $A_1=f_A(t)=40t-20$\n",
        "* $B$ go south with speed $\\frac{1}{5}\\,\\frac{m_s}{60m_t}$\n",
        "* $B_2=f_B(x_3)=-12t$\n",
        "* what is $\\frac{dy}{dx}$ of distance between $A$ and $B$ at $15\\,m_t$?"
      ],
      "metadata": {
        "id": "H9j1HKMitPF6"
      }
    },
    {
      "cell_type": "markdown",
      "source": [
        "**Question**\n",
        "1. Why ..."
      ],
      "metadata": {
        "id": "E_aNPoBEcIZ9"
      }
    },
    {
      "cell_type": "markdown",
      "source": [
        "**This Solution is wrong!!**\n",
        "\n",
        "Given that:\n",
        "* $f_a(x)=40x$\n",
        "* $f_b(x)=12x$\n",
        "* $f(x)_{ab}=(f_a(x)^2+f_b(x)^2)^{\\frac{1}{2}}=(1744)^{\\frac{1}{2}}x$\n",
        "* $15$ minutes = $\\frac{1}{4}$ hours\n",
        "\n",
        "$\\therefore \\frac{d}{dx}[f(\\frac{1}{4})_{ab}]=(1744)^{\\frac{1}{2}}$"
      ],
      "metadata": {
        "id": "-NfYOsHYL4Fy"
      }
    },
    {
      "cell_type": "markdown",
      "source": [
        "**Solution is not finished**\n",
        "\n",
        "Given that:\n",
        "* $f_D(t)^2=\\,\\{$ distance between $A$ and $B\\}^2\\,=\\,|A_1|^2+|B_2|^2$\n",
        "* $f_D(t)^2=\\,\\{$ distance between $A$ and $B\\}^2\\,=\\,f_A(t)^2+f_B(t)^2$\n",
        "* $f_D(t)=(f_A(t)^2+f_B(t)^2)^{\\frac{1}{2}}$\n",
        "\n",
        "$f_D(t)^2=f_A(t)^2+f_B(t)^2$\n",
        "\n",
        "$\\frac{d}{dt}[f_D(t)^2]=\\frac{d}{dt}[f_A(t)^2+f_B(t)^2]$\n",
        "\n",
        "According to Sum Rule, $\\frac{d}{dx}[f(x)+g(x)] = \\frac{d}{dx}f(x)+\\frac{d}{dx}g(x)$\n",
        "\n",
        "$\\frac{d}{dt}[f_D(t)^2]=\\frac{d}{dt}[f_A(t)^2]+\\frac{d}{dt}[f_B(t)^2]$\n",
        "\n",
        "According to Chain Rule: $\\frac{d}{dx}[f(g(x))] = (f\\circ g)'= f'(g(x))*g'(x)$\n",
        "\n",
        "Given that:\n",
        "* $f(t)=t^2 \\implies f'(t)=2t$\n",
        "* $g(t)$\n",
        "* $g(t)=mx+c\\implies g'(t)=m$\n",
        "* $\\therefore \\frac{d}{dt}[f(g(t))]=2g(t)g'(t)$\n",
        "\n",
        "$2f_D(t)f_D'(t)=2f_A(t)f_A'(t)+2f_B(t)f_B'(t)$\n",
        "\n",
        "$f_D(t)f_D'(t)=f_A(t)f_A'(t)+f_B(t)f_B'(t)$\n",
        "\n",
        "Given that:\n",
        "* $f_A(t)=40*t-20$\n",
        "* $f_A'(t)=$\n",
        "\n",
        "* $f_D(t)=((40*\\frac{15}{60})^2+(3*\\frac{15}{60})^2)^{\\frac{1}{2}}$\n",
        "\n",
        "$f_D(t)f_D'(t)=(40*\\frac{15}{60})*(-40)+(3*\\frac{15}{60})*(12)$"
      ],
      "metadata": {
        "id": "M3ggdiZ6dHJX"
      }
    },
    {
      "cell_type": "markdown",
      "source": [
        "**Solution is not finished**\n",
        "\n",
        "Given that:\n",
        "* $f_D(t)^2=\\,\\{$ distance between $A$ and $B\\}^2\\,=\\,|A_1|^2+|B_2|^2$\n",
        "* $f_D(t)^2=\\,\\{$ distance between $A$ and $B\\}^2\\,=\\,f_A(t)^2+f_B(t)^2$\n",
        "* $f_D(t)=(f_A(t)^2+f_B(t)^2)^{\\frac{1}{2}}$\n",
        "\n",
        "$f_D(t)^2=f_A(t)^2+f_B(t)^2$\n",
        "\n",
        "$\\frac{d}{dt}[f_D(t)^2]=\\frac{d}{dt}[f_A(t)^2+f_B(t)^2]$\n",
        "\n",
        "According to Sum Rule, $\\frac{d}{dx}[f(x)+g(x)] = \\frac{d}{dx}f(x)+\\frac{d}{dx}g(x)$\n",
        "\n",
        "$\\frac{d}{dt}[f_D(t)^2]=\\frac{d}{dt}[f_A(t)^2]+\\frac{d}{dt}[f_B(t)^2]$\n",
        "\n",
        "According to Chain Rule: $\\frac{d}{dx}[f(g(x))] = (f\\circ g)'= f'(g(x))*g'(x)$\n",
        "\n",
        "Given that:\n",
        "* $f(t)=t^2 \\implies f'(t)=2t$\n",
        "* $g(t)$\n",
        "* $g(t)=mx+c\\implies g'(t)=m$\n",
        "* $\\therefore \\frac{d}{dt}[f(g(t))]=2g(t)g'(t)$\n",
        "\n",
        "$2f_D(t)f_D'(t)=2f_A(t)f_A'(t)+2f_B(t)f_B'(t)$\n",
        "\n",
        "$f_D(t)f_D'(t)=f_A(t)f_A'(t)+f_B(t)f_B'(t)$\n",
        "\n",
        "Given that:\n",
        "* $f_D(t)^2=f_A(t)^2+f_B(t)^2$\n",
        "\n",
        "$\\therefore (f_A(t)^2+f_B(t)^2)^{\\frac{1}{2}}f_D'(t)=f_A(t)f_A'(t)+f_B(t)f_B'(t)$\n",
        "\n",
        "Given that:\n",
        "* $f_A(t)=40t-20$\n",
        "* $f_A'(t)=40$\n",
        "* $f_B(t)=-12t$\n",
        "* $f_B'(t)=-12$\n",
        "\n",
        "$\\therefore ((40t-20)^2+(-12t)^2)^{\\frac{1}{2}}f_D'(t)=(40t-20)*40+(-12t)(-12)$\n",
        "\n",
        "$(1600t^2-800t+400+144)^{\\frac{1}{2}}f_D'(t)=1600t-800+144t$\n",
        "\n",
        "Given that:\n",
        "* $t=15$\n",
        "\n",
        "$\\therefore (1600*15^2-800*15+400+144)^{\\frac{1}{2}}f_D'(15)=1600*15-800+144*15$\n"
      ],
      "metadata": {
        "id": "-Zv1SkCQL4di"
      }
    },
    {
      "cell_type": "markdown",
      "source": [
        "**This Solution is wrong**\n",
        "\n",
        "Given that:\n",
        "* $f_D(t)^2=\\,\\{$ distance between $A$ and $B\\}^2\\,=\\,|A_1|^2+|B_2|^2$\n",
        "* $f_D(t)^2=\\,\\{$ distance between $A$ and $B\\}^2\\,=\\,f_A(t)^2+f_B(t)^2$\n",
        "* $f_D(t)=(f_A(t)^2+f_B(t)^2)^{\\frac{1}{2}}$\n",
        "\n",
        "$f_D(t)^2=f_A(t)^2+f_B(t)^2$\n",
        "\n",
        "$\\frac{d}{dt}[f_D(t)^2]=\\frac{d}{dt}[f_A(t)^2+f_B(t)^2]$\n",
        "\n",
        "According to Sum Rule, $\\frac{d}{dx}[f(x)+g(x)] = \\frac{d}{dx}f(x)+\\frac{d}{dx}g(x)$\n",
        "\n",
        "$\\frac{d}{dt}[f_D(t)^2]=\\frac{d}{dt}[f_A(t)^2]+\\frac{d}{dt}[f_B(t)^2]$\n",
        "\n",
        "According to Chain Rule: $\\frac{d}{dx}[f(g(x))] = (f\\circ g)'= f'(g(x))*g'(x)$\n",
        "\n",
        "Given that:\n",
        "* $f(t)=t^2 \\implies f'(t)=2t$\n",
        "* $g(t)$\n",
        "* $g(t)=mx+c\\implies g'(t)=m$\n",
        "* $\\therefore \\frac{d}{dt}[f(g(t))]=2g(t)g'(t)$\n",
        "\n",
        "$2f_D(t)f_D'(t)=2f_A(t)f_A'(t)+2f_B(t)f_B'(t)$\n",
        "\n",
        "$f_D(t)f_D'(t)=f_A(t)f_A'(t)+f_B(t)f_B'(t)$\n",
        "\n",
        "Given that:\n",
        "* $f_A(t)=\\frac{2}{3}t-20\\implies f_A'(t)=\\frac{2}{3}$\n",
        "* $f_B(x_3)=-\\frac{1}{5}t\\implies f_B'(t)=-\\frac{1}{5}$\n",
        "\n",
        "$\\therefore f_D(t)f_D'(t)=(\\frac{2}{3}t-20)*\\frac{2}{3}-(-\\frac{1}{5}t)*\\frac{1}{5}$\n",
        "\n",
        "$f_D(t)f_D'(t)=\\frac{4t}{9}-\\frac{40}{3}+\\frac{t}{25}$\n",
        "\n",
        "$f_D(t)f_D'(t)=\\frac{4t}{9}+\\frac{t}{25}-\\frac{40}{3}$\n",
        "\n",
        "$f_D(t)f_D'(t)=\\frac{109t}{225}-\\frac{40}{3}$\n",
        "\n",
        "Given that:\n",
        "* $f_D(t)=(f_A(t)^2+f_B(t)^2)^{\\frac{1}{2}}$\n",
        "\n",
        "$(f_A(t)^2+f_B(t)^2)^{\\frac{1}{2}}f_D'(t)=\\frac{109t}{225}-\\frac{40}{3}$\n",
        "\n",
        "$((\\frac{2}{3}t-20)^2+(-\\frac{1}{5}t)^2)^{\\frac{1}{2}}f_D'(t)=\\frac{109t}{225}-\\frac{40}{3}$\n",
        "\n",
        "$(\\frac{4}{9}t^2-\\frac{40}{3}t+400+\\frac{t^2}{25})^{\\frac{1}{2}}f_D'(t)=\\frac{109t}{225}-\\frac{40}{3}$\n",
        "\n",
        "\n",
        "Given that:\n",
        "* $t=15$\n",
        "\n",
        "$(\\frac{4}{9}*15^2-\\frac{40}{3}*15+400+\\frac{15^2}{25})^{\\frac{1}{2}}f_D'(15)=\\frac{109*15}{225}-\\frac{40}{3}$\n"
      ],
      "metadata": {
        "id": "6xaQwsS8IyDu"
      }
    },
    {
      "cell_type": "markdown",
      "source": [
        "**This Solution is wrong**\n",
        "\n",
        "Given that:\n",
        "* $f_D(t)^2=\\,\\{$ distance between $A$ and $B\\}^2\\,=\\,|A_1|^2+|B_2|^2$\n",
        "* $f_D(t)^2=\\,\\{$ distance between $A$ and $B\\}^2\\,=\\,f_A(t)^2+f_B(t)^2$\n",
        "* $f_D(t)=(f_A(t)^2+f_B(t)^2)^{\\frac{1}{2}}$\n",
        "\n",
        "$f_D(t)^2=f_A(t)^2+f_B(t)^2$\n",
        "\n",
        "$\\frac{d}{dt}[f_D(t)^2]=\\frac{d}{dt}[f_A(t)^2+f_B(t)^2]$\n",
        "\n",
        "According to Sum Rule, $\\frac{d}{dx}[f(x)+g(x)] = \\frac{d}{dx}f(x)+\\frac{d}{dx}g(x)$\n",
        "\n",
        "$\\frac{d}{dt}[f_D(t)^2]=\\frac{d}{dt}[f_A(t)^2]+\\frac{d}{dt}[f_B(t)^2]$\n",
        "\n",
        "According to Chain Rule: $\\frac{d}{dx}[f(g(x))] = (f\\circ g)'= f'(g(x))*g'(x)$\n",
        "\n",
        "Given that:\n",
        "* $f(t)=t^2 \\implies f'(t)=2t$\n",
        "* $g(t)$\n",
        "* $g(t)=mx+c\\implies g'(t)=m$\n",
        "* $\\therefore \\frac{d}{dt}[f(g(t))]=2g(t)g'(t)$\n",
        "\n",
        "$2f_D(t)f_D'(t)=2f_A(t)f_A'(t)+2f_B(t)f_B'(t)$\n",
        "\n",
        "$f_D(t)f_D'(t)=f_A(t)f_A'(t)+f_B(t)f_B'(t)$\n",
        "\n",
        "Given that:\n",
        "* $f_A(t)=\\frac{2}{3}t-20\\implies f'_A=\\frac{2}{3}$\n",
        "* $f_B(x_3)=-\\frac{1}{5}t\\implies f'_B=\\frac{1}{5}$\n",
        "\n",
        "$f_D(t)f_D'(t)=(\\frac{2}{3}t-20)*\\frac{2}{3}-\\frac{1}{5}t*\\frac{1}{5}$\n",
        "\n",
        "$f_D(t)f_D'(t)=\\frac{4}{9}t-\\frac{40}{3}-\\frac{1}{25}t$\n",
        "\n",
        "Given that:\n",
        "* $f_D(t)=(f_A(t)^2+f_B(t)^2)^{\\frac{1}{2}}$\n",
        "\n",
        "$(f_A(t)^2+f_B(t)^2)^{\\frac{1}{2}}f_D'(t)=\\frac{4}{9}t-\\frac{40}{3}-\\frac{1}{25}t$\n",
        "\n",
        "$((\\frac{2}{3}t-20)^2+(-\\frac{1}{5}t)^2)^{\\frac{1}{2}}f_D'(t)=\\frac{4}{9}t-\\frac{40}{3}+\\frac{1}{25}t$\n",
        "\n",
        "$(\\frac{4}{9}t^2-\\frac{80}{3}t+400+\\frac{t^2}{25})^{\\frac{1}{2}}f_D'(t)=\\frac{4}{9}t-\\frac{40}{3}+\\frac{1}{25}t$\n",
        "\n",
        "$(t^2(\\frac{4}{9}+\\frac{1}{25})-\\frac{80}{3}t+400)^{\\frac{1}{2}}f_D'(t)=\\frac{4}{9}t-\\frac{40}{3}+\\frac{1}{25}t$\n",
        "\n",
        "$(t^2(\\frac{4*25+9}{9*25})-\\frac{80}{3}t+400)^{\\frac{1}{2}}f_D'(t)=\\frac{4}{9}t-\\frac{40}{3}+\\frac{1}{25}t$\n",
        "\n",
        "$(t^2(\\frac{109}{225})-\\frac{80}{3}t+400)^{\\frac{1}{2}}f_D'(t)=\\frac{4}{9}t-\\frac{40}{3}+\\frac{1}{25}t$\n",
        "\n",
        "$(t^2(\\frac{109}{225})-\\frac{80}{3}t+400)^{\\frac{1}{2}}f_D'(t)=\\frac{4}{9}t+\\frac{1}{25}t-\\frac{40}{3}$\n",
        "\n",
        "$(t^2(\\frac{109}{225})-\\frac{80}{3}t+400)^{\\frac{1}{2}}f_D'(t)=(\\frac{4}{9}+\\frac{1}{25})t-\\frac{40}{3}$\n",
        "\n",
        "$(t^2(\\frac{109}{225})-\\frac{80}{3}t+400)^{\\frac{1}{2}}f_D'(t)=\\frac{109}{225}t-\\frac{40}{3}$\n",
        "\n",
        "$f_D'(t)=\\frac{\\frac{109}{225}t-\\frac{40}{3}}{(t^2(\\frac{109}{225})-\\frac{80}{3}t+400)^{\\frac{1}{2}}}$\n"
      ],
      "metadata": {
        "id": "RLPduPu09e5n"
      }
    },
    {
      "cell_type": "markdown",
      "source": [
        "**This Solution is not finished and wrong**\n",
        "\n",
        "Given that:\n",
        "* $f_D(t)^2=\\,$ distance between $A$ and $B\\,=\\,|A_1|^2+|B_2|^2$\n",
        "* $f_D(t)^2=\\,$ distance between $A$ and $B\\,=\\,|f_A(t)|^2+|f_B(t)|^2$\n",
        "\n",
        "$f_D(t)^2=|f_A(t)|^2+|f_B(t)|^2$\n",
        "\n",
        "$\\frac{d}{dt}[f_D(t)^2]=\\frac{d}{dt}[|f_A(t)|^2+|f_B(t)|^2]$\n",
        "\n",
        "According to Sum Rule, $\\frac{d}{dx}[f(x)+g(x)] = \\frac{d}{dx}f(x)+\\frac{d}{dx}g(x)$\n",
        "\n",
        "$\\frac{d}{dt}[f_D(t)^2]=\\frac{d}{dt}[|f_A(t)|^2]+\\frac{d}{dt}[|f_B(t)|^2]$\n",
        "\n",
        "According to Chain Rule: $\\frac{d}{dx}[f(g(x))] = (f\\circ g)'= f'(g(x))*g'(x)$\n",
        "\n",
        "Given that:\n",
        "* $f(t)=x^2 \\implies f'(t)=2x$\n",
        "* $g(t)=mx+c\\implies g'(t)=m$\n",
        "* $\\therefore \\frac{d}{dt}[f(g(t))]=2m(mt+c)=2m^2t+2mc$\n",
        "\n",
        "Given that:\n",
        "* $m_A=\\frac{2}{3},c_A=-20\\implies\\frac{d}{dt}[|f_A(t)|^2]=\\frac{4}{3}(\\frac{2}{3}t-20)=\\frac{8}{9}t-\\frac{80}{3}$\n",
        "* $m_B=\\frac{-1}{5},c_B=0\\implies\\frac{d}{dt}[|f_B(t)|^2]=\\frac{-2}{5}*\\frac{-t}{5}=\\frac{2t}{25}$\n",
        "\n",
        "$\\therefore\\frac{d}{dt}[f_D(t)^2]=\\frac{8}{9}t-\\frac{80}{3}+\\frac{2t}{25}$\n",
        "\n",
        "$\\frac{d}{dt}[f_D(t)^2]=\\frac{8}{9}t+\\frac{2t}{25}-\\frac{80}{3}$\n",
        "\n",
        "$\\frac{d}{dt}[f_D(t)^2]=\\frac{8*25+2*9}{9*25}t-\\frac{80}{3}$\n",
        "\n",
        "$\\frac{d}{dt}[f_D(t)^2]=\\frac{218}{225}t-\\frac{80}{3}$\n",
        "\n",
        "$\\frac{d}{dt}[f_D(t)^2]=2f_D(t)*\\frac{d}{dt}[f_D(t)]=\\frac{218}{225}t-\\frac{80}{3}$\n",
        "\n",
        "$\\frac{d}{dt}[f_D(t)]=\\frac{218}{225*2f_D(t)}t-\\frac{80}{3*2f_D(t)}$\n",
        "\n",
        "$\\frac{d}{dt}[f_D(t)]=\\frac{109}{225f_D(t)}t-\\frac{40}{3f_D(t)}$\n"
      ],
      "metadata": {
        "id": "jKzLkTThx841"
      }
    },
    {
      "cell_type": "markdown",
      "source": [
        "###(1) Related Rates - Distances"
      ],
      "metadata": {
        "id": "kdn0lByDtN8y"
      }
    },
    {
      "cell_type": "markdown",
      "source": [
        "**Problem:** \n",
        "* $A$ is 20 mile west from $B$\n",
        "* $A$ go to east with speed 40mph\n",
        "* $B$ go south with speed 12mph\n",
        "* what is $\\frac{dy}{dx}$ of distance between $A$ and $B$ at 15minites?"
      ],
      "metadata": {
        "id": "Lcv2aBV0Kgd-"
      }
    },
    {
      "cell_type": "markdown",
      "source": [
        "**The Solution according to the Reference**\n",
        "\n",
        "Given that:\n",
        "* $f_c(x)^2=f_a(x)^2+f_b(x)^2$\n",
        "* $f_a(x)=40x$"
      ],
      "metadata": {
        "id": "8KCb9mRlcNYE"
      }
    },
    {
      "cell_type": "markdown",
      "source": [
        "**To Do Next**\n",
        "* Why my solution is wrong?\n",
        "* Why $f_a'(x)=-40<0?$\n",
        "* What is the value of $x\\implies f_{c}(x)=0$\n",
        "* For a more general problem, how to calculate the distance function between 2 moving object in $n$ dimantional space?"
      ],
      "metadata": {
        "id": "AVcQU4iRe-ZX"
      }
    },
    {
      "cell_type": "markdown",
      "source": [
        "**Reference:** https://youtu.be/HfACrKJ_Y2w , (8:12:11) Related Rates - Distances"
      ],
      "metadata": {
        "id": "OAtmP6JTK2dD"
      }
    }
  ]
}