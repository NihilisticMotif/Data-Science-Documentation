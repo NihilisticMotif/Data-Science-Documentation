{
  "nbformat": 4,
  "nbformat_minor": 0,
  "metadata": {
    "colab": {
      "provenance": [],
      "authorship_tag": "ABX9TyP7xBGu/zdRyw361Ndqhy2/",
      "include_colab_link": true
    },
    "kernelspec": {
      "name": "python3",
      "display_name": "Python 3"
    },
    "language_info": {
      "name": "python"
    }
  },
  "cells": [
    {
      "cell_type": "markdown",
      "metadata": {
        "id": "view-in-github",
        "colab_type": "text"
      },
      "source": [
        "<a href=\"https://colab.research.google.com/github/NihilisticMotif/Data-Science-Documentation/blob/main/Data-Science-Documentation/Mathematics/Calculus/Exercise/blackpenredpen01_limit.ipynb\" target=\"_parent\"><img src=\"https://colab.research.google.com/assets/colab-badge.svg\" alt=\"Open In Colab\"/></a>"
      ]
    },
    {
      "cell_type": "markdown",
      "source": [
        "###Note: This documentation is based on this video (https://youtu.be/TglD4Y6lmQk)\n",
        "\n",
        "Here is the list of other related information\n",
        "* https://www.khanacademy.org/math/ap-calculus-ab/ab-limits-new/ab-1-7/a/limit-strategies-flow-chart"
      ],
      "metadata": {
        "id": "qoqr4JsewHii"
      }
    },
    {
      "cell_type": "markdown",
      "source": [
        "###Introduction of limit"
      ],
      "metadata": {
        "id": "QR3q4wYTsETz"
      }
    },
    {
      "cell_type": "markdown",
      "source": [
        "**Limit meaning**\n",
        "* Limits = the value that a function (or sequence) approaches as the input (or index) approaches some value.\n",
        "\n",
        "**Limit Notation**\n",
        "\n",
        "* $\\lim_{x \\to c}f(x) = a$\n",
        "\n",
        "Output value of function $f(x)$ as input value $x$ approaches to value $c$ is equal to value $a$\n",
        "\n",
        "* $\\lim_{x \\to c^+}g(x) = a$\n",
        "\n",
        "Output value of function $g(x)$ as input value $x$ approaches to value $c$ is equal to value $a$ from right to left size of x axis.\n",
        "\n",
        "* $\\lim_{x \\to c^-}g(x) = b$\n",
        "\n",
        "Output value of function $g(x)$ as input value $x$ approaches to value $c$ is equal to value $b$ from left to right size of x axis.\n",
        "\n",
        "**Note**\n",
        "\n",
        "if $\\lim_{x \\to c^+}g(x) \\neq \\lim_{x \\to c^-}g(x)$\n",
        "$\\therefore \\lim_{x \\to c}g(x)$ is undifined.\n",
        "\n",
        "if $\\lim_{x \\to c^+}g(x) = \\lim_{x \\to c^-}g(x)$\n",
        "$\\therefore \\lim_{x \\to c}g(x)$ is difined."
      ],
      "metadata": {
        "id": "iezGRAsYRC7j"
      }
    },
    {
      "cell_type": "markdown",
      "source": [
        "###(1) [Limits From Piecewise Functions] "
      ],
      "metadata": {
        "id": "n4EwqohrpF_2"
      }
    },
    {
      "cell_type": "markdown",
      "source": [
        "**(1)**\n",
        "\n",
        "$\\lim_{x\\to-2}f(x)\\{x\\neq -2\\implies f=3x+1,x=-2\\implies f=2\\}$\n",
        "\n",
        "$\\lim_{x\\to-2}f(x)=3*(-2)+1=-6+1=-5$"
      ],
      "metadata": {
        "id": "2xXKAWsupIRe"
      }
    },
    {
      "cell_type": "markdown",
      "source": [
        "**(2)**\n",
        "\n",
        "$\\lim_{x\\to c}\\frac{1}{(x-c)^2}=\\infty$"
      ],
      "metadata": {
        "id": "hN8_bEpuvLVZ"
      }
    },
    {
      "cell_type": "markdown",
      "source": [
        "###[2] [Limit As x→a. Do NOT use L’Hospital’s Rule]"
      ],
      "metadata": {
        "id": "SCLDdv63smre"
      }
    },
    {
      "cell_type": "markdown",
      "source": [
        "**(1)**\n",
        "\n",
        "$\\lim_{x\\to8}\\frac{(x^2-7x-8)}{x-8}=\\frac{(x+1)(x-8)}{x-8}=x+1=8+1=9$"
      ],
      "metadata": {
        "id": "2vtvrQNVsqOH"
      }
    },
    {
      "cell_type": "markdown",
      "source": [
        "**(2)**\n",
        "\n",
        "$\\lim_{x\\to4}\\frac{(x+5)^{\\frac{1}{2}}-3}{x-4}=\\frac{((x+5)^{\\frac{1}{2}}-3)((x+5)^{\\frac{1}{2}}+3)}{(x-4)((x+5)^{\\frac{1}{2}}+3)}$\n",
        "\n",
        "$\\lim_{x\\to4}\\frac{(x+5)^{\\frac{1}{2}}-3}{x-4}=\\frac{x+5-9}{(x-4)((x+5)^{\\frac{1}{2}}+3)}$\n",
        "\n",
        "$\\lim_{x\\to4}\\frac{(x+5)^{\\frac{1}{2}}-3}{x-4}=\\frac{x-4}{(x-4)((x+5)^{\\frac{1}{2}}+3)}$\n",
        "\n",
        "$\\lim_{x\\to4}\\frac{(x+5)^{\\frac{1}{2}}-3}{x-4}=\\frac{1}{((x+5)^{\\frac{1}{2}}+3)}$\n",
        "\n",
        "$\\lim_{x\\to4}\\frac{(x+5)^{\\frac{1}{2}}-3}{x-4}=\\frac{1}{((4+5)^{\\frac{1}{2}}+3)}$\n",
        "\n",
        "$\\lim_{x\\to4}\\frac{(x+5)^{\\frac{1}{2}}-3}{x-4}=\\frac{1}{9^{\\frac{1}{2}}+3}$\n",
        "\n",
        "$\\lim_{x\\to4}\\frac{(x+5)^{\\frac{1}{2}}-3}{x-4}=\\frac{1}{3+3}$\n",
        "\n",
        "$\\lim_{x\\to4}\\frac{(x+5)^{\\frac{1}{2}}-3}{x-4}=\\frac{1}{6}$\n",
        "\n",
        "\n",
        "reference: https://math.stackexchange.com/questions/1353339/calculus-solving-limits-with-square-roots"
      ],
      "metadata": {
        "id": "M9oGj3apznvY"
      }
    },
    {
      "cell_type": "markdown",
      "source": [
        "**(3)**\n",
        "\n",
        "$\\lim_{x\\to2}\\frac{x^2-2x}{(x+2)^{\\frac{1}{2}}-2}=\\frac{x(x-2)((x+2)^{\\frac{1}{2}}+2)}{((x+2)^{\\frac{1}{2}}-2)((x+2)^{\\frac{1}{2}}+2)}$\n",
        "\n",
        "$\\lim_{x\\to2}\\frac{x^2-2x}{(x+2)^{\\frac{1}{2}}-2}=\\frac{x(x-2)((x+2)^{\\frac{1}{2}}+2)}{x+2-4}$\n",
        "\n",
        "$\\lim_{x\\to2}\\frac{x^2-2x}{(x+2)^{\\frac{1}{2}}-2}=\\frac{x(x-2)((x+2)^{\\frac{1}{2}}+2)}{x-2}$\n",
        "\n",
        "$\\lim_{x\\to2}\\frac{x^2-2x}{(x+2)^{\\frac{1}{2}}-2}=x((x+2)^{\\frac{1}{2}}+2)$\n",
        "\n",
        "$\\lim_{x\\to2}\\frac{x^2-2x}{(x+2)^{\\frac{1}{2}}-2}=2((2+2)^{\\frac{1}{2}}+2)$\n",
        "\n",
        "$\\lim_{x\\to2}\\frac{x^2-2x}{(x+2)^{\\frac{1}{2}}-2}=8$"
      ],
      "metadata": {
        "id": "OSYPiKmJ0lyP"
      }
    },
    {
      "cell_type": "markdown",
      "source": [
        "**(4)**\n",
        "\n",
        "$\\lim_{x\\to0}\\frac{(1+x)^2-1}{(1+x)^3-1}=\\frac{1+2x+x^2-1}{(1+2x+x^2)(1+x)-1}$\n",
        "\n",
        "$\\lim_{x\\to0}\\frac{(1+x)^2-1}{(1+x)^3-1}=\\frac{2x+x^2}{1+2x+x^2+x+2x^2+x^3-1}$\n",
        "\n",
        "$\\lim_{x\\to0}\\frac{(1+x)^2-1}{(1+x)^3-1}=\\frac{x(2+x)}{2x+x^2+x+2x^2+x^3}$\n",
        "\n",
        "$\\lim_{x\\to0}\\frac{(1+x)^2-1}{(1+x)^3-1}=\\frac{(2+x)}{2+x+1+2x+x^2}$\n",
        "\n",
        "$\\lim_{x\\to0}\\frac{(1+x)^2-1}{(1+x)^3-1}=\\frac{(2+0)}{2+0+1+0+0}$\n",
        "\n",
        "$\\lim_{x\\to0}\\frac{(1+x)^2-1}{(1+x)^3-1}=\\frac{2}{3}$"
      ],
      "metadata": {
        "id": "6XXnRGea3N7K"
      }
    },
    {
      "cell_type": "markdown",
      "source": [
        "###[3] [Limit as $x\\to\\infty$]"
      ],
      "metadata": {
        "id": "JjtlM4OZ7D07"
      }
    },
    {
      "cell_type": "markdown",
      "source": [
        "**(1)**\n",
        "\n",
        "$\\lim_{x\\to\\infty}\\cos(\\tan^{-1}(x))=\\cos(\\frac{\\pi}{2})=0$"
      ],
      "metadata": {
        "id": "jfmdkwA97Oze"
      }
    }
  ]
}