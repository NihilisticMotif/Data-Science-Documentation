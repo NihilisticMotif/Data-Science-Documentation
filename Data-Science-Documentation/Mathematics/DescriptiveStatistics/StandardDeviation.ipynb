{
  "nbformat": 4,
  "nbformat_minor": 0,
  "metadata": {
    "colab": {
      "provenance": [],
      "authorship_tag": "ABX9TyOaV6i5Y3+HoQoCBgqxQg/O",
      "include_colab_link": true
    },
    "kernelspec": {
      "name": "python3",
      "display_name": "Python 3"
    },
    "language_info": {
      "name": "python"
    }
  },
  "cells": [
    {
      "cell_type": "markdown",
      "metadata": {
        "id": "view-in-github",
        "colab_type": "text"
      },
      "source": [
        "<a href=\"https://colab.research.google.com/github/NihilisticMotif/Data-Science-Documentation/blob/main/Data-Science-Documentation/Mathematics/DescriptiveStatistics/StandardDeviation.ipynb\" target=\"_parent\"><img src=\"https://colab.research.google.com/assets/colab-badge.svg\" alt=\"Open In Colab\"/></a>"
      ]
    },
    {
      "cell_type": "markdown",
      "source": [
        "###(1) Standard Deviation and Probability Distribution Function"
      ],
      "metadata": {
        "id": "N97XfdqfleY4"
      }
    },
    {
      "cell_type": "markdown",
      "source": [
        "**What is Standard Deviation?**\n",
        "\n",
        "* A standard deviation (or σ) = a measure of how dispersed the data is in relation to the mean. \n",
        "* Low standard deviation = data are clustered around the mean\n",
        "* High standard deviation = data are more spread out. \n",
        "\n",
        "(https://www.nlm.nih.gov/nichsr/stats_tutorial/section2/mod8_sd.html)"
      ],
      "metadata": {
        "id": "4naGIG89lls-"
      }
    },
    {
      "cell_type": "markdown",
      "source": [
        "**Standard Deviation Formula**\n",
        "\n",
        "$s = \\sqrt{\\frac{\\sum_{i=1}^n (x_i - \\overline{x})^2}{n-1}}$\n",
        "\n",
        "* $s=$ Standard Deviation $\\geq0$\n",
        "* $n=$ number of all data points.\n",
        "* $\\overline{x}=\\sum_{i=1}^n\\frac{x_i}{n}$\n",
        "\n",
        "**The Difference Between Variance And Standard Deviation**\n",
        "* Variance = $\\text{Standard Deviation}^2=s^2$\n",
        "* reference: https://byjus.com/maths/difference-between-variance-and-standard-deviation/\n",
        "\n",
        "**The Difference Between Population and sample standard deviation**\n",
        "* If the data is being considered a population on its own $\\implies s = \\text{Population standard deviation} = \\sqrt{\\frac{\\sum_{i=1}^n (x_i - \\overline{x})^2}{n}}$\n",
        "* If the data is a sample from a larger population, $\\implies s = \\text{Sample standard deviation} = \\sqrt{\\frac{\\sum_{i=1}^n (x_i - \\overline{x})^2}{n-1}}$\n",
        "* reference: https://www.khanacademy.org/math/statistics-probability/summarizing-quantitative-data/variance-standard-deviation-sample/a/population-and-sample-standard-deviation-review"
      ],
      "metadata": {
        "id": "o-LAS48gx5cs"
      }
    },
    {
      "cell_type": "code",
      "source": [
        "from google.colab import drive\n",
        "\n",
        "import math\n",
        "import pandas as pd\n",
        "import numpy as np\n",
        "import matplotlib.pyplot as plt\n",
        "\n",
        "drive.mount('/content/drive')\n",
        "\n",
        "path='/content/drive/MyDrive/Data-Science-Documentation/DataSet/K_RealEstate01_ArslanAli.csv'\n",
        "'''\n",
        "Source of the example data set: https://www.kaggle.com/datasets/arslanali4343/real-estate-dataset\n",
        "'''\n",
        "df = pd.read_csv(path)\n",
        "df.astype(float)"
      ],
      "metadata": {
        "colab": {
          "base_uri": "https://localhost:8080/",
          "height": 441
        },
        "id": "G-q5Wk3oLqae",
        "outputId": "5f348c17-9953-448b-d704-b51730e3acba"
      },
      "execution_count": 1,
      "outputs": [
        {
          "output_type": "stream",
          "name": "stdout",
          "text": [
            "Mounted at /content/drive\n"
          ]
        },
        {
          "output_type": "execute_result",
          "data": {
            "text/plain": [
              "        CRIM    ZN  INDUS  CHAS    NOX     RM   AGE     DIS  RAD    TAX  \\\n",
              "0    0.00632  18.0   2.31   0.0  0.538  6.575  65.2  4.0900  1.0  296.0   \n",
              "1    0.02731   0.0   7.07   0.0  0.469  6.421  78.9  4.9671  2.0  242.0   \n",
              "2    0.02729   0.0   7.07   0.0  0.469  7.185  61.1  4.9671  2.0  242.0   \n",
              "3    0.03237   0.0   2.18   0.0  0.458  6.998  45.8  6.0622  3.0  222.0   \n",
              "4    0.06905   0.0   2.18   0.0  0.458  7.147  54.2  6.0622  3.0  222.0   \n",
              "..       ...   ...    ...   ...    ...    ...   ...     ...  ...    ...   \n",
              "506  0.98765   0.0  12.50   0.0  0.561  6.980  89.0  2.0980  3.0  320.0   \n",
              "507  0.23456   0.0  12.50   0.0  0.561  6.980  76.0  2.6540  3.0  320.0   \n",
              "508  0.44433   0.0  12.50   0.0  0.561  6.123  98.0  2.9870  3.0  320.0   \n",
              "509  0.77763   0.0  12.70   0.0  0.561  6.222  34.0  2.5430  3.0  329.0   \n",
              "510  0.65432   0.0  12.80   0.0  0.561  6.760  67.0  2.9870  3.0  345.0   \n",
              "\n",
              "     PTRATIO       B  LSTAT  MEDV  \n",
              "0       15.3  396.90   4.98  24.0  \n",
              "1       17.8  396.90   9.14  21.6  \n",
              "2       17.8  392.83   4.03  34.7  \n",
              "3       18.7  394.63   2.94  33.4  \n",
              "4       18.7  396.90   5.33  36.2  \n",
              "..       ...     ...    ...   ...  \n",
              "506     23.0  396.00  12.00  12.0  \n",
              "507     23.0  343.00  25.00  32.0  \n",
              "508     23.0  343.00  21.00  54.0  \n",
              "509     23.0  343.00  76.00  67.0  \n",
              "510     23.0  321.00  45.00  24.0  \n",
              "\n",
              "[511 rows x 14 columns]"
            ],
            "text/html": [
              "\n",
              "  <div id=\"df-30747996-afc4-41ba-9d88-694fee94a8c6\">\n",
              "    <div class=\"colab-df-container\">\n",
              "      <div>\n",
              "<style scoped>\n",
              "    .dataframe tbody tr th:only-of-type {\n",
              "        vertical-align: middle;\n",
              "    }\n",
              "\n",
              "    .dataframe tbody tr th {\n",
              "        vertical-align: top;\n",
              "    }\n",
              "\n",
              "    .dataframe thead th {\n",
              "        text-align: right;\n",
              "    }\n",
              "</style>\n",
              "<table border=\"1\" class=\"dataframe\">\n",
              "  <thead>\n",
              "    <tr style=\"text-align: right;\">\n",
              "      <th></th>\n",
              "      <th>CRIM</th>\n",
              "      <th>ZN</th>\n",
              "      <th>INDUS</th>\n",
              "      <th>CHAS</th>\n",
              "      <th>NOX</th>\n",
              "      <th>RM</th>\n",
              "      <th>AGE</th>\n",
              "      <th>DIS</th>\n",
              "      <th>RAD</th>\n",
              "      <th>TAX</th>\n",
              "      <th>PTRATIO</th>\n",
              "      <th>B</th>\n",
              "      <th>LSTAT</th>\n",
              "      <th>MEDV</th>\n",
              "    </tr>\n",
              "  </thead>\n",
              "  <tbody>\n",
              "    <tr>\n",
              "      <th>0</th>\n",
              "      <td>0.00632</td>\n",
              "      <td>18.0</td>\n",
              "      <td>2.31</td>\n",
              "      <td>0.0</td>\n",
              "      <td>0.538</td>\n",
              "      <td>6.575</td>\n",
              "      <td>65.2</td>\n",
              "      <td>4.0900</td>\n",
              "      <td>1.0</td>\n",
              "      <td>296.0</td>\n",
              "      <td>15.3</td>\n",
              "      <td>396.90</td>\n",
              "      <td>4.98</td>\n",
              "      <td>24.0</td>\n",
              "    </tr>\n",
              "    <tr>\n",
              "      <th>1</th>\n",
              "      <td>0.02731</td>\n",
              "      <td>0.0</td>\n",
              "      <td>7.07</td>\n",
              "      <td>0.0</td>\n",
              "      <td>0.469</td>\n",
              "      <td>6.421</td>\n",
              "      <td>78.9</td>\n",
              "      <td>4.9671</td>\n",
              "      <td>2.0</td>\n",
              "      <td>242.0</td>\n",
              "      <td>17.8</td>\n",
              "      <td>396.90</td>\n",
              "      <td>9.14</td>\n",
              "      <td>21.6</td>\n",
              "    </tr>\n",
              "    <tr>\n",
              "      <th>2</th>\n",
              "      <td>0.02729</td>\n",
              "      <td>0.0</td>\n",
              "      <td>7.07</td>\n",
              "      <td>0.0</td>\n",
              "      <td>0.469</td>\n",
              "      <td>7.185</td>\n",
              "      <td>61.1</td>\n",
              "      <td>4.9671</td>\n",
              "      <td>2.0</td>\n",
              "      <td>242.0</td>\n",
              "      <td>17.8</td>\n",
              "      <td>392.83</td>\n",
              "      <td>4.03</td>\n",
              "      <td>34.7</td>\n",
              "    </tr>\n",
              "    <tr>\n",
              "      <th>3</th>\n",
              "      <td>0.03237</td>\n",
              "      <td>0.0</td>\n",
              "      <td>2.18</td>\n",
              "      <td>0.0</td>\n",
              "      <td>0.458</td>\n",
              "      <td>6.998</td>\n",
              "      <td>45.8</td>\n",
              "      <td>6.0622</td>\n",
              "      <td>3.0</td>\n",
              "      <td>222.0</td>\n",
              "      <td>18.7</td>\n",
              "      <td>394.63</td>\n",
              "      <td>2.94</td>\n",
              "      <td>33.4</td>\n",
              "    </tr>\n",
              "    <tr>\n",
              "      <th>4</th>\n",
              "      <td>0.06905</td>\n",
              "      <td>0.0</td>\n",
              "      <td>2.18</td>\n",
              "      <td>0.0</td>\n",
              "      <td>0.458</td>\n",
              "      <td>7.147</td>\n",
              "      <td>54.2</td>\n",
              "      <td>6.0622</td>\n",
              "      <td>3.0</td>\n",
              "      <td>222.0</td>\n",
              "      <td>18.7</td>\n",
              "      <td>396.90</td>\n",
              "      <td>5.33</td>\n",
              "      <td>36.2</td>\n",
              "    </tr>\n",
              "    <tr>\n",
              "      <th>...</th>\n",
              "      <td>...</td>\n",
              "      <td>...</td>\n",
              "      <td>...</td>\n",
              "      <td>...</td>\n",
              "      <td>...</td>\n",
              "      <td>...</td>\n",
              "      <td>...</td>\n",
              "      <td>...</td>\n",
              "      <td>...</td>\n",
              "      <td>...</td>\n",
              "      <td>...</td>\n",
              "      <td>...</td>\n",
              "      <td>...</td>\n",
              "      <td>...</td>\n",
              "    </tr>\n",
              "    <tr>\n",
              "      <th>506</th>\n",
              "      <td>0.98765</td>\n",
              "      <td>0.0</td>\n",
              "      <td>12.50</td>\n",
              "      <td>0.0</td>\n",
              "      <td>0.561</td>\n",
              "      <td>6.980</td>\n",
              "      <td>89.0</td>\n",
              "      <td>2.0980</td>\n",
              "      <td>3.0</td>\n",
              "      <td>320.0</td>\n",
              "      <td>23.0</td>\n",
              "      <td>396.00</td>\n",
              "      <td>12.00</td>\n",
              "      <td>12.0</td>\n",
              "    </tr>\n",
              "    <tr>\n",
              "      <th>507</th>\n",
              "      <td>0.23456</td>\n",
              "      <td>0.0</td>\n",
              "      <td>12.50</td>\n",
              "      <td>0.0</td>\n",
              "      <td>0.561</td>\n",
              "      <td>6.980</td>\n",
              "      <td>76.0</td>\n",
              "      <td>2.6540</td>\n",
              "      <td>3.0</td>\n",
              "      <td>320.0</td>\n",
              "      <td>23.0</td>\n",
              "      <td>343.00</td>\n",
              "      <td>25.00</td>\n",
              "      <td>32.0</td>\n",
              "    </tr>\n",
              "    <tr>\n",
              "      <th>508</th>\n",
              "      <td>0.44433</td>\n",
              "      <td>0.0</td>\n",
              "      <td>12.50</td>\n",
              "      <td>0.0</td>\n",
              "      <td>0.561</td>\n",
              "      <td>6.123</td>\n",
              "      <td>98.0</td>\n",
              "      <td>2.9870</td>\n",
              "      <td>3.0</td>\n",
              "      <td>320.0</td>\n",
              "      <td>23.0</td>\n",
              "      <td>343.00</td>\n",
              "      <td>21.00</td>\n",
              "      <td>54.0</td>\n",
              "    </tr>\n",
              "    <tr>\n",
              "      <th>509</th>\n",
              "      <td>0.77763</td>\n",
              "      <td>0.0</td>\n",
              "      <td>12.70</td>\n",
              "      <td>0.0</td>\n",
              "      <td>0.561</td>\n",
              "      <td>6.222</td>\n",
              "      <td>34.0</td>\n",
              "      <td>2.5430</td>\n",
              "      <td>3.0</td>\n",
              "      <td>329.0</td>\n",
              "      <td>23.0</td>\n",
              "      <td>343.00</td>\n",
              "      <td>76.00</td>\n",
              "      <td>67.0</td>\n",
              "    </tr>\n",
              "    <tr>\n",
              "      <th>510</th>\n",
              "      <td>0.65432</td>\n",
              "      <td>0.0</td>\n",
              "      <td>12.80</td>\n",
              "      <td>0.0</td>\n",
              "      <td>0.561</td>\n",
              "      <td>6.760</td>\n",
              "      <td>67.0</td>\n",
              "      <td>2.9870</td>\n",
              "      <td>3.0</td>\n",
              "      <td>345.0</td>\n",
              "      <td>23.0</td>\n",
              "      <td>321.00</td>\n",
              "      <td>45.00</td>\n",
              "      <td>24.0</td>\n",
              "    </tr>\n",
              "  </tbody>\n",
              "</table>\n",
              "<p>511 rows × 14 columns</p>\n",
              "</div>\n",
              "      <button class=\"colab-df-convert\" onclick=\"convertToInteractive('df-30747996-afc4-41ba-9d88-694fee94a8c6')\"\n",
              "              title=\"Convert this dataframe to an interactive table.\"\n",
              "              style=\"display:none;\">\n",
              "        \n",
              "  <svg xmlns=\"http://www.w3.org/2000/svg\" height=\"24px\"viewBox=\"0 0 24 24\"\n",
              "       width=\"24px\">\n",
              "    <path d=\"M0 0h24v24H0V0z\" fill=\"none\"/>\n",
              "    <path d=\"M18.56 5.44l.94 2.06.94-2.06 2.06-.94-2.06-.94-.94-2.06-.94 2.06-2.06.94zm-11 1L8.5 8.5l.94-2.06 2.06-.94-2.06-.94L8.5 2.5l-.94 2.06-2.06.94zm10 10l.94 2.06.94-2.06 2.06-.94-2.06-.94-.94-2.06-.94 2.06-2.06.94z\"/><path d=\"M17.41 7.96l-1.37-1.37c-.4-.4-.92-.59-1.43-.59-.52 0-1.04.2-1.43.59L10.3 9.45l-7.72 7.72c-.78.78-.78 2.05 0 2.83L4 21.41c.39.39.9.59 1.41.59.51 0 1.02-.2 1.41-.59l7.78-7.78 2.81-2.81c.8-.78.8-2.07 0-2.86zM5.41 20L4 18.59l7.72-7.72 1.47 1.35L5.41 20z\"/>\n",
              "  </svg>\n",
              "      </button>\n",
              "      \n",
              "  <style>\n",
              "    .colab-df-container {\n",
              "      display:flex;\n",
              "      flex-wrap:wrap;\n",
              "      gap: 12px;\n",
              "    }\n",
              "\n",
              "    .colab-df-convert {\n",
              "      background-color: #E8F0FE;\n",
              "      border: none;\n",
              "      border-radius: 50%;\n",
              "      cursor: pointer;\n",
              "      display: none;\n",
              "      fill: #1967D2;\n",
              "      height: 32px;\n",
              "      padding: 0 0 0 0;\n",
              "      width: 32px;\n",
              "    }\n",
              "\n",
              "    .colab-df-convert:hover {\n",
              "      background-color: #E2EBFA;\n",
              "      box-shadow: 0px 1px 2px rgba(60, 64, 67, 0.3), 0px 1px 3px 1px rgba(60, 64, 67, 0.15);\n",
              "      fill: #174EA6;\n",
              "    }\n",
              "\n",
              "    [theme=dark] .colab-df-convert {\n",
              "      background-color: #3B4455;\n",
              "      fill: #D2E3FC;\n",
              "    }\n",
              "\n",
              "    [theme=dark] .colab-df-convert:hover {\n",
              "      background-color: #434B5C;\n",
              "      box-shadow: 0px 1px 3px 1px rgba(0, 0, 0, 0.15);\n",
              "      filter: drop-shadow(0px 1px 2px rgba(0, 0, 0, 0.3));\n",
              "      fill: #FFFFFF;\n",
              "    }\n",
              "  </style>\n",
              "\n",
              "      <script>\n",
              "        const buttonEl =\n",
              "          document.querySelector('#df-30747996-afc4-41ba-9d88-694fee94a8c6 button.colab-df-convert');\n",
              "        buttonEl.style.display =\n",
              "          google.colab.kernel.accessAllowed ? 'block' : 'none';\n",
              "\n",
              "        async function convertToInteractive(key) {\n",
              "          const element = document.querySelector('#df-30747996-afc4-41ba-9d88-694fee94a8c6');\n",
              "          const dataTable =\n",
              "            await google.colab.kernel.invokeFunction('convertToInteractive',\n",
              "                                                     [key], {});\n",
              "          if (!dataTable) return;\n",
              "\n",
              "          const docLinkHtml = 'Like what you see? Visit the ' +\n",
              "            '<a target=\"_blank\" href=https://colab.research.google.com/notebooks/data_table.ipynb>data table notebook</a>'\n",
              "            + ' to learn more about interactive tables.';\n",
              "          element.innerHTML = '';\n",
              "          dataTable['output_type'] = 'display_data';\n",
              "          await google.colab.output.renderOutput(dataTable, element);\n",
              "          const docLink = document.createElement('div');\n",
              "          docLink.innerHTML = docLinkHtml;\n",
              "          element.appendChild(docLink);\n",
              "        }\n",
              "      </script>\n",
              "    </div>\n",
              "  </div>\n",
              "  "
            ]
          },
          "metadata": {},
          "execution_count": 1
        }
      ]
    },
    {
      "cell_type": "code",
      "source": [
        "def StandardDeviation(x):\n",
        "  ans=0\n",
        "  for i in x:\n",
        "    ans+=pow(i-x.mean(),2)\n",
        "  ans/=x.shape[0]\n",
        "  ans=math.sqrt(ans)\n",
        "  return ans\n",
        "\n",
        "name=df.columns[1]\n",
        "\n",
        "print('s = '+str(StandardDeviation(df[name])))"
      ],
      "metadata": {
        "colab": {
          "base_uri": "https://localhost:8080/"
        },
        "id": "k3ULehSG3CFh",
        "outputId": "de87d669-9690-407f-a72d-5bdd9839611f"
      },
      "execution_count": 4,
      "outputs": [
        {
          "output_type": "stream",
          "name": "stdout",
          "text": [
            "s = 23.21209257197624\n"
          ]
        }
      ]
    },
    {
      "cell_type": "markdown",
      "source": [
        "**The relationship between Standard Deviation and bell curve (Probability Distribution Function)**\n",
        "\n",
        "$f(x)=\\frac{\\exp{((-\\frac{1}{2})*(\\frac{x-\\overline{x}}{s})^2)}}{s\\sqrt{2\\pi}}=\\frac{1}{s\\sqrt{2\\pi}}*e^{(-\\frac{1}{2})*(\\frac{x-\\overline{x}}{s})^2}$\n",
        "\n",
        "* $s=$ Standard Deviation $\\geq0$\n",
        "* $n=$ number of all data points.\n",
        "* $\\overline{x}=\\sum_{i=1}^n\\frac{x_i}{n}$"
      ],
      "metadata": {
        "id": "ifnMob0R_tp7"
      }
    },
    {
      "cell_type": "code",
      "source": [
        "def StandardDeviation(x):\n",
        "  ans=0\n",
        "  for i in x:\n",
        "    ans+=pow(i-x.mean(),2)\n",
        "  ans/=x.shape[0]\n",
        "  ans=math.sqrt(ans)\n",
        "  return ans\n",
        "\n",
        "def BellCurve(Data, Domain=np.arange(-100,100,0.01)):\n",
        "  XLine=Domain\n",
        "  YLine=(np.exp(-(1/2)*pow((XLine-Data.mean())/StandardDeviation(Data),2)))/(math.sqrt(np.pi*2)*StandardDeviation(Data))\n",
        "  return [XLine,YLine]\n",
        "\n",
        "name=df.columns[-1]\n",
        "fx=BellCurve(df[name])\n",
        "\n",
        "plt.plot(fx[0],fx[1],color='black')\n",
        "#plt.axvline(df[name].mean()-0.675*StandardDeviation(df[name]),color='red') # reference: https://stackoverflow.com/questions/24988448/how-to-draw-vertical-lines-on-a-given-plot\n",
        "plt.axvline(df[name].mean(),color='green')\n",
        "#plt.axvline(df[name].mean()+0.675*StandardDeviation(df[name]),color='blue') # reference: https://www.statology.org/find-quartiles-with-mean-standard-deviation/\n",
        "plt.xlabel(\"Value of the data point in each row\")\n",
        "plt.ylabel(\"Fequency of the value\")\n",
        "plt.grid()\n",
        "plt.show()"
      ],
      "metadata": {
        "colab": {
          "base_uri": "https://localhost:8080/",
          "height": 449
        },
        "id": "-VoUkzjx6SyZ",
        "outputId": "4dea71c9-310e-4cd3-c9fe-5e26ef02cadc"
      },
      "execution_count": 5,
      "outputs": [
        {
          "output_type": "display_data",
          "data": {
            "text/plain": [
              "<Figure size 640x480 with 1 Axes>"
            ],
            "image/png": "[encoded data removed]"
          },
          "metadata": {}
        }
      ]
    },
    {
      "cell_type": "code",
      "source": [
        "# This code count the frequency of value\n",
        "# x axis = value (value of the data)\n",
        "# y axis = fequency (how often the data have the same value)\n",
        "\n",
        "space=20\n",
        "name=df.columns[-2]\n",
        "df[name].value_counts(bins=space)\n",
        "\n",
        "fig, ax = plt.subplots()\n",
        "df[name].value_counts(bins=space).plot(ax=ax, kind='bar')\n",
        "plt.show()\n",
        "dflist=df[name].value_counts(bins=space)#.index#.tolist()\n",
        "print((dflist))#.left))"
      ],
      "metadata": {
        "colab": {
          "base_uri": "https://localhost:8080/",
          "height": 906
        },
        "id": "9K8B4bVDXRqw",
        "outputId": "9eea1f05-70c3-4f2d-834a-57cd4e898609"
      },
      "execution_count": 15,
      "outputs": [
        {
          "output_type": "display_data",
          "data": {
            "text/plain": [
              "<Figure size 640x480 with 1 Axes>"
            ],
            "image/png": "[encoded data removed]"
          },
          "metadata": {}
        },
        {
          "output_type": "stream",
          "name": "stdout",
          "text": [
            "(5.444, 9.157]      112\n",
            "(9.157, 12.87]      103\n",
            "(12.87, 16.584]      84\n",
            "(1.655, 5.444]       76\n",
            "(16.584, 20.298]     59\n",
            "(20.298, 24.011]     34\n",
            "(24.011, 27.724]     19\n",
            "(27.724, 31.438]     15\n",
            "(31.438, 35.151]      5\n",
            "(35.151, 38.865]      2\n",
            "(42.578, 46.292]      1\n",
            "(72.286, 76.0]        1\n",
            "(46.292, 50.005]      0\n",
            "(50.005, 53.719]      0\n",
            "(53.719, 57.432]      0\n",
            "(57.432, 61.146]      0\n",
            "(61.146, 64.86]       0\n",
            "(64.86, 68.573]       0\n",
            "(68.573, 72.286]      0\n",
            "(38.865, 42.578]      0\n",
            "Name: LSTAT, dtype: int64\n"
          ]
        }
      ]
    },
    {
      "cell_type": "code",
      "source": [
        "def StandardDeviation(x):\n",
        "  ans=0\n",
        "  for i in x:\n",
        "    ans+=pow(i-x.mean(),2)\n",
        "  ans/=x.shape[0]\n",
        "  ans=math.sqrt(ans)\n",
        "  return ans\n",
        "\n",
        "def BellCurve(Data, Domain=np.arange(-100,100,0.01)):\n",
        "  XLine=Domain\n",
        "  YLine=(np.exp(-(1/2)*pow((XLine-Data.mean())/StandardDeviation(Data),2)))/(math.sqrt(np.pi*2)*StandardDeviation(Data))\n",
        "  return [XLine,YLine]\n",
        "\n",
        "name=df.columns[-2]\n",
        "fx=BellCurve(df[name])\n",
        "fig, ax = plt.subplots()\n",
        "space=10\n",
        "\n",
        "bins = 100\n",
        "ax.hist(\n",
        "  df[name],        # This parameter are the sequence of data.\n",
        "  bins,            # This parameter is an optional parameter and it contains the integer\n",
        "  density = 1,     # This parameter is an optional parameter and it contains the boolean values.\n",
        "                   # density = counts / (sum(counts) * np.diff(bins))\n",
        "  color ='black', \n",
        "  alpha = 0.7\n",
        "  # reference: https://www.geeksforgeeks.org/matplotlib-axes-axes-hist-in-python/\n",
        "  )\n",
        "\n",
        "plt.axvline(df[name].mean(),color='blue')\n",
        "ax.plot(fx[0],fx[1], '--',color='red')\n",
        "plt.grid()\n",
        "plt.show()"
      ],
      "metadata": {
        "colab": {
          "base_uri": "https://localhost:8080/",
          "height": 430
        },
        "id": "lDaj20TGb306",
        "outputId": "6e580760-40b9-40b9-9ef7-e1bc6b6c35d9"
      },
      "execution_count": 51,
      "outputs": [
        {
          "output_type": "display_data",
          "data": {
            "text/plain": [
              "<Figure size 640x480 with 1 Axes>"
            ],
            "image/png": "[encoded data removed]"
          },
          "metadata": {}
        }
      ]
    },
    {
      "cell_type": "markdown",
      "source": [
        "**This is how `density=1` works in ax.hist**\n",
        "\n",
        "When `density=0`\n",
        "\n",
        "* Histogram Graph = $f(x)=h_x$\n",
        "* $h_x=$ height of the histogram in the respect of input $x$\n",
        "* $w=$ width of the histogram\n",
        "* Area under the histogram = $ \\int f(x) \\text{dx} = \\Sigma_{i=1}^nh_iw$\n",
        "\n",
        "When `density=1`\n",
        "* `ax.hist` will modify $ \\int f(x) \\text{dx} = 1$ in order to make comparison between Normal distribution and $f(x)$ becomes easy."
      ],
      "metadata": {
        "id": "BkrAklMR2t1R"
      }
    },
    {
      "cell_type": "code",
      "source": [
        "name=df.columns[-2]\n",
        "binn=100\n",
        "\n",
        "dfBell=df[name].value_counts(bins=binn)\n",
        "print(dfBell)\n",
        "Start=list(dfBell.index.left)\n",
        "End=list(dfBell.index.right)\n",
        "Frequency=dfBell.tolist()\n",
        "print(Frequency)\n",
        "print(Start)\n",
        "print(End)"
      ],
      "metadata": {
        "colab": {
          "base_uri": "https://localhost:8080/"
        },
        "id": "VBl8-pweLC7X",
        "outputId": "62ee8f1d-7b4e-44f3-b1f5-918af1cf9365"
      },
      "execution_count": 46,
      "outputs": [
        {
          "output_type": "stream",
          "name": "stdout",
          "text": [
            "(6.186, 6.929]      28\n",
            "(9.157, 9.9]        28\n",
            "(9.9, 10.642]       26\n",
            "(4.701, 5.444]      23\n",
            "(6.929, 7.672]      23\n",
            "                    ..\n",
            "(52.234, 52.976]     0\n",
            "(52.976, 53.719]     0\n",
            "(53.719, 54.462]     0\n",
            "(54.462, 55.204]     0\n",
            "(38.865, 39.608]     0\n",
            "Name: LSTAT, Length: 100, dtype: int64\n",
            "[28, 28, 26, 23, 23, 22, 22, 21, 20, 20, 19, 19, 18, 18, 17, 16, 14, 14, 13, 13, 12, 12, 10, 9, 8, 6, 6, 6, 6, 5, 5, 4, 4, 3, 3, 3, 2, 2, 2, 2, 1, 1, 1, 1, 1, 1, 1, 0, 0, 0, 0, 0, 0, 0, 0, 0, 0, 0, 0, 0, 0, 0, 0, 0, 0, 0, 0, 0, 0, 0, 0, 0, 0, 0, 0, 0, 0, 0, 0, 0, 0, 0, 0, 0, 0, 0, 0, 0, 0, 0, 0, 0, 0, 0, 0, 0, 0, 0, 0, 0]\n",
            "[6.186, 9.157, 9.9, 4.701, 6.929, 12.87, 5.444, 14.356, 3.958, 7.672, 12.128, 8.414, 11.385, 16.584, 3.215, 18.069, 15.841, 13.613, 17.327, 15.099, 10.642, 2.473, 21.04, 23.268, 20.298, 26.239, 18.812, 19.555, 22.526, 29.21, 24.011, 29.953, 1.655, 26.982, 27.724, 24.754, 25.496, 33.666, 30.695, 34.409, 44.807, 37.38, 36.637, 75.257, 21.783, 31.438, 28.467, 66.345, 58.175, 58.918, 59.661, 60.403, 61.146, 61.889, 62.631, 63.374, 64.117, 64.86, 65.602, 32.923, 67.088, 56.69, 67.83, 68.573, 69.316, 70.058, 70.801, 71.544, 72.286, 73.029, 73.772, 74.515, 57.432, 55.204, 55.947, 35.151, 35.894, 32.181, 38.122, 39.608, 40.35, 41.093, 41.836, 42.578, 43.321, 44.064, 45.549, 46.292, 47.035, 47.777, 48.52, 49.263, 50.005, 50.748, 51.491, 52.234, 52.976, 53.719, 54.462, 38.865]\n",
            "[6.929, 9.9, 10.642, 5.444, 7.672, 13.613, 6.186, 15.099, 4.701, 8.414, 12.87, 9.157, 12.128, 17.327, 3.958, 18.812, 16.584, 14.356, 18.069, 15.841, 11.385, 3.215, 21.783, 24.011, 21.04, 26.982, 19.555, 20.298, 23.268, 29.953, 24.754, 30.695, 2.473, 27.724, 28.467, 25.496, 26.239, 34.409, 31.438, 35.151, 45.549, 38.122, 37.38, 76.0, 22.526, 32.181, 29.21, 67.088, 58.918, 59.661, 60.403, 61.146, 61.889, 62.631, 63.374, 64.117, 64.86, 65.602, 66.345, 33.666, 67.83, 57.432, 68.573, 69.316, 70.058, 70.801, 71.544, 72.286, 73.029, 73.772, 74.515, 75.257, 58.175, 55.947, 56.69, 35.894, 36.637, 32.923, 38.865, 40.35, 41.093, 41.836, 42.578, 43.321, 44.064, 44.807, 46.292, 47.035, 47.777, 48.52, 49.263, 50.005, 50.748, 51.491, 52.234, 52.976, 53.719, 54.462, 55.204, 39.608]\n"
          ]
        }
      ]
    },
    {
      "cell_type": "code",
      "source": [
        "# This is how density=1 works in ax.hist\n",
        "# density = BinHeight / (100 * NumberOfAllBin * BinWidth)\n",
        "# \\therefore density dx = (np.sum(density * BinWidth) == 1)\n",
        "# reference: https://matplotlib.org/stable/api/_as_gen/matplotlib.pyplot.hist.html\n",
        "\n",
        "name=df.columns[-2]\n",
        "binn=100\n",
        "Frequency=df[name].value_counts(bins=binn).tolist()\n",
        "Start=list(df[name].value_counts(bins=binn).index.left)\n",
        "End=list(df[name].value_counts(bins=binn).index.right)\n",
        "\n",
        "df01 = pd.DataFrame({'density=0':[], 'density=1':[]})\n",
        "\n",
        "for i in range(len(Frequency)):\n",
        "  #print('BinHeight = '+str(dfLIST[i]))\n",
        "  df01=df01.append(\n",
        "      pd.DataFrame(\n",
        "          {'density=0':[Frequency[i]],\n",
        "           'density=1':[Frequency[i]/(100*df[name].shape[0]*((End[0]-Start[0])/binn))]}),\n",
        "           #   density = BinHeight / (100 * NumberOfAllBin * BinWidth)\n",
        "           ignore_index = True)\n",
        "\n",
        "# df01 \\approx n\n",
        "# bins = the bin width \n",
        "# patches = <BarContainer object of 100 artists>\n",
        "\n",
        "print('df01')\n",
        "print(df01)\n",
        "\n",
        "'''\n",
        "# In order to plot this graph properly, you must sort [Start,End] pair and re order Frequency in its correct order.\n",
        "'''"
      ],
      "metadata": {
        "colab": {
          "base_uri": "https://localhost:8080/"
        },
        "id": "AquYKC5Ilwqc",
        "outputId": "d930909f-331a-48c0-f34b-22134b2ae168"
      },
      "execution_count": 38,
      "outputs": [
        {
          "output_type": "stream",
          "name": "stdout",
          "text": [
            "BinWidth = 0.0074300000000000034\n",
            "df01\n",
            "    density=0  density=1\n",
            "0        28.0   0.073748\n",
            "1        28.0   0.073748\n",
            "2        26.0   0.068480\n",
            "3        23.0   0.060578\n",
            "4        23.0   0.060578\n",
            "..        ...        ...\n",
            "95        0.0   0.000000\n",
            "96        0.0   0.000000\n",
            "97        0.0   0.000000\n",
            "98        0.0   0.000000\n",
            "99        0.0   0.000000\n",
            "\n",
            "[100 rows x 2 columns]\n"
          ]
        },
        {
          "output_type": "stream",
          "name": "stderr",
          "text": [
            "<ipython-input-38-1e4a36221f07>:18: FutureWarning: The frame.append method is deprecated and will be removed from pandas in a future version. Use pandas.concat instead.\n",
            "  df01=df01.append(\n"
          ]
        }
      ]
    },
    {
      "cell_type": "markdown",
      "source": [
        "**Why does increasing the standard deviation of a normal distribution result in a flatter curve?**\n",
        "* the total area under the curves of Probability Distribution Function (PDF) has to be equal to 1.\n",
        "* Standard deviation = a measure of dispersion. \n",
        "* That means the larger the standard deviation the more ‘dispersed’ or “spread out” the values of the variable are around the mean. This means that more values will be found farther away from the mean and that the probability of an value is higher. This flattens the curve.\n",
        "\n",
        "reference: \n",
        "* https://www.quora.com/Why-does-increasing-the-standard-deviation-of-a-normal-distribution-result-in-a-flatter-curve\n",
        "* https://qr.ae/prlYKv"
      ],
      "metadata": {
        "id": "yYJnf3V3Eg5I"
      }
    },
    {
      "cell_type": "markdown",
      "source": [
        "###(2) [Unfinished]: Z score"
      ],
      "metadata": {
        "id": "hP_TZEUPT-fj"
      }
    },
    {
      "cell_type": "markdown",
      "source": [
        "**What is Z score (a.k.a. The standard score)?**\n",
        "\n",
        "$Z=\\frac{x-\\overline{x}}{s}$\n",
        "\n",
        "* $Z=$ Z score\n",
        "* $Z=0\\implies$ the score is equal to the mean.\n",
        "* $Z>0\\implies$ the score is above the mean.\n",
        "* $Z<0\\implies$ the score indicating it is below the mean.\n",
        "* $\\overline{x}=$ mean value of $x$\n",
        "* $s=$ Standard Deviation\n",
        "\n",
        "**Application of Z score**\n",
        "\n",
        "* allows us to calculate the probability of a score occurring within our normal distribution\n",
        "* enables us to compare two scores that are from different normal distributions.\n",
        "\n",
        "reference: \n",
        "* https://www.investopedia.com/terms/z/zscore.asp#toc-how-the-z-score-is-used\n",
        "* https://statistics.laerd.com/statistical-guides/standard-score.php"
      ],
      "metadata": {
        "id": "09GPFQdJUKv6"
      }
    },
    {
      "cell_type": "code",
      "source": [
        "def ZScore(InputX,Data):\n",
        "  Zs=(InputX-Data.mean())/StandardDeviation(Data)\n",
        "  return Zs\n",
        "\n",
        "name=df.columns[1]\n",
        "print(ZScore(20,df[name]))"
      ],
      "metadata": {
        "colab": {
          "base_uri": "https://localhost:8080/"
        },
        "id": "B0fKVrVOW-UM",
        "outputId": "50437215-b849-4c88-81f9-c1f34fb1f7a8"
      },
      "execution_count": null,
      "outputs": [
        {
          "output_type": "stream",
          "name": "stdout",
          "text": [
            "0.3768533056174269\n"
          ]
        }
      ]
    },
    {
      "cell_type": "markdown",
      "source": [
        "**Reference:**\n",
        "* https://youtu.be/1tDckAmNKE8"
      ],
      "metadata": {
        "id": "AHA8eDalpMY5"
      }
    },
    {
      "cell_type": "markdown",
      "source": [
        "###To Do Now:\n",
        "1. Calculate Area To The Left of Z-Score using calculus and impliment it using Python\n",
        "2. Explain the application of Z score\n",
        "3. Do this project: `/KaggleProject01_BostonHousing_by_TOLGAHANCEPEL/KaggleProject.ipynb`\n",
        "4. Machine Learning (Logistic Regression and Neural Network) and math (calculus and linear algebra) tutorial"
      ],
      "metadata": {
        "id": "qCMmDIOUpQYb"
      }
    }
  ]
}