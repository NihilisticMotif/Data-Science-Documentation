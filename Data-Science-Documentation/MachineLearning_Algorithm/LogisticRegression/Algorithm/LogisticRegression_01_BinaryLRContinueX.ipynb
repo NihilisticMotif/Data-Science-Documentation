{
  "nbformat": 4,
  "nbformat_minor": 0,
  "metadata": {
    "colab": {
      "provenance": [],
      "collapsed_sections": [
        "EWtll8EhabDz",
        "NtL56cmuxxBl",
        "z-GEWYVo1ZFU",
        "5rZkJITc6-Lu",
        "9vn0ShxcEZMN",
        "SbEQfexwAA6u",
        "iifd678B1Is-"
      ],
      "authorship_tag": "ABX9TyOzvlT6QnGkaHtvrNx08ozQ",
      "include_colab_link": true
    },
    "kernelspec": {
      "name": "python3",
      "display_name": "Python 3"
    },
    "language_info": {
      "name": "python"
    }
  },
  "cells": [
    {
      "cell_type": "markdown",
      "metadata": {
        "id": "view-in-github",
        "colab_type": "text"
      },
      "source": [
        "<a href=\"https://colab.research.google.com/github/NihilisticMotif/Data-Science-Documentation/blob/main/Data-Science-Documentation/MachineLearning_Algorithm/LogisticRegression/Algorithm/LogisticRegression_01_BinaryLRContinueX.ipynb\" target=\"_parent\"><img src=\"https://colab.research.google.com/assets/colab-badge.svg\" alt=\"Open In Colab\"/></a>"
      ]
    },
    {
      "cell_type": "markdown",
      "source": [
        "###Introduction of Logistic Regression"
      ],
      "metadata": {
        "id": "z-GEWYVo1ZFU"
      }
    },
    {
      "cell_type": "markdown",
      "source": [
        "**What is Logistic Regression?**\n",
        "\n",
        "Logistic regression is a supervised learning algorithm used to predict a dependent categorical target variable. In essence, if you have a large set of data that you want to categorize, logistic regression may be able to help. (https://www.mastersindatascience.org/learning/machine-learning-algorithms/logistic-regression/)"
      ],
      "metadata": {
        "id": "BtANtY5G1dXV"
      }
    },
    {
      "cell_type": "markdown",
      "source": [
        "**Type of Logistic Regression**\n",
        "1. Binary logistic regression\n",
        "* This algorithm compute the input $X$ into output $y$, where $y$ only means true or false.\n",
        "* $y\\in \\{0,1\\}$\n",
        "* e.g. Is this picture has a dog? etc.\n",
        "2. Multinomial logistic regression\n",
        "* e.g.\n",
        "* Classifying texts into what language they come from.\n",
        "* Predicting whether a student will go to college, trade school or into the workforce.\n",
        "* Does your cat prefer wet food, dry food or human food?\n",
        "* etc.\n",
        "3. Ordinal logistic regression\n",
        "* Ordinal logistic regression is also a model where there are multiple classes that an item can be classified as; however, in this case an ordering of classes is required. Classes do not need to be proportionate. The distance between each class can vary.\n",
        "* e.g. Movies Rate etc.\n",
        "\n",
        "reference: https://www.mastersindatascience.org/learning/machine-learning-algorithms/logistic-regression/"
      ],
      "metadata": {
        "id": "WkU21g9AWSfK"
      }
    },
    {
      "cell_type": "markdown",
      "source": [
        "**Why we do not use linear regression in this case?**\n",
        "\n",
        "Linear Regression can only be used for predicting the relationship between continuous variable.\n",
        "\n",
        "This algorithm is not good for classification task because\n",
        "* In this case, output data can be classify into 2 values $\\{0,1\\}$, the linear regression algorithmn do not predict output data accuratly at all.\n",
        "* In theory, $h(x)$ should be $0\\leq h(x)\\leq 1$ for boolean classification problem."
      ],
      "metadata": {
        "id": "x4ZM6wNz3Oqn"
      }
    },
    {
      "cell_type": "markdown",
      "source": [
        "**What I will do in this tutorial?**\n",
        "* I will demonstrate how to use Logistic Regression to predict the relationship between continue $x$ variable and discrete $y$ variable."
      ],
      "metadata": {
        "id": "UG-LgEligdhK"
      }
    },
    {
      "cell_type": "markdown",
      "source": [
        "**Step**\n",
        "1. Get Data\n",
        "2. Creating Hypothesis Function\n",
        "3. Creating Evaluating Function\n",
        "4. Creating Optimization Function"
      ],
      "metadata": {
        "id": "u4Yq7FV96rgL"
      }
    },
    {
      "cell_type": "markdown",
      "source": [
        "**Note**\n",
        "* Both linear regression and logistic regression are linear model."
      ],
      "metadata": {
        "id": "hiHQwvOhEcht"
      }
    },
    {
      "cell_type": "markdown",
      "source": [
        "###Step 1, Getting Data"
      ],
      "metadata": {
        "id": "EWtll8EhabDz"
      }
    },
    {
      "cell_type": "code",
      "source": [
        "!pip install --upgrade -q gspread"
      ],
      "metadata": {
        "id": "SC0oqdC1ryQC",
        "colab": {
          "base_uri": "https://localhost:8080/"
        },
        "outputId": "982c564c-a573-4903-bc1e-3cec744a8768"
      },
      "execution_count": null,
      "outputs": [
        {
          "output_type": "stream",
          "name": "stdout",
          "text": [
            "\u001b[?25l     \u001b[90m━━━━━━━━━━━━━━━━━━━━━━━━━━━━━━━━━━━━━━━━\u001b[0m \u001b[32m0.0/40.5 KB\u001b[0m \u001b[31m?\u001b[0m eta \u001b[36m-:--:--\u001b[0m\r\u001b[2K     \u001b[90m━━━━━━━━━━━━━━━━━━━━━━━━━━━━━━━━━━━━━━━━\u001b[0m \u001b[32m40.5/40.5 KB\u001b[0m \u001b[31m1.5 MB/s\u001b[0m eta \u001b[36m0:00:00\u001b[0m\n",
            "\u001b[?25h"
          ]
        }
      ]
    },
    {
      "cell_type": "code",
      "source": [
        "# [1.] import library\n",
        "\n",
        "from __future__ import absolute_import, division, print_function, unicode_literals\n",
        "\n",
        "import matplotlib.pyplot as plt\n",
        "import numpy as np\n",
        "import pandas as pd\n",
        "import math \n",
        "\n",
        "# [2.] Connect Google Collab with Google Sheet\n",
        "from google.colab import auth\n",
        "import gspread\n",
        "from google.auth import default\n",
        "from google.colab import data_table\n",
        "\n",
        "auth.authenticate_user()\n",
        "creds, _ = default()\n",
        "gc = gspread.authorize(creds)\n",
        "worksheet = gc.open('student-mat').get_worksheet(0)\n",
        "rows = worksheet.get_all_values()\n",
        "dfmain = pd.DataFrame(rows)\n",
        "\n",
        "# [3.] Display Data form Google Sheet\n",
        "dfmain.head()"
      ],
      "metadata": {
        "colab": {
          "base_uri": "https://localhost:8080/"
        },
        "outputId": "83d87e44-9b4e-4fac-ade9-53429dab1049",
        "id": "0yggkypVq3EA"
      },
      "execution_count": null,
      "outputs": [
        {
          "output_type": "execute_result",
          "data": {
            "text/plain": [
              "       0    1    2        3        4        5     6     7        8         9   \\\n",
              "0  school  sex  age  address  famsize  Pstatus  Medu  Fedu     Mjob      Fjob   \n",
              "1      GP    F   18        U      GT3        A     4     4  at_home   teacher   \n",
              "2      GP    F   17        U      GT3        T     1     1  at_home     other   \n",
              "3      GP    F   15        U      LE3        T     1     1  at_home     other   \n",
              "4      GP    F   15        U      GT3        T     4     2   health  services   \n",
              "\n",
              "   ...      23        24     25    26    27      28        29  30  31  32  \n",
              "0  ...  famrel  freetime  goout  Dalc  Walc  health  absences  G1  G2  G3  \n",
              "1  ...       4         3      4     1     1       3         6   5   6   6  \n",
              "2  ...       5         3      3     1     1       3         4   5   5   6  \n",
              "3  ...       4         3      2     2     3       3        10   7   8  10  \n",
              "4  ...       3         2      2     1     1       5         2  15  14  15  \n",
              "\n",
              "[5 rows x 33 columns]"
            ],
            "text/html": [
              "\n",
              "  <div id=\"df-f59cb988-4dde-46e3-bcdb-661e64a4e3b8\">\n",
              "    <div class=\"colab-df-container\">\n",
              "      <div>\n",
              "<style scoped>\n",
              "    .dataframe tbody tr th:only-of-type {\n",
              "        vertical-align: middle;\n",
              "    }\n",
              "\n",
              "    .dataframe tbody tr th {\n",
              "        vertical-align: top;\n",
              "    }\n",
              "\n",
              "    .dataframe thead th {\n",
              "        text-align: right;\n",
              "    }\n",
              "</style>\n",
              "<table border=\"1\" class=\"dataframe\">\n",
              "  <thead>\n",
              "    <tr style=\"text-align: right;\">\n",
              "      <th></th>\n",
              "      <th>0</th>\n",
              "      <th>1</th>\n",
              "      <th>2</th>\n",
              "      <th>3</th>\n",
              "      <th>4</th>\n",
              "      <th>5</th>\n",
              "      <th>6</th>\n",
              "      <th>7</th>\n",
              "      <th>8</th>\n",
              "      <th>9</th>\n",
              "      <th>...</th>\n",
              "      <th>23</th>\n",
              "      <th>24</th>\n",
              "      <th>25</th>\n",
              "      <th>26</th>\n",
              "      <th>27</th>\n",
              "      <th>28</th>\n",
              "      <th>29</th>\n",
              "      <th>30</th>\n",
              "      <th>31</th>\n",
              "      <th>32</th>\n",
              "    </tr>\n",
              "  </thead>\n",
              "  <tbody>\n",
              "    <tr>\n",
              "      <th>0</th>\n",
              "      <td>school</td>\n",
              "      <td>sex</td>\n",
              "      <td>age</td>\n",
              "      <td>address</td>\n",
              "      <td>famsize</td>\n",
              "      <td>Pstatus</td>\n",
              "      <td>Medu</td>\n",
              "      <td>Fedu</td>\n",
              "      <td>Mjob</td>\n",
              "      <td>Fjob</td>\n",
              "      <td>...</td>\n",
              "      <td>famrel</td>\n",
              "      <td>freetime</td>\n",
              "      <td>goout</td>\n",
              "      <td>Dalc</td>\n",
              "      <td>Walc</td>\n",
              "      <td>health</td>\n",
              "      <td>absences</td>\n",
              "      <td>G1</td>\n",
              "      <td>G2</td>\n",
              "      <td>G3</td>\n",
              "    </tr>\n",
              "    <tr>\n",
              "      <th>1</th>\n",
              "      <td>GP</td>\n",
              "      <td>F</td>\n",
              "      <td>18</td>\n",
              "      <td>U</td>\n",
              "      <td>GT3</td>\n",
              "      <td>A</td>\n",
              "      <td>4</td>\n",
              "      <td>4</td>\n",
              "      <td>at_home</td>\n",
              "      <td>teacher</td>\n",
              "      <td>...</td>\n",
              "      <td>4</td>\n",
              "      <td>3</td>\n",
              "      <td>4</td>\n",
              "      <td>1</td>\n",
              "      <td>1</td>\n",
              "      <td>3</td>\n",
              "      <td>6</td>\n",
              "      <td>5</td>\n",
              "      <td>6</td>\n",
              "      <td>6</td>\n",
              "    </tr>\n",
              "    <tr>\n",
              "      <th>2</th>\n",
              "      <td>GP</td>\n",
              "      <td>F</td>\n",
              "      <td>17</td>\n",
              "      <td>U</td>\n",
              "      <td>GT3</td>\n",
              "      <td>T</td>\n",
              "      <td>1</td>\n",
              "      <td>1</td>\n",
              "      <td>at_home</td>\n",
              "      <td>other</td>\n",
              "      <td>...</td>\n",
              "      <td>5</td>\n",
              "      <td>3</td>\n",
              "      <td>3</td>\n",
              "      <td>1</td>\n",
              "      <td>1</td>\n",
              "      <td>3</td>\n",
              "      <td>4</td>\n",
              "      <td>5</td>\n",
              "      <td>5</td>\n",
              "      <td>6</td>\n",
              "    </tr>\n",
              "    <tr>\n",
              "      <th>3</th>\n",
              "      <td>GP</td>\n",
              "      <td>F</td>\n",
              "      <td>15</td>\n",
              "      <td>U</td>\n",
              "      <td>LE3</td>\n",
              "      <td>T</td>\n",
              "      <td>1</td>\n",
              "      <td>1</td>\n",
              "      <td>at_home</td>\n",
              "      <td>other</td>\n",
              "      <td>...</td>\n",
              "      <td>4</td>\n",
              "      <td>3</td>\n",
              "      <td>2</td>\n",
              "      <td>2</td>\n",
              "      <td>3</td>\n",
              "      <td>3</td>\n",
              "      <td>10</td>\n",
              "      <td>7</td>\n",
              "      <td>8</td>\n",
              "      <td>10</td>\n",
              "    </tr>\n",
              "    <tr>\n",
              "      <th>4</th>\n",
              "      <td>GP</td>\n",
              "      <td>F</td>\n",
              "      <td>15</td>\n",
              "      <td>U</td>\n",
              "      <td>GT3</td>\n",
              "      <td>T</td>\n",
              "      <td>4</td>\n",
              "      <td>2</td>\n",
              "      <td>health</td>\n",
              "      <td>services</td>\n",
              "      <td>...</td>\n",
              "      <td>3</td>\n",
              "      <td>2</td>\n",
              "      <td>2</td>\n",
              "      <td>1</td>\n",
              "      <td>1</td>\n",
              "      <td>5</td>\n",
              "      <td>2</td>\n",
              "      <td>15</td>\n",
              "      <td>14</td>\n",
              "      <td>15</td>\n",
              "    </tr>\n",
              "  </tbody>\n",
              "</table>\n",
              "<p>5 rows × 33 columns</p>\n",
              "</div>\n",
              "      <button class=\"colab-df-convert\" onclick=\"convertToInteractive('df-f59cb988-4dde-46e3-bcdb-661e64a4e3b8')\"\n",
              "              title=\"Convert this dataframe to an interactive table.\"\n",
              "              style=\"display:none;\">\n",
              "        \n",
              "  <svg xmlns=\"http://www.w3.org/2000/svg\" height=\"24px\"viewBox=\"0 0 24 24\"\n",
              "       width=\"24px\">\n",
              "    <path d=\"M0 0h24v24H0V0z\" fill=\"none\"/>\n",
              "    <path d=\"M18.56 5.44l.94 2.06.94-2.06 2.06-.94-2.06-.94-.94-2.06-.94 2.06-2.06.94zm-11 1L8.5 8.5l.94-2.06 2.06-.94-2.06-.94L8.5 2.5l-.94 2.06-2.06.94zm10 10l.94 2.06.94-2.06 2.06-.94-2.06-.94-.94-2.06-.94 2.06-2.06.94z\"/><path d=\"M17.41 7.96l-1.37-1.37c-.4-.4-.92-.59-1.43-.59-.52 0-1.04.2-1.43.59L10.3 9.45l-7.72 7.72c-.78.78-.78 2.05 0 2.83L4 21.41c.39.39.9.59 1.41.59.51 0 1.02-.2 1.41-.59l7.78-7.78 2.81-2.81c.8-.78.8-2.07 0-2.86zM5.41 20L4 18.59l7.72-7.72 1.47 1.35L5.41 20z\"/>\n",
              "  </svg>\n",
              "      </button>\n",
              "      \n",
              "  <style>\n",
              "    .colab-df-container {\n",
              "      display:flex;\n",
              "      flex-wrap:wrap;\n",
              "      gap: 12px;\n",
              "    }\n",
              "\n",
              "    .colab-df-convert {\n",
              "      background-color: #E8F0FE;\n",
              "      border: none;\n",
              "      border-radius: 50%;\n",
              "      cursor: pointer;\n",
              "      display: none;\n",
              "      fill: #1967D2;\n",
              "      height: 32px;\n",
              "      padding: 0 0 0 0;\n",
              "      width: 32px;\n",
              "    }\n",
              "\n",
              "    .colab-df-convert:hover {\n",
              "      background-color: #E2EBFA;\n",
              "      box-shadow: 0px 1px 2px rgba(60, 64, 67, 0.3), 0px 1px 3px 1px rgba(60, 64, 67, 0.15);\n",
              "      fill: #174EA6;\n",
              "    }\n",
              "\n",
              "    [theme=dark] .colab-df-convert {\n",
              "      background-color: #3B4455;\n",
              "      fill: #D2E3FC;\n",
              "    }\n",
              "\n",
              "    [theme=dark] .colab-df-convert:hover {\n",
              "      background-color: #434B5C;\n",
              "      box-shadow: 0px 1px 3px 1px rgba(0, 0, 0, 0.15);\n",
              "      filter: drop-shadow(0px 1px 2px rgba(0, 0, 0, 0.3));\n",
              "      fill: #FFFFFF;\n",
              "    }\n",
              "  </style>\n",
              "\n",
              "      <script>\n",
              "        const buttonEl =\n",
              "          document.querySelector('#df-f59cb988-4dde-46e3-bcdb-661e64a4e3b8 button.colab-df-convert');\n",
              "        buttonEl.style.display =\n",
              "          google.colab.kernel.accessAllowed ? 'block' : 'none';\n",
              "\n",
              "        async function convertToInteractive(key) {\n",
              "          const element = document.querySelector('#df-f59cb988-4dde-46e3-bcdb-661e64a4e3b8');\n",
              "          const dataTable =\n",
              "            await google.colab.kernel.invokeFunction('convertToInteractive',\n",
              "                                                     [key], {});\n",
              "          if (!dataTable) return;\n",
              "\n",
              "          const docLinkHtml = 'Like what you see? Visit the ' +\n",
              "            '<a target=\"_blank\" href=https://colab.research.google.com/notebooks/data_table.ipynb>data table notebook</a>'\n",
              "            + ' to learn more about interactive tables.';\n",
              "          element.innerHTML = '';\n",
              "          dataTable['output_type'] = 'display_data';\n",
              "          await google.colab.output.renderOutput(dataTable, element);\n",
              "          const docLink = document.createElement('div');\n",
              "          docLink.innerHTML = docLinkHtml;\n",
              "          element.appendChild(docLink);\n",
              "        }\n",
              "      </script>\n",
              "    </div>\n",
              "  </div>\n",
              "  "
            ]
          },
          "metadata": {},
          "execution_count": 2
        }
      ]
    },
    {
      "cell_type": "markdown",
      "source": [
        "Now we have the data. However we have to reorganize (clean) the data before analyse the data, because computer cannot analyse string data type. In addition, cleaning data help us analyse data more easily."
      ],
      "metadata": {
        "id": "8tgjYAnRB0oY"
      }
    },
    {
      "cell_type": "code",
      "source": [
        "# [1.] Get string from the first row of every columns\n",
        "# reference: https://www.easytweaks.com/get-first-row-pandas-dataframe/\n",
        "ColumnName = dfmain.iloc[0].to_list()\n",
        "\n",
        "# [2.] Rename every column\n",
        "for i in range(len(ColumnName)):\n",
        "  dfmain.rename(columns={i:ColumnName[i]},inplace=True)\n",
        "\n",
        "# [3.] Drop first row\n",
        "dfmain=dfmain.drop([0], axis=0)\n",
        "\n",
        "# [4.] Change Data Type\n",
        "# reference: https://www.geeksforgeeks.org/change-data-type-for-one-or-more-columns-in-pandas-dataframe/\n",
        "# reference: https://statisticsglobe.com/convert-string-boolean-pandas-dataframe-column-python\n",
        "# reference: https://sparkbyexamples.com/pandas/pandas-convert-column-to-numpy-array/\n",
        "# reference: https://pandas.pydata.org/docs/reference/api/pandas.Series.map.html\n",
        "# reference: https://stackoverflow.com/questions/2468334/creating-dynamic-and-expandable-dictionaries-in-python\n",
        "# reference: https://favtutor.com/blogs/merge-dictionaries-python\n",
        "# reference: https://datagy.io/python-int-to-binary/\n",
        "\n",
        "# VectorName is used for indicate the meaning of the vector in each categorized data based column\n",
        "# VectorName = [[ColumnIndex,ColumnDict],...,[ColumnIndex,ColumnDict]]\n",
        "VectorName=[]\n",
        "\n",
        "# BinaryVector(lengh) is a function that is used for generate vector\n",
        "def BinaryVector(lengh):\n",
        "  mathbbR = math.ceil(math.log2(lengh))\n",
        "  categorization = []\n",
        "  for element in range(lengh):\n",
        "    binary = str(bin(element)).split('b')[1]\n",
        "    vector = []\n",
        "    for k in range(mathbbR-len(binary)):\n",
        "      vector.append(0)\n",
        "    for i in binary:\n",
        "      vector.append(int(i))\n",
        "    categorization.append(vector)\n",
        "  categorization=np.array(categorization)\n",
        "  return categorization\n",
        "\n",
        "# Change the data type of every column in dfmain\n",
        "for i in range(len(ColumnName)):\n",
        "  IsD=np.array(dfmain[ColumnName[i]])[0]\n",
        "  if IsD.isdigit():\n",
        "    # Change data type from String into Integer\n",
        "    dfmain[ColumnName[i]]=dfmain[ColumnName[i]].apply(pd.to_numeric)\n",
        "  else:\n",
        "    # Change data type from String into Vector that contains 0 and 1\n",
        "    dfColumn = dfmain[ColumnName[i]].to_numpy()\n",
        "    ListValue=list(np.sort(pd.Series(np.array(dfColumn)).value_counts().index.to_numpy()))\n",
        "    # Create Binary Vecotr Dictionary\n",
        "    Convert = { \"data\":[]}\n",
        "    Category=BinaryVector(len(ListValue))\n",
        "    for j in range(len(ListValue)):\n",
        "      ConvertData = {}\n",
        "      ConvertData[ListValue[j]] = Category[j]\n",
        "      Convert[\"data\"].append(ConvertData)\n",
        "    for k in range(len(Convert['data'])):\n",
        "      if (k!=0):\n",
        "        Convert['data'][k].update(Convert['data'][k-1])\n",
        "      else:\n",
        "        continue\n",
        "    # Update the dfmain and VectorName\n",
        "    VectorName.append([i,Convert['data'][-1]])\n",
        "    dfmain[ColumnName[i]] = dfmain[ColumnName[i]].map(dict(Convert['data'][-1]))"
      ],
      "metadata": {
        "id": "IJtMdVHL1R0K"
      },
      "execution_count": null,
      "outputs": []
    },
    {
      "cell_type": "code",
      "source": [
        "dfmain.head()"
      ],
      "metadata": {
        "colab": {
          "base_uri": "https://localhost:8080/"
        },
        "id": "xeJljQ_8Bjvi",
        "outputId": "4f9b6d7a-730f-491b-fc3c-68e6a6d689b1"
      },
      "execution_count": null,
      "outputs": [
        {
          "output_type": "execute_result",
          "data": {
            "text/plain": [
              "  school  sex  age address famsize Pstatus  Medu  Fedu       Mjob       Fjob  \\\n",
              "1    [0]  [0]   18     [1]     [0]     [0]     4     4  [0, 0, 0]  [1, 0, 0]   \n",
              "2    [0]  [0]   17     [1]     [0]     [1]     1     1  [0, 0, 0]  [0, 1, 0]   \n",
              "3    [0]  [0]   15     [1]     [1]     [1]     1     1  [0, 0, 0]  [0, 1, 0]   \n",
              "4    [0]  [0]   15     [1]     [0]     [1]     4     2  [0, 0, 1]  [0, 1, 1]   \n",
              "5    [0]  [0]   16     [1]     [0]     [1]     3     3  [0, 1, 0]  [0, 1, 0]   \n",
              "\n",
              "   ... famrel freetime  goout  Dalc  Walc health absences  G1  G2  G3  \n",
              "1  ...      4        3      4     1     1      3        6   5   6   6  \n",
              "2  ...      5        3      3     1     1      3        4   5   5   6  \n",
              "3  ...      4        3      2     2     3      3       10   7   8  10  \n",
              "4  ...      3        2      2     1     1      5        2  15  14  15  \n",
              "5  ...      4        3      2     1     2      5        4   6  10  10  \n",
              "\n",
              "[5 rows x 33 columns]"
            ],
            "text/html": [
              "\n",
              "  <div id=\"df-0c4f86e4-0d06-4fd3-bdbe-9cbae5a503c7\">\n",
              "    <div class=\"colab-df-container\">\n",
              "      <div>\n",
              "<style scoped>\n",
              "    .dataframe tbody tr th:only-of-type {\n",
              "        vertical-align: middle;\n",
              "    }\n",
              "\n",
              "    .dataframe tbody tr th {\n",
              "        vertical-align: top;\n",
              "    }\n",
              "\n",
              "    .dataframe thead th {\n",
              "        text-align: right;\n",
              "    }\n",
              "</style>\n",
              "<table border=\"1\" class=\"dataframe\">\n",
              "  <thead>\n",
              "    <tr style=\"text-align: right;\">\n",
              "      <th></th>\n",
              "      <th>school</th>\n",
              "      <th>sex</th>\n",
              "      <th>age</th>\n",
              "      <th>address</th>\n",
              "      <th>famsize</th>\n",
              "      <th>Pstatus</th>\n",
              "      <th>Medu</th>\n",
              "      <th>Fedu</th>\n",
              "      <th>Mjob</th>\n",
              "      <th>Fjob</th>\n",
              "      <th>...</th>\n",
              "      <th>famrel</th>\n",
              "      <th>freetime</th>\n",
              "      <th>goout</th>\n",
              "      <th>Dalc</th>\n",
              "      <th>Walc</th>\n",
              "      <th>health</th>\n",
              "      <th>absences</th>\n",
              "      <th>G1</th>\n",
              "      <th>G2</th>\n",
              "      <th>G3</th>\n",
              "    </tr>\n",
              "  </thead>\n",
              "  <tbody>\n",
              "    <tr>\n",
              "      <th>1</th>\n",
              "      <td>[0]</td>\n",
              "      <td>[0]</td>\n",
              "      <td>18</td>\n",
              "      <td>[1]</td>\n",
              "      <td>[0]</td>\n",
              "      <td>[0]</td>\n",
              "      <td>4</td>\n",
              "      <td>4</td>\n",
              "      <td>[0, 0, 0]</td>\n",
              "      <td>[1, 0, 0]</td>\n",
              "      <td>...</td>\n",
              "      <td>4</td>\n",
              "      <td>3</td>\n",
              "      <td>4</td>\n",
              "      <td>1</td>\n",
              "      <td>1</td>\n",
              "      <td>3</td>\n",
              "      <td>6</td>\n",
              "      <td>5</td>\n",
              "      <td>6</td>\n",
              "      <td>6</td>\n",
              "    </tr>\n",
              "    <tr>\n",
              "      <th>2</th>\n",
              "      <td>[0]</td>\n",
              "      <td>[0]</td>\n",
              "      <td>17</td>\n",
              "      <td>[1]</td>\n",
              "      <td>[0]</td>\n",
              "      <td>[1]</td>\n",
              "      <td>1</td>\n",
              "      <td>1</td>\n",
              "      <td>[0, 0, 0]</td>\n",
              "      <td>[0, 1, 0]</td>\n",
              "      <td>...</td>\n",
              "      <td>5</td>\n",
              "      <td>3</td>\n",
              "      <td>3</td>\n",
              "      <td>1</td>\n",
              "      <td>1</td>\n",
              "      <td>3</td>\n",
              "      <td>4</td>\n",
              "      <td>5</td>\n",
              "      <td>5</td>\n",
              "      <td>6</td>\n",
              "    </tr>\n",
              "    <tr>\n",
              "      <th>3</th>\n",
              "      <td>[0]</td>\n",
              "      <td>[0]</td>\n",
              "      <td>15</td>\n",
              "      <td>[1]</td>\n",
              "      <td>[1]</td>\n",
              "      <td>[1]</td>\n",
              "      <td>1</td>\n",
              "      <td>1</td>\n",
              "      <td>[0, 0, 0]</td>\n",
              "      <td>[0, 1, 0]</td>\n",
              "      <td>...</td>\n",
              "      <td>4</td>\n",
              "      <td>3</td>\n",
              "      <td>2</td>\n",
              "      <td>2</td>\n",
              "      <td>3</td>\n",
              "      <td>3</td>\n",
              "      <td>10</td>\n",
              "      <td>7</td>\n",
              "      <td>8</td>\n",
              "      <td>10</td>\n",
              "    </tr>\n",
              "    <tr>\n",
              "      <th>4</th>\n",
              "      <td>[0]</td>\n",
              "      <td>[0]</td>\n",
              "      <td>15</td>\n",
              "      <td>[1]</td>\n",
              "      <td>[0]</td>\n",
              "      <td>[1]</td>\n",
              "      <td>4</td>\n",
              "      <td>2</td>\n",
              "      <td>[0, 0, 1]</td>\n",
              "      <td>[0, 1, 1]</td>\n",
              "      <td>...</td>\n",
              "      <td>3</td>\n",
              "      <td>2</td>\n",
              "      <td>2</td>\n",
              "      <td>1</td>\n",
              "      <td>1</td>\n",
              "      <td>5</td>\n",
              "      <td>2</td>\n",
              "      <td>15</td>\n",
              "      <td>14</td>\n",
              "      <td>15</td>\n",
              "    </tr>\n",
              "    <tr>\n",
              "      <th>5</th>\n",
              "      <td>[0]</td>\n",
              "      <td>[0]</td>\n",
              "      <td>16</td>\n",
              "      <td>[1]</td>\n",
              "      <td>[0]</td>\n",
              "      <td>[1]</td>\n",
              "      <td>3</td>\n",
              "      <td>3</td>\n",
              "      <td>[0, 1, 0]</td>\n",
              "      <td>[0, 1, 0]</td>\n",
              "      <td>...</td>\n",
              "      <td>4</td>\n",
              "      <td>3</td>\n",
              "      <td>2</td>\n",
              "      <td>1</td>\n",
              "      <td>2</td>\n",
              "      <td>5</td>\n",
              "      <td>4</td>\n",
              "      <td>6</td>\n",
              "      <td>10</td>\n",
              "      <td>10</td>\n",
              "    </tr>\n",
              "  </tbody>\n",
              "</table>\n",
              "<p>5 rows × 33 columns</p>\n",
              "</div>\n",
              "      <button class=\"colab-df-convert\" onclick=\"convertToInteractive('df-0c4f86e4-0d06-4fd3-bdbe-9cbae5a503c7')\"\n",
              "              title=\"Convert this dataframe to an interactive table.\"\n",
              "              style=\"display:none;\">\n",
              "        \n",
              "  <svg xmlns=\"http://www.w3.org/2000/svg\" height=\"24px\"viewBox=\"0 0 24 24\"\n",
              "       width=\"24px\">\n",
              "    <path d=\"M0 0h24v24H0V0z\" fill=\"none\"/>\n",
              "    <path d=\"M18.56 5.44l.94 2.06.94-2.06 2.06-.94-2.06-.94-.94-2.06-.94 2.06-2.06.94zm-11 1L8.5 8.5l.94-2.06 2.06-.94-2.06-.94L8.5 2.5l-.94 2.06-2.06.94zm10 10l.94 2.06.94-2.06 2.06-.94-2.06-.94-.94-2.06-.94 2.06-2.06.94z\"/><path d=\"M17.41 7.96l-1.37-1.37c-.4-.4-.92-.59-1.43-.59-.52 0-1.04.2-1.43.59L10.3 9.45l-7.72 7.72c-.78.78-.78 2.05 0 2.83L4 21.41c.39.39.9.59 1.41.59.51 0 1.02-.2 1.41-.59l7.78-7.78 2.81-2.81c.8-.78.8-2.07 0-2.86zM5.41 20L4 18.59l7.72-7.72 1.47 1.35L5.41 20z\"/>\n",
              "  </svg>\n",
              "      </button>\n",
              "      \n",
              "  <style>\n",
              "    .colab-df-container {\n",
              "      display:flex;\n",
              "      flex-wrap:wrap;\n",
              "      gap: 12px;\n",
              "    }\n",
              "\n",
              "    .colab-df-convert {\n",
              "      background-color: #E8F0FE;\n",
              "      border: none;\n",
              "      border-radius: 50%;\n",
              "      cursor: pointer;\n",
              "      display: none;\n",
              "      fill: #1967D2;\n",
              "      height: 32px;\n",
              "      padding: 0 0 0 0;\n",
              "      width: 32px;\n",
              "    }\n",
              "\n",
              "    .colab-df-convert:hover {\n",
              "      background-color: #E2EBFA;\n",
              "      box-shadow: 0px 1px 2px rgba(60, 64, 67, 0.3), 0px 1px 3px 1px rgba(60, 64, 67, 0.15);\n",
              "      fill: #174EA6;\n",
              "    }\n",
              "\n",
              "    [theme=dark] .colab-df-convert {\n",
              "      background-color: #3B4455;\n",
              "      fill: #D2E3FC;\n",
              "    }\n",
              "\n",
              "    [theme=dark] .colab-df-convert:hover {\n",
              "      background-color: #434B5C;\n",
              "      box-shadow: 0px 1px 3px 1px rgba(0, 0, 0, 0.15);\n",
              "      filter: drop-shadow(0px 1px 2px rgba(0, 0, 0, 0.3));\n",
              "      fill: #FFFFFF;\n",
              "    }\n",
              "  </style>\n",
              "\n",
              "      <script>\n",
              "        const buttonEl =\n",
              "          document.querySelector('#df-0c4f86e4-0d06-4fd3-bdbe-9cbae5a503c7 button.colab-df-convert');\n",
              "        buttonEl.style.display =\n",
              "          google.colab.kernel.accessAllowed ? 'block' : 'none';\n",
              "\n",
              "        async function convertToInteractive(key) {\n",
              "          const element = document.querySelector('#df-0c4f86e4-0d06-4fd3-bdbe-9cbae5a503c7');\n",
              "          const dataTable =\n",
              "            await google.colab.kernel.invokeFunction('convertToInteractive',\n",
              "                                                     [key], {});\n",
              "          if (!dataTable) return;\n",
              "\n",
              "          const docLinkHtml = 'Like what you see? Visit the ' +\n",
              "            '<a target=\"_blank\" href=https://colab.research.google.com/notebooks/data_table.ipynb>data table notebook</a>'\n",
              "            + ' to learn more about interactive tables.';\n",
              "          element.innerHTML = '';\n",
              "          dataTable['output_type'] = 'display_data';\n",
              "          await google.colab.output.renderOutput(dataTable, element);\n",
              "          const docLink = document.createElement('div');\n",
              "          docLink.innerHTML = docLinkHtml;\n",
              "          element.appendChild(docLink);\n",
              "        }\n",
              "      </script>\n",
              "    </div>\n",
              "  </div>\n",
              "  "
            ]
          },
          "metadata": {},
          "execution_count": 4
        }
      ]
    },
    {
      "cell_type": "markdown",
      "source": [
        "###Step 2, Creating Hypothesis Function"
      ],
      "metadata": {
        "id": "5rZkJITc6-Lu"
      }
    },
    {
      "cell_type": "markdown",
      "source": [
        "**Here are the initial variable**"
      ],
      "metadata": {
        "id": "GrKdpyrtFzYV"
      }
    },
    {
      "cell_type": "code",
      "source": [
        "ind_X=32\n",
        "ind_Y=20\n",
        "ColumnNameX=ColumnName[ind_X]\n",
        "ColumnNameY=ColumnName[ind_Y]\n",
        "dfmain=dfmain"
      ],
      "metadata": {
        "id": "htYOBw7TFyaW"
      },
      "execution_count": null,
      "outputs": []
    },
    {
      "cell_type": "markdown",
      "source": [
        "Note:\n",
        "* $\\theta =\\vec{h}$\n",
        "* Personally, I like $\\vec{h}$ than $\\theta$ because it makes me realize that $\\vec{h}$ is a vector."
      ],
      "metadata": {
        "id": "kdg0xJNF4QIt"
      }
    },
    {
      "cell_type": "markdown",
      "source": [
        "**Hypothesis Function**\n",
        "\n",
        "* $h(\\vec{x})=\\frac{1}{1 + \\exp({-\\vec{h}\\cdot\\vec{x}})}=\\frac{1}{1 + e^{-\\vec{h}\\cdot\\vec{x}}}=$ Probability $\\in[0,1]$\n",
        "* $\\vec{h}\\cdot\\vec{x}=\\Sigma_{i=0}^nh_ix_i$\n",
        "* $y=$ real output of the data\n",
        "* $x_0=1$\n",
        "* $x_i=$ Input of the data No.$i$\n",
        "* $h_i=$ constant in hypothesis function No.$i$\n",
        "\n",
        "**Note: In this case**\n",
        "* $h(\\vec{x})=\\frac{1}{1 + \\exp(-(x_1*h_1+h_0))}$\n",
        "* $h(x_1)=$ The probability that the student have Higher_Education (Output)\n",
        "* $x_1$ = Grade score of the student (Input)\n",
        "\n",
        "**Output of $h(x)$:**\n",
        "* $\\vec{h}\\cdot\\vec{x}\\geq0\\implies h(\\vec{x})=\\frac{1}{1 + e^{-|\\vec{h}\\cdot\\vec{x}|}}\\geq0.5\\implies y=1$\n",
        "* $\\vec{h}\\cdot\\vec{x}<0\\implies h(\\vec{x})=\\frac{1}{1 + e^{|\\vec{h}\\cdot\\vec{x}|}}<0.5\\implies y=0$"
      ],
      "metadata": {
        "id": "NmkQxcj03-SJ"
      }
    },
    {
      "cell_type": "markdown",
      "source": [
        "**Here is the Python implementation**"
      ],
      "metadata": {
        "id": "n7MmmwmTI8e9"
      }
    },
    {
      "cell_type": "code",
      "source": [
        "def HypothesisFunction(x1,h0,h1):\n",
        "  return 1/(1+np.exp(-(x1*h1+h0)))"
      ],
      "metadata": {
        "id": "Ot3sMlSyJDLz"
      },
      "execution_count": null,
      "outputs": []
    },
    {
      "cell_type": "markdown",
      "source": [
        "**Q: Why using $e$?**\n",
        "\n",
        "A: For mathematical simplicity and convenience.\n",
        "* $e^x=\\exp(x)$\n",
        "* $\\frac{d}{dx}[e^x]=e^x$\n",
        "\n",
        "reference: \n",
        "* https://www.quora.com/Why-is-logistic-regression-based-on-the-exponential-function-Where-did-the-exponential-function-come-from-anyway\n",
        "* https://stats.stackexchange.com/questions/338702/why-do-we-use-the-natural-exponential-in-logistic-regression"
      ],
      "metadata": {
        "id": "L3Ay0Bg7UL8c"
      }
    },
    {
      "cell_type": "markdown",
      "source": [
        "###Step3, Creating Evaluation Function"
      ],
      "metadata": {
        "id": "SbEQfexwAA6u"
      }
    },
    {
      "cell_type": "markdown",
      "source": [
        "Keyword\n",
        "* Evaluation Function = Cost Function\n",
        "* Square Error Function = Evaluation Function of Linear Regression = Cost Function of Linear Regression"
      ],
      "metadata": {
        "id": "1k09rnckfWhH"
      }
    },
    {
      "cell_type": "markdown",
      "source": [
        "**Evaluating Function No.1**\n",
        "\n",
        "$J(\\vec{h})=\\frac{1}{m}\\Sigma_{i=1}^m C(h(\\vec{x}_i),y_i)$\n",
        "\n",
        "* $y=1\\implies C(h(\\vec{x}),y)=-\\ln(h(\\vec{x}))$\n",
        "* $y=0\\implies C(h(\\vec{x}),y)=-\\ln(1-h(\\vec{x}))$\n",
        "\n",
        "**Evaluating Function No.2**\n",
        "\n",
        "$J(\\vec{h})=-\\frac{1}{m}\\Sigma_{i=1}^m[y_i*\\ln(h(\\vec{x}_i))+(1-y_i)\\ln(1-h(\\vec{x}_i))]$\n",
        "\n",
        "* $y=1\\implies J(\\vec{h}))=-\\frac{1}{m}\\Sigma_{i=1}^m[\\ln(h(\\vec{x}_i))+0]$\n",
        "* $y=0\\implies J(\\vec{h}))=-\\frac{1}{m}\\Sigma_{i=1}^m[0+\\ln(1-h(\\vec{x}_i))]$"
      ],
      "metadata": {
        "id": "fGDffovhAed7"
      }
    },
    {
      "cell_type": "markdown",
      "source": [
        "**Here is the Python implementation**"
      ],
      "metadata": {
        "id": "cedBas_lJNag"
      }
    },
    {
      "cell_type": "code",
      "source": [
        "def HypothesisFunction(x1,h0,h1):\n",
        "  return 1/(1+np.exp(-(x1*h1+h0)))\n",
        "\n",
        "# 1/(1+np.exp(-(xline*2-3)))\n",
        "\n",
        "def EvaluationFunction(data,ind_x,ind_y,h0=0,h1=0):\n",
        "  num=0\n",
        "  for i in range(data.shape[0]):\n",
        "    num-=data.iat[i,ind_y]*np.emath.log(HypothesisFunction(data.iat[i,ind_x],h0,h1))+(1-data.iat[i,ind_y])*np.emath.log(1-HypothesisFunction(data.iat[i,ind_x],h0,h1))\n",
        "  num*=(1/data.shape[0])\n",
        "  return num\n",
        "\n",
        "# Here is the data.\n",
        "# How do I enforce a square grid in matplotlib? reference: https://stackoverflow.com/questions/50158333/how-do-i-enforce-a-square-grid-in-matplotlib\n",
        "plt.grid()\n",
        "\n",
        "# Add labels to the x- and y-axis.\n",
        "plt.xlabel(ColumnNameX)\n",
        "plt.ylabel(ColumnNameY)\n",
        "\n",
        "# Data is plotted.\n",
        "plt.scatter(dfmain[ColumnNameX], dfmain[ColumnNameY])\n",
        "\n",
        "# Here is the hypothesis function a.k.a. prediction function.\n",
        "Hi=[0.4,1.055]\n",
        "xline = np.arange(0, 20,0.5)\n",
        "yline = HypothesisFunction(xline,Hi[0],Hi[1])\n",
        "\n",
        "plt.plot(xline, yline, color='blue')\n",
        "\n",
        "plt.show()\n",
        "\n",
        "print(EvaluationFunction(dfmain,ind_X,ind_Y,h0=Hi[0],h1=Hi[1]))"
      ],
      "metadata": {
        "colab": {
          "base_uri": "https://localhost:8080/",
          "height": 297
        },
        "outputId": "0a173938-f172-45ea-aa25-4a9d8b0a50f3",
        "id": "VD0Eao1N40OH"
      },
      "execution_count": null,
      "outputs": [
        {
          "output_type": "display_data",
          "data": {
            "text/plain": [
              "<Figure size 432x288 with 1 Axes>"
            ],
            "image/png": "[encoded data removed]"
          },
          "metadata": {
            "needs_background": "light"
          }
        },
        {
          "output_type": "stream",
          "name": "stdout",
          "text": [
            "[0.43300614]\n"
          ]
        }
      ]
    },
    {
      "cell_type": "markdown",
      "source": [
        "**Q: Why doing this? $y=1\\implies\\ln(h(\\vec{x}))$ and $y=0\\implies\\ln(1-h(\\vec{x}))$**\n",
        "\n",
        "A: \n",
        "\n",
        "According to Logarithm: $a^b=c\\implies\\log_a(c)=b$\n",
        "\n",
        "$\\therefore a^0=1\\implies\\log_a(1)=0\\implies\\lim_{c\\to1}\\log_a(c)=0$\n",
        "\n",
        "Given that:\n",
        "* $h(\\vec{x})\\in[0,1]$\n",
        "* $h(\\vec{x})\\geq0.5\\implies y=1\\implies \\ln(h(\\vec{x}))\\to0$\n",
        "* $h(\\vec{x})<0.5\\implies y=0\\implies \\ln(1-h(\\vec{x}))\\to0$"
      ],
      "metadata": {
        "id": "byD2aBb4d1nb"
      }
    },
    {
      "cell_type": "markdown",
      "source": [
        "**Q: Why we do not use square error function? Why $J(\\vec{h})\\neq\\frac{1}{2m}\\sum_{i=1}^m(h(x_i)-y_i)^2$?**\n",
        "\n",
        "A: $\\frac{1}{2m}\\sum_{i=1}^m(h(x_i)-y_i)^2$ is not suitable with logistic regression because the value of $y$ is not continueous. If the square error function is ploted on 3D cartesian plane (x-axis=$h_0$, y-axis=$h_1$ and z-axis=error). Then, the function will display multiple local minimums, which interrupt gradient descent from finding the global minimum."
      ],
      "metadata": {
        "id": "BzafrdvebZ4W"
      }
    },
    {
      "cell_type": "markdown",
      "source": [
        "**Q: Why $-(...)$?**\n",
        "\n",
        "A: \n",
        "\n",
        "Given that:\n",
        "* $h(\\vec{x})\\in[0,1]$\n",
        "\n",
        "According to Logarithm: $a^b=c\\implies\\log_a(c)=b$\n",
        "\n",
        "$0<a^b=c\\leq1\\implies \\log_a(c)=b\\leq0$\n",
        "\n",
        "$\\therefore \\frac{1}{m}\\Sigma_{i=1}^m[y_i*\\log(h(\\vec{x}))+(1-y_i)\\log(1-h(\\vec{x}))]\\leq0$\n",
        "\n",
        "For make things easier, $\\frac{1}{m}\\Sigma_{i=1}^m[y_i*\\log(h(\\vec{x}))+(1-y_i)\\log(1-h(\\vec{x}))]*-1\\geq0$"
      ],
      "metadata": {
        "id": "m-8HDoL1B0Ix"
      }
    },
    {
      "cell_type": "markdown",
      "source": [
        "**Q: Why $\\ln(x)$?**\n",
        "\n",
        "A: For mathematical simplicity\n",
        "\n",
        "* $\\frac{d}{dx}[\\ln(x)]=\\frac1x$"
      ],
      "metadata": {
        "id": "9bhe-XdIrJrH"
      }
    },
    {
      "cell_type": "code",
      "source": [
        "import math\n",
        "from mpl_toolkits import mplot3d\n",
        "from matplotlib.pyplot import figure\n",
        "\n",
        "# Here is the data.\n",
        "# How do I enforce a square grid in matplotlib? reference: https://stackoverflow.com/questions/50158333/how-do-i-enforce-a-square-grid-in-matplotlib\n",
        "plt.grid()\n",
        "\n",
        "def HypothesisFunction(x1,h0,h1):\n",
        "  return 1/(1+np.exp(-(x1*h1+h0)))\n",
        "\n",
        "def EvaluationFunction(data,ind_x,ind_y,h0=0,h1=0):\n",
        "  num=0\n",
        "  for i in range(data.shape[0]):\n",
        "    num-=data.iat[i,ind_y]*np.emath.log(HypothesisFunction(data.iat[i,ind_x],h0,h1))+(1-data.iat[i,ind_y])*np.emath.log(1-HypothesisFunction(data.iat[i,ind_x],h0,h1))\n",
        "  num*=(1/data.shape[0])\n",
        "  return num\n",
        "\n",
        "N = 100\n",
        "M = 100\n",
        "\n",
        "x_values = np.linspace(-10, 20, N)\n",
        "y_values = np.linspace(-10, 20, M)\n",
        "\n",
        "X, Y = np.meshgrid(x_values, y_values)\n",
        "Z = EvaluationFunction(dfmain,ind_X,ind_Y,h0=X,h1=Y)\n",
        "\n",
        "# Plotting 3D Data.\n",
        "ax = plt.axes(projection='3d')\n",
        "ax.plot_surface(X,Y,Z);\n",
        "\n",
        "ax.set_xlabel('h1')\n",
        "ax.set_ylabel('h0')\n",
        "ax.set_zlabel('Evaluation Function')\n",
        "ax.view_init(45,45);\n",
        "\n",
        "def countNaN(arr):\n",
        "  isnan=0\n",
        "  isnum=0\n",
        "  for i in arr:\n",
        "    for j in i:\n",
        "      if math.isnan(j)==True:\n",
        "        isnan+=1\n",
        "      else:\n",
        "        isnum+=1\n",
        "  print('Is not a Number='+str(isnan))\n",
        "  print('Is a Number='+str(isnum))\n",
        "countNaN(Z)\n",
        "# IsNan=6097\n",
        "# IsNum=3903"
      ],
      "metadata": {
        "colab": {
          "base_uri": "https://localhost:8080/",
          "height": 378
        },
        "outputId": "045e0e02-5f6d-46bd-dc93-eab479fd8c6e",
        "id": "7zkEINuZqNo9"
      },
      "execution_count": null,
      "outputs": [
        {
          "output_type": "stream",
          "name": "stderr",
          "text": [
            "/usr/local/lib/python3.9/dist-packages/numpy/lib/scimath.py:287: RuntimeWarning: divide by zero encountered in log\n",
            "  return nx.log(x)\n",
            "<ipython-input-8-845905798b67>:15: RuntimeWarning: invalid value encountered in multiply\n",
            "  num-=data.iat[i,ind_y]*np.emath.log(HypothesisFunction(data.iat[i,ind_x],h0,h1))+(1-data.iat[i,ind_y])*np.emath.log(1-HypothesisFunction(data.iat[i,ind_x],h0,h1))\n"
          ]
        },
        {
          "output_type": "stream",
          "name": "stdout",
          "text": [
            "Is not a Number=6125\n",
            "Is a Number=3875\n"
          ]
        },
        {
          "output_type": "display_data",
          "data": {
            "text/plain": [
              "<Figure size 432x288 with 2 Axes>"
            ],
            "image/png": "[encoded data removed]"
          },
          "metadata": {
            "needs_background": "light"
          }
        }
      ]
    },
    {
      "cell_type": "markdown",
      "source": [
        "**Why graph show only half of a function?**\n",
        "\n",
        "Note that:\n",
        "* $a\\in\\mathbb{R}, \\log_a(0)=$ Undefined\n",
        "* $\\lim_{h\\to0}\\log_a(h)=$ Undefined because there are no values to the left of 0 in the domain of $\\log_a(h)$ (reference: https://www.mathway.com/Calculus)\n"
      ],
      "metadata": {
        "id": "f1RQMolQKu1e"
      }
    },
    {
      "cell_type": "markdown",
      "source": [
        "###Step 4, Create Optimization Function using Gradient Descent"
      ],
      "metadata": {
        "id": "Ex89snspbsCz"
      }
    },
    {
      "cell_type": "markdown",
      "source": [
        "**[1.] Gradient descent of logistic repression**\n",
        "\n",
        "Gradient descent is an optimization algorithm which is used for minimizing error value of the evaluation function\n",
        "\n",
        "$h_j:=h_j-a*\\frac{\\partial}{\\partial h_j}J(h_j)$\n",
        "* $h_j=$ variable in hypothesis function\n",
        "* $a=$ learning rate\n",
        "* $J(h_j)=$ Evaluation Function.\n",
        "* $\\frac{\\partial}{\\partial h_j}J(h_j)=$ Partial derivative of Evaluation Function with respect to variable $h_j$\n",
        "* $0\\leq j <n$\n",
        "\n",
        "Gradient descent in logistic repression works the same ways as in linear regression. In other words, it minimizes the error (find the global minimum.) of the evaluation function."
      ],
      "metadata": {
        "id": "sDI081mDb3wK"
      }
    },
    {
      "cell_type": "markdown",
      "source": [
        "**[2.] Find $\\frac{\\partial}{\\partial h_j}[h(h_j)]=\\frac{\\partial}{\\partial h_j}[\\frac{1}{1+\\exp(-x*h_j-c)}]$**\n",
        "\n",
        "Note:\n",
        "* $h_j=$ constant $\\in\\vec{h}$ = constant in hypothesis function of Logistic Regression algorithm.\n",
        "* $h(\\vec{h},\\vec{x})=$ hypothesis function of Logistic Regression algorithm.\n",
        "* $\\vec{x}=$ Input\n",
        "* $\\vec{x},\\vec{h}\\in\\mathbb{R}^{n+1}$\n",
        "* $g_a(g_{\\text{len}}(x))=g_a(g_{a+1}(...(g_{\\text{len}}(x)))), \\text{len}=$ number of all function\n",
        "\n",
        "Given that:\n",
        "\n",
        "\\begin{bmatrix}\n",
        "f(h_j) & = & h_j^{-1} &\\implies & f'(h_j)&=&-h_j^{-2}\n",
        "&\\text{&}&  f'(g_{\\text{len}}(h_j))&=&-(\\exp(-x*h_j-c)+1)^{-2}\\\\\n",
        "g_1(h_j) & = & h_j+1    &\\implies&g_1'(h_j)&=&1      \n",
        "&\\text{&}&g_1'(g_{\\text{len}}(h_j))&=&1\\\\\n",
        "g_2(h_j) & = & e^{h_j}    &\\implies&g_2'(h_j)&=&e^{h_j}   \n",
        "&\\text{&}&g_2'(g_{\\text{len}}(h))&=&\\exp(-x*h_j-c)\\\\\n",
        "g_3(h_j) & = & -x*h_j-c &\\implies&g_3'(h_j)&=&-x     \n",
        "&\\text{&}&g_3'(g_{\\text{len}}(h_j))&=&-x\n",
        "\\end{bmatrix}\n",
        "\n",
        "According to Chain Rule: $\\frac{d}{dx}[f(g(x))] = (f\\circ g)'= f'(g(x))*g'(x)$\n",
        "\n",
        "$\\therefore\\frac{\\partial}{\\partial h_j}[\\frac{1}{1+\\exp(-x*h_j-c)}]=\n",
        "-(\\exp(-x*h_j-c)+1)^{-2}\n",
        "*1\n",
        "*\\exp(-x*h_j-c)\n",
        "*(-x)\n",
        "$\n",
        "\n",
        "$\\frac{\\partial}{\\partial h_j}[\\frac{1}{1+\\exp(-x*h_j-c)}]=\n",
        "(\\exp(-x*h_j-c)+1)^{-2}\n",
        "*\\exp(-x*h_j-c)\n",
        "*x\n",
        "$\n",
        "\n",
        "$\\frac{\\partial}{\\partial h_j}[\\frac{1}{1+\\exp(-x*h_j-c)}]=\n",
        "\\frac{x*\\exp(-x*h_j-c)}{(\\exp(-x*h_j-c)+1)^2}\n",
        "$\n",
        "\n",
        "$\\frac{\\partial}{\\partial h_j}[\\frac{1}{1+\\exp(-x*h_j-c)}]=\n",
        "\\frac{x-x+x*\\exp(-x*h_j-c)}{(\\exp(-x*h_j-c)+1)^2}\n",
        "$\n",
        "\n",
        "$\\frac{\\partial}{\\partial h_j}[\\frac{1}{1+\\exp(-x*h_j-c)}]=\n",
        "\\frac{x+x*\\exp(-x*h_j-c)}{(\\exp(-x*h_j-c)+1)^2}\n",
        "-\\frac{x}{(\\exp(-x*h_j-c)+1)^2}\n",
        "$\n",
        "\n",
        "$\\frac{\\partial}{\\partial h_j}[\\frac{1}{1+\\exp(-x*h_j-c)}]=\n",
        "\\frac{x}{(\\exp(-x*h_j-c)+1)}*(\n",
        "\\frac{1+\\exp(-x*h_j-c)}{(\\exp(-x*h_j-c)+1)}\n",
        "-\\frac{1}{(\\exp(-x*h_j-c)+1)})\n",
        "$\n",
        "\n",
        "$\\frac{\\partial}{\\partial h_j}[\\frac{1}{1+\\exp(-x*h_j-c)}]=\n",
        "\\frac{x}{(\\exp(-x*h_j-c)+1)}*(\n",
        "1\n",
        "-\\frac{1}{(\\exp(-x*h_j-c)+1)})\n",
        "$\n",
        "\n",
        "Given that: $h(h_j)=\\frac{1}{1+\\exp(-x*h_j-c)}$\n",
        "\n",
        "$\\therefore\\frac{\\partial}{\\partial h_j}[h(h_j)]=\n",
        "x*h(h_j)*(\n",
        "1\n",
        "-h(h_j))\n",
        "$\n",
        "\n",
        "Note: \n",
        "* In this case, $x$ is the coefficient of the $h_j, \\implies x=x_j$\n",
        "* $\\frac{\\partial}{\\partial h_j}[h(\\vec{h},\\vec{x})]=x_j*h(\\vec{h},\\vec{x})*(1-h(\\vec{h},\\vec{x}))$\n",
        "\n",
        "reference: https://medium.com/analytics-vidhya/derivative-of-log-loss-function-for-logistic-regression-9b832f025c2d"
      ],
      "metadata": {
        "id": "wjci7TIGvsDA"
      }
    },
    {
      "cell_type": "markdown",
      "source": [
        "**[3.] Find $\\frac{d}{dx}[\\log_a(g(x))]$**\n",
        "\n",
        "Given that:\n",
        "* $f(x)=\\log_a(x)\\implies f'(x)=\\frac{1}{\\ln(a)*x}$\n",
        "* $g(x)$\n",
        "\n",
        "According to Chain Rule: $\\frac{d}{dx}[f(g(x))] = (f\\circ g)'= f'(g(x))*g'(x)$\n",
        "\n",
        "$\\therefore\\frac{d}{dx}[\\log_a(g(x))]=\\frac{g'(x)}{\\ln(a)*g(x)}$"
      ],
      "metadata": {
        "id": "PgS_7oNOj_AM"
      }
    },
    {
      "cell_type": "markdown",
      "source": [
        "**[4.] Hypothesis Function in Matrix Form**\n",
        "\n",
        "* $h(\\vec{x})\\in[0,1]$\n",
        "* $h(\\vec{x}) =\\frac{1}{1 + e^{-\\vec{h}\\cdot\\vec{x}}}=\\frac{1}{1 + \\exp({-\\vec{h}\\cdot\\vec{x}})}=$ Probability"
      ],
      "metadata": {
        "id": "SWopoUUqAUOK"
      }
    },
    {
      "cell_type": "markdown",
      "source": [
        "**[5.] Finding $\\frac{\\partial}{\\partial h_j}J(h_j)$**\n",
        "\n",
        "Given that:\n",
        "* $\\frac{\\partial}{\\partial h_j}[J(\\vec{h})]=-\\frac{1}{m}\\Sigma_{i=1}^m[y_i*\\ln(h(\\vec{x}_i))+(1-y_i)\\ln(1-h(\\vec{x}_i))]$\n",
        "\n",
        "According to derivative to Sum Rule: $\\frac{d}{dx}[f(x)+g(x)] = \\frac{d}{dx}f(x)+\\frac{d}{dx}g(x)$\n",
        "\n",
        "$\\frac{\\partial}{\\partial h_j}[J(\\vec{h})]=\n",
        "-\\frac{1}{m}\n",
        "\\Sigma_{i=1}^m[\n",
        "  \\frac{\\partial}{\\partial h_j}[y_i*\\ln(h(\\vec{x}_i))]\n",
        "  +\\frac{\\partial}{\\partial h_j}[(1-y_i)\\ln(1-h(\\vec{x}_i))]\n",
        "  ]$\n",
        "\n",
        "According to Constant multiple rule No.1, $\\frac{d}{dx}[k*f(x)] = k*\\frac{d}{dx}f(x)$\n",
        "\n",
        "$\\frac{\\partial}{\\partial h_j}[J(\\vec{h})]=\n",
        "-\\frac{1}{m}\n",
        "\\Sigma_{i=1}^m[\n",
        "  y_i*\\frac{\\partial}{\\partial h_j}[\\ln(h(\\vec{x}_i))]\n",
        "  +(1-y_i)*\\frac{\\partial}{\\partial h_j}[\\ln(1-h(\\vec{x}_i))]\n",
        "  ]$\n",
        "\n",
        "Given that:\n",
        "* $\\frac{d}{dx}[\\log_a(g(x))]=\\frac{g'(x)}{\\ln(a)*g(x)}$\n",
        "* $\\ln(e)=1$\n",
        "\n",
        "$\\frac{\\partial}{\\partial h_j}[J(\\vec{h})]=\n",
        "-\\frac{1}{m}\n",
        "\\Sigma_{i=1}^m[\n",
        "  y_i*\\frac{\\frac{\\partial}{\\partial h_j}[h(\\vec{x}_i)]}{h(\\vec{x}_i)}\n",
        "  +(1-y_i)*\\frac{\\frac{\\partial}{\\partial h_j}[1-h(\\vec{x}_i)]}{1-h(\\vec{x}_i)}\n",
        "  ]$\n",
        "\n",
        "Given that:\n",
        "* $\\frac{\\partial}{\\partial h_j}[h(h_j)]=x_j*h(h_j)*(1-h(h_j))$\n",
        "\n",
        "$\\frac{\\partial}{\\partial h_j}[J(\\vec{h})]=\n",
        "-\\frac{1}{m}\n",
        "\\Sigma_{i=1}^m[\n",
        "  y_i*\\frac{x_j*h(h_j)*(1-h(h_j))}{h(\\vec{x}_i)}\n",
        "  +(1-y_i)*\\frac{-x_j*h(h_j)*(1-h(h_j))}{1-h(\\vec{x}_i)}\n",
        "  ]$\n",
        "\n",
        "$\\frac{\\partial}{\\partial h_j}[J(\\vec{h})]=\n",
        "-\\frac{1}{m}\n",
        "\\Sigma_{i=1}^m[\n",
        "  y_i*\\frac{x_j*h(h_j)*(1-h(h_j))}{h(\\vec{x}_i)}\n",
        "  -(1-y_i)*\\frac{x_j*h(h_j)*(1-h(h_j))}{1-h(\\vec{x}_i)}\n",
        "  ]$\n",
        "\n",
        "$\\frac{\\partial}{\\partial h_j}[J(\\vec{h})]=\n",
        "-\\frac{1}{m}\n",
        "\\Sigma_{i=1}^m[\n",
        "  y_i*x_j*(1-h(h_j))\n",
        "  -(1-y_i)*x_j*h(h_j)\n",
        "  ]$\n",
        "\n",
        "$\\frac{\\partial}{\\partial h_j}[J(\\vec{h})]=\n",
        "-\\frac{1}{m}\n",
        "\\Sigma_{i=1}^m[\n",
        "  y_i*x_j\n",
        "  -y_i*x_j*h(h_j)\n",
        "  -x_j*h(h_j)\n",
        "  +y_i*x_j*h(h_j)\n",
        "  ]$\n",
        "\n",
        "$\\frac{\\partial}{\\partial h_j}[J(\\vec{h})]=\n",
        "-\\frac{1}{m}\n",
        "\\Sigma_{i=1}^m[\n",
        "  y_i*x_j\n",
        "  -x_j*h(h_j)\n",
        "  ]$\n",
        "\n",
        "$\\frac{\\partial}{\\partial h_j}[J(\\vec{h})]=\n",
        "-\\frac{1}{m}\n",
        "\\Sigma_{i=1}^m[\n",
        "  x_j*(y_i\n",
        "  -h(h_j))\n",
        "  ]$"
      ],
      "metadata": {
        "id": "esNxT_vB20mx"
      }
    },
    {
      "cell_type": "markdown",
      "source": [
        "**[6.] Convert $\\frac{\\partial}{\\partial h_j}[J(\\vec{h})]$ in to matrix from**\n",
        "\n",
        "$\\frac{\\partial}{\\partial h_j}[J(\\vec{h})]=\n",
        "-\\frac{1}{m}\n",
        "\\Sigma_{i=1}^m[\n",
        "  x_j*(y_i\n",
        "  -h(h_j))\n",
        "  ]$\n",
        "\n",
        "Given that: for $n =$ number of all features of the training data\n",
        "* $h(\\vec{h},\\vec{x})=\\frac{1}{1 + \\exp({-\\vec{h}\\cdot\\vec{x}})}$\n",
        "* $\\vec{h}:=\\vec{h}-a*\\frac{\\partial}{\\partial \\vec{h}}J(\\vec{h})$\n",
        "* $\\frac{\\partial}{\\partial \\vec{h}}[J(\\vec{h})],\\vec{h},\\vec{x}\\in\\mathbb{R}^{n+1}, x_0=1$\n",
        "\n",
        "Given that: for $m =$ number of all training data\n",
        "* $\\vec{y},h(X)\\in\\mathbb{R}^{m}$\n",
        "\n",
        "Given that: for $h(x)$\n",
        "* $h(\\vec{x})\\in\\mathbb{R}$\n",
        "* $X\\in\\mathbb{R}^{m\\times (n+1)}, \\text{$X$ contains several $\\vec{x}$.}$\n",
        "\n",
        "Given that:\n",
        "* According to transpose: $X^T\\in\\mathbb{R}^{(n+1)\\times m}$\n",
        "* $\\vec{y}-h(X),\\vec{y},h(X)\\in\\mathbb{R}^{m\\times 1}$\n",
        "\n",
        "According to matric multiplication: $A\\in\\mathbb{R}^{m\\times n},B\\in\\mathbb{R}^{n\\times p}\\implies AB\\in\\mathbb{R}^{m\\times p}$\n",
        "\n",
        "$\\therefore\\frac{\\partial}{\\partial \\vec{h}}[J(\\vec{h})]=\n",
        "-\\frac{1}{m}*X^T*(\\vec{y}-h(X))$"
      ],
      "metadata": {
        "id": "_snVRRpC6lX9"
      }
    },
    {
      "cell_type": "markdown",
      "source": [
        "**[7.] Gradient Descent in matrix form**\n",
        "\n",
        "Given that:\n",
        "* $h_j:=h_j-a*\\frac{\\partial}{\\partial h_j}J(h_j)$\n",
        "* $\\vec{h}\\in\\mathbb{R}^{n+1}$\n",
        "\n",
        "\n",
        "$\\therefore \\vec{h}:=\\vec{h}-a*\\frac{\\partial}{\\partial \\vec{h}}J(\\vec{h})$\n",
        "\n",
        "Given that:\n",
        "* $\\frac{\\partial}{\\partial \\vec{h}}[J(\\vec{h})]=-\\frac{1}{m}*X^T*(\\vec{y}-h(X))$\n",
        "\n",
        "$\\therefore \\vec{h}:=\\vec{h}-a*(-\\frac{1}{m}*X^T*(\\vec{y}-h(X)))$\n",
        "\n",
        "$\\vec{h}:=\\vec{h}+\\frac{a}{m}*X^T*(\\vec{y}-h(X))$\n"
      ],
      "metadata": {
        "id": "kDwOxFrIQTFa"
      }
    },
    {
      "cell_type": "code",
      "source": [
        "def HypothesisFunction(x1,h0,h1):\n",
        "  return 1/(1+np.exp(-(x1*h1+h0)))\n",
        "\n",
        "def diff_EvaluationFunction(x, y, h):\n",
        "    return np.array([-(y-HypothesisFunction(x,h[0],h[1])).mean(), (-(y-HypothesisFunction(x,h[0],h[1]))*x).mean()]).reshape(-1)\n",
        "\n",
        "def gradient_descent(\n",
        "    gradient,         # derivative of EvaluationFunction\n",
        "    x, \n",
        "    y, \n",
        "    start,            # initial value of hypothesis function\n",
        "    learn_rate=0.1,   # a\n",
        "    n_iter=50,        # maximum time that the model loop\n",
        "    tolerance=1e-06   # when the model stop the loop\n",
        "):\n",
        "    vector = start\n",
        "    for _ in range(n_iter):\n",
        "        diff = -learn_rate * np.array(gradient(x, y, vector))\n",
        "        if np.all(np.abs(diff) <= tolerance):\n",
        "            break\n",
        "        vector += diff\n",
        "    return vector\n",
        "\n",
        "h_i=gradient_descent(\n",
        "    diff_EvaluationFunction, dfmain[ColumnNameX], dfmain[ColumnNameY], start=[0.5, 0.5], learn_rate=0.0008,\n",
        "    n_iter=100_000\n",
        ")\n",
        "print(h_i)\n",
        "\n",
        "# 9 minutes"
      ],
      "metadata": {
        "colab": {
          "base_uri": "https://localhost:8080/"
        },
        "id": "dXHwWIrYVU9z",
        "outputId": "a4a0841b-5717-4f4c-87d5-209d2e9b66f0"
      },
      "execution_count": null,
      "outputs": [
        {
          "output_type": "stream",
          "name": "stdout",
          "text": [
            "[1.32865499 0.17638434]\n"
          ]
        }
      ]
    },
    {
      "cell_type": "code",
      "source": [
        "def HypothesisFunction(x1,h0,h1):\n",
        "  return 1/(1+np.exp(-(x1*h1+h0)))\n",
        "\n",
        "def EvaluationFunction(data,ind_x,ind_y,h0=0,h1=0):\n",
        "  num=0\n",
        "  for i in range(data.shape[0]):\n",
        "    num-=data.iat[i,ind_y]*np.emath.log(HypothesisFunction(data.iat[i,ind_x],h0,h1))+(1-data.iat[i,ind_y])*np.emath.log(1-HypothesisFunction(data.iat[i,ind_x],h0,h1))\n",
        "  num*=(1/data.shape[0])\n",
        "  return num\n",
        "\n",
        "# Here is the data.\n",
        "# How do I enforce a square grid in matplotlib? reference: https://stackoverflow.com/questions/50158333/how-do-i-enforce-a-square-grid-in-matplotlib\n",
        "plt.grid()\n",
        "\n",
        "# Add labels to the x- and y-axis.\n",
        "plt.xlabel(ColumnNameX)\n",
        "plt.ylabel(ColumnNameY)\n",
        "\n",
        "# Data is plotted.\n",
        "plt.scatter(dfmain[ColumnNameX], dfmain[ColumnNameY])\n",
        "\n",
        "# Here is the hypothesis function a.k.a. prediction function.\n",
        "xline = np.arange(0,20,0.5)\n",
        "yline = HypothesisFunction(xline,h_i[0],h_i[1])\n",
        "\n",
        "plt.plot(xline, yline, color='blue')\n",
        "plt.show()\n",
        "\n",
        "print(EvaluationFunction(dfmain,ind_X,ind_Y,h0=h_i[0],h1=h_i[1]))"
      ],
      "metadata": {
        "colab": {
          "base_uri": "https://localhost:8080/",
          "height": 297
        },
        "outputId": "b935432a-edb2-48ed-df99-300b623d20e5",
        "id": "fnJk55jSiuZo"
      },
      "execution_count": null,
      "outputs": [
        {
          "output_type": "display_data",
          "data": {
            "text/plain": [
              "<Figure size 432x288 with 1 Axes>"
            ],
            "image/png": "[encoded data removed]"
          },
          "metadata": {
            "needs_background": "light"
          }
        },
        {
          "output_type": "stream",
          "name": "stdout",
          "text": [
            "[0.18624363]\n"
          ]
        }
      ]
    },
    {
      "cell_type": "code",
      "source": [
        "print(xline)\n",
        "print(yline)"
      ],
      "metadata": {
        "colab": {
          "base_uri": "https://localhost:8080/"
        },
        "id": "I1KytpgDLGxt",
        "outputId": "a616b5a9-9f14-4bcb-a907-a04f2cb1405f"
      },
      "execution_count": null,
      "outputs": [
        {
          "output_type": "stream",
          "name": "stdout",
          "text": [
            "[ 0 20]\n",
            "[0.79061807 0.99228115]\n"
          ]
        }
      ]
    },
    {
      "cell_type": "markdown",
      "source": [
        "###Bonus No.1: Common Python Technique"
      ],
      "metadata": {
        "id": "9vn0ShxcEZMN"
      }
    },
    {
      "cell_type": "markdown",
      "source": [
        "**1. How to add all number in a column of a data frame?**"
      ],
      "metadata": {
        "id": "xkYVzJ7mEf13"
      }
    },
    {
      "cell_type": "code",
      "source": [
        "# method no.1\n",
        "#print(data.sum())\n",
        "\n",
        "# method no.2\n",
        "def Sigma(data,ind_x):\n",
        "  num=0\n",
        "  # len(data.axes[0]) = number of all row of the data\n",
        "  for i in range(data.shape[0]):\n",
        "    # data.iat[row,column] = Get a element from dataframe matrix\n",
        "    # In this case, get all element from the first column via for-loop.\n",
        "    num+=data.iat[i,0]\n",
        "  return num\n",
        "\n",
        "print(Sigma(dfmain,ind_X))"
      ],
      "metadata": {
        "colab": {
          "base_uri": "https://localhost:8080/"
        },
        "id": "tIw6TD2_DNI8",
        "outputId": "0b2eedf5-2990-48d2-e8d8-943f84ca3d21"
      },
      "execution_count": null,
      "outputs": [
        {
          "output_type": "stream",
          "name": "stdout",
          "text": [
            "4232\n"
          ]
        }
      ]
    },
    {
      "cell_type": "markdown",
      "source": [
        "###Bonus No.2: Matrix Multiplication\n",
        "\n",
        "* Used for linear transformations algorithmn\n",
        "* Used for finding total value of somethings, e.g. total income in each months. etc."
      ],
      "metadata": {
        "id": "It9pISMvhyyU"
      }
    },
    {
      "cell_type": "markdown",
      "source": [
        "**Purpose:**\n",
        "1. Matrix Multiplication used for finding scalar value of each row of the first matrix multiplied by multiple set of variable from column of second matrix.\n",
        "\n",
        "for example\n",
        "\n",
        "Finding money made in each day from day/product table and price/product table. (https://youtu.be/fRv3-LnEUjg)\n",
        "\n",
        "etc.\n",
        "\n",
        "2. Finding return value given the linear transformation and the input vector."
      ],
      "metadata": {
        "id": "cTsJXtnY8drJ"
      }
    },
    {
      "cell_type": "markdown",
      "source": [
        "**Matrix Multiplied by Matrix**\n",
        "\n",
        "Given that:\n",
        "* $1\\leq i \\leq m$\n",
        "* $1\\leq j \\leq p$\n",
        "* $1\\leq k \\leq n$\n",
        "* $A\\in\\mathbb{R}^{m\\times n}$\n",
        "* $B\\in\\mathbb{R}^{n\\times p}$\n",
        "* $\\implies AB\\in\\mathbb{R}^{m\\times p}$\n",
        "* $\\implies AB_{i,j}=\\Sigma_{k=1}^nA_{i,k}*B_{k,j}$\n",
        "\n",
        "reference: https://en.wikipedia.org/wiki/Matrix_multiplication"
      ],
      "metadata": {
        "id": "mjmbSXOYJ3tV"
      }
    },
    {
      "cell_type": "markdown",
      "source": [
        "**How to find the product of 2 matrix?**\n",
        "\n",
        "* 2 Matrix can be multiplied by each other if their dimensions are compatible , which means the number of columns in the first matrix is the same as the number of rows in the second matrix.\n",
        "* $A \\in \\mathbb{R}^{m \\times n}$\n",
        "* $B \\in \\mathbb{R}^{n \\times p}$\n",
        "\n",
        "$A=$\n",
        " $\\begin{pmatrix}\n",
        "a_{1,1} & a_{1,2} & ... & a_{1,n}\\\\\n",
        "a_{2,1} & a_{2,2} & ... & a_{2,n}\\\\\n",
        "... & ... & ... & ... &\\\\\n",
        "a_{m,1} & a_{m,2} & ... & a_{m,n}\n",
        "\\end{pmatrix}$\n",
        "\n",
        "$B=$\n",
        " $\\begin{pmatrix}\n",
        "b_{1,1} & b_{1,2} & ... & b_{1,p}\\\\\n",
        "b_{2,1} & b_{2,2} & ... & b_{2,p}\\\\\n",
        "... & ... & ... & ... &\\\\\n",
        "b_{n,1} & b_{n,2} & ... & b_{n,p}\n",
        "\\end{pmatrix}$\n",
        "\n",
        "$A*B=AB=$\n",
        " $\\begin{pmatrix}\n",
        "a_{r1}\\cdot b_{c1} & a_{r1}\\cdot b_{c2} & ... & a_{r1}\\cdot b_{cp}\\\\\n",
        "a_{r2}\\cdot b_{c1} & a_{r2}\\cdot b_{c2} & ... & a_{r2}\\cdot b_{cp}\\\\\n",
        "... & ... & ... & ... &\\\\\n",
        "a_{rm}\\cdot b_{c1} & a_{rm}\\cdot b_{c2} & ... & a_{rm}\\cdot b_{cp}\n",
        "\\end{pmatrix}$\n",
        "\n",
        "Given that $a_{ri} = (a_{i,1}, a_{i,2}, ..., a_{i,n})$, and $b_{cj} = (b_{1,j}, b_{2,j}, ..., b_{n,j})$\n",
        "\n",
        "It is noteworthly that $AB\\in\\mathbb{R}^{m\\times p}$"
      ],
      "metadata": {
        "id": "tk-5GDSiiRyS"
      }
    },
    {
      "cell_type": "markdown",
      "source": [
        "**Properties of Matrix Multiplication**\n",
        "\n",
        "* $A*B\\neq B*A$\n",
        "* $(AB)C=A(BC)$\n",
        "* $A(B+C)=AB+AC$\n",
        "* $A$ is $m\\times n$ matrix and $I$ is a identical matrix $\\implies I_mA = AI_n=A$\n",
        "* $O$ is a zero matrix $\\implies O*A=A*O=O$\n",
        "* $\\{m\\times n \\text{ matrix}\\}*\\{n\\times k \\text{ matrix}\\} = \\{m\\times k \\text{ matrix}\\}$\n",
        "\n",
        "reference: https://www.khanacademy.org/math/precalculus/x9e81a4f98389efdf:matrices/x9e81a4f98389efdf:properties-of-matrix-multiplication/a/properties-of-matrix-multiplication"
      ],
      "metadata": {
        "id": "plD4aATfkv29"
      }
    },
    {
      "cell_type": "markdown",
      "source": [
        "**Prove that $A*B\\neq B*A$**\n",
        "\n",
        "Given that\n",
        "* $A \\in \\mathbb{R}^{m \\times n}$\n",
        "* $B \\in \\mathbb{R}^{n \\times p}$\n",
        "* $\\vec{A_r}$ is row vector of $A \\implies 1 \\leq r \\leq m$\n",
        "* $\\vec{B_c}$ is column vector of $B \\implies 1 \\leq c \\leq p$\n",
        "\n",
        "$\\therefore AB=\\{\\vec{A_r}\\cdot \\vec{B_c}\\}=$\n",
        " $\\begin{pmatrix}\n",
        "\\vec{A_1}\\cdot \\vec{B_1} & ... & \\vec{A_1}\\cdot \\vec{B_p}\\\\\n",
        "... & ... & ... \\\\\n",
        "\\vec{A_m}\\cdot \\vec{B_1} & ... & \\vec{A_m}\\cdot \\vec{B_p}\n",
        "\\end{pmatrix}$\n",
        "\n",
        "**Finding the value of $BA$**\n",
        "\n",
        "Given that\n",
        "* $A \\in \\mathbb{R}^{m \\times n}$\n",
        "* $B \\in \\mathbb{R}^{n \\times p}$\n",
        "* $\\vec{A_d}$ is column vector of $A \\implies 1 \\leq r \\leq n$\n",
        "* $\\vec{B_q}$ is row vector of $B \\implies 1 \\leq c \\leq n$\n",
        "\n",
        "$\\therefore BA=\\{\\vec{B_q}\\cdot \\vec{A_d}\\}=$\n",
        " $\\begin{pmatrix}\n",
        "\\vec{B_1}\\cdot \\vec{A_1} & ... & \\vec{B_1}\\cdot \\vec{A_n}\\\\\n",
        "... & ... & ... \\\\\n",
        "\\vec{B_n}\\cdot \\vec{A_1} & ... & \\vec{B_n}\\cdot \\vec{A_n}\n",
        "\\end{pmatrix}$\n",
        "\n",
        "$\\therefore BA\\in\\mathbb{R}^{n\\times n}\\implies AB\\neq BA$"
      ],
      "metadata": {
        "id": "Wm4EUA0DM9Vd"
      }
    },
    {
      "cell_type": "markdown",
      "source": [
        "**Prove that: $\\vec{a}*\\vec{b}^T=\\vec{b}*\\vec{a}^T=\\vec{a}\\cdot\\vec{b}\\in \\mathbb{R}$**\n",
        "\n",
        "Given that\n",
        "* $\\vec{a},\\vec{b}\\in\\mathbb{R}^{n\\times1}\\implies\\vec{a}^T,\\vec{b}^T\\in\\mathbb{R}^{1\\times n}$\n",
        "\n",
        "According to matrix multiplication property: $\\{m\\times n \\text{ matrix}\\}*\\{n\\times k \\text{ matrix}\\} = \\{m\\times k \\text{ matrix}\\}$\n",
        "\n",
        "$\\therefore \\{1\\times n \\text{ matrix}\\}*\\{n\\times 1 \\text{ matrix}\\} = \\{1\\times 1 \\text{ matrix}\\}$\n",
        "\n",
        "$\\therefore \\vec{a}*\\vec{b}^T=\\vec{b}*\\vec{a}^T=\\vec{a}\\cdot\\vec{b}\\in \\mathbb{R}$\n",
        "\n",
        "reference: \n",
        "* https://math.stackexchange.com/questions/1853808/product-of-a-vector-and-its-transpose-projections"
      ],
      "metadata": {
        "id": "6Q49mk1de8-M"
      }
    },
    {
      "cell_type": "markdown",
      "source": [
        "**Warning: $\\vec{v}^T*\\vec{u}\\neq\\vec{v}\\cdot\\vec{u}$**\n",
        "\n",
        "Given that\n",
        "* $\\vec{v}=\\begin{pmatrix}\n",
        "v_1\\\\\n",
        "...\\\\\n",
        "v_n\n",
        "\\end{pmatrix}$\n",
        "* $\\vec{v}^T=\\begin{pmatrix}\n",
        "v_1&\n",
        "...&\n",
        "v_n\n",
        "\\end{pmatrix}$\n",
        "\n",
        "* $\\vec{u}=\\begin{pmatrix}\n",
        "u_1\\\\\n",
        "...\\\\\n",
        "u_n\n",
        "\\end{pmatrix}$\n",
        "\n",
        "$\\vec{v}\\cdot\\vec{u}=\\Sigma_{i=0}^nv_iu_i$\n",
        "\n",
        "$\\vec{v}^T*\\vec{u}=\\begin{pmatrix}\n",
        "u_1\\cdot v_1&...&u_1\\cdot v_n\\\\\n",
        "...&...&...\\\\\n",
        "u_n\\cdot v_1&...&u_n\\cdot v_n\n",
        "\\end{pmatrix}\\implies \\vec{v}\\cdot\\vec{u}\\neq\\vec{v}^T*\\vec{u}$\n",
        "\n",
        "reference: \n",
        "* https://www.facebook.com/photo/?fbid=1270919696801619&set=gm.1557918844650634&idorvanity=262423460866852"
      ],
      "metadata": {
        "id": "m_ZoTgsHM7Cz"
      }
    },
    {
      "cell_type": "markdown",
      "source": [
        "**Prove that $A*B\\neq B*A$**\n",
        "\n",
        "Given that\n",
        "* $A\\in\\mathbb{R}^{m\\times n}$\n",
        "* $B\\in\\mathbb{R}^{n\\times p}$\n",
        "* $A_i=(a_{i1},...,a_{in})$\n",
        "* $B_j=(a_{1j},...,a_{nj})$\n",
        "\n",
        "$A*B=(A_i\\cdot B_j)$\n",
        "\n",
        "$B*A=(A_i\\cdot B_j)$"
      ],
      "metadata": {
        "id": "6WwAceXepWhN"
      }
    },
    {
      "cell_type": "markdown",
      "source": [
        "**Dividing matrix by vector**\n",
        "\n",
        "* $A=\\begin{bmatrix}\n",
        "a_{1,1} & ... & a_{1,n}\\\\\n",
        "...&...&...\\\\\n",
        "a_{m,1} & ... & a_{m,n}\n",
        "\\end{bmatrix}=\\begin{bmatrix}\n",
        "\\vec{a_{1}}^T \\\\\n",
        "... \\\\\n",
        " \\vec{a_{m}}^T\n",
        "\\end{bmatrix}\\in\\mathbb{R}^{m\\times n}\\implies \\vec{a_{1}},...,\\vec{a_{m}}\\in\\mathbb{R}^{1\\times n}$\n",
        "* $\\vec{x}\\in\\mathbb{R}^{1\\times n}$\n",
        "\n",
        "$A\\vec{x}=\\begin{bmatrix}\n",
        "x_1*a_{1,1} + ... + x_n*a_{1,n}\\\\\n",
        "...\\\\\n",
        "x_1*a_{m,1} + ... + x_n*a_{m,n}\n",
        "\\end{bmatrix}=\\begin{bmatrix}\n",
        "\\vec{x}\\cdot\\vec{a}_1\\\\\n",
        "...\\\\\n",
        "\\vec{x}\\cdot\\vec{a}_m\\\\\n",
        "\\end{bmatrix}\\implies A\\vec{x}\\in\\mathbb{R}^{m\\times 1}$"
      ],
      "metadata": {
        "id": "xk8V8eFfU3lV"
      }
    },
    {
      "cell_type": "code",
      "source": [
        "n=10\n",
        "\n",
        "mx0= np.array([\n",
        "    dfM[2].head(n),\n",
        "    dfM[6].head(n),\n",
        "    dfM[7].head(n),\n",
        "    dfM[12].head(n)\n",
        "    ])\n",
        "\n",
        "mx1= np.array([\n",
        "    dfM[12].head(n),\n",
        "    dfM[13].head(n),\n",
        "    dfM[14].head(n),\n",
        "    dfM[24].head(n)\n",
        "    ])\n",
        "\n",
        "result = [[0,0,0,0],\n",
        "         [0,0,0,0],\n",
        "         [0,0,0,0]]\n",
        "\n",
        "mx1t=mx1.transpose()\n",
        "\n",
        "print(mx0)\n",
        "\n",
        "print(mx1t)\n",
        "\n",
        "answer=[]\n",
        "for row in range(len(mx0)):\n",
        "  result=0\n",
        "  #print(mx0[row])\n",
        "  for column in range(len(mx1t)):\n",
        "    result+=mx1t[column][row]*mx0[row][column]\n",
        "    #print(mx1t[column][row])\n",
        "    #print(mx0[row][column])\n",
        "  answer.append(result)\n",
        "\n",
        "print(answer)\n",
        "\n",
        "ans=np.array(answer)\n",
        "print(ans)"
      ],
      "metadata": {
        "colab": {
          "base_uri": "https://localhost:8080/"
        },
        "outputId": "d34345fa-f2a5-4227-f485-96275249b9c3",
        "id": "P7xtp3Uc0OPo"
      },
      "execution_count": null,
      "outputs": [
        {
          "output_type": "stream",
          "name": "stdout",
          "text": [
            "[[18 17 15 15 16 16 16 17 15 15]\n",
            " [ 4  1  1  4  3  4  2  4  3  3]\n",
            " [ 4  1  1  2  3  3  2  4  2  4]\n",
            " [ 2  1  1  1  1  1  1  2  1  1]]\n",
            "[[2 2 0 3]\n",
            " [1 2 0 3]\n",
            " [1 2 3 3]\n",
            " [1 3 0 2]\n",
            " [1 2 0 3]\n",
            " [1 2 0 4]\n",
            " [1 2 0 4]\n",
            " [2 2 0 1]\n",
            " [1 2 0 2]\n",
            " [1 2 0 5]]\n",
            "[195, 62, 3, 34]\n",
            "[195  62   3  34]\n"
          ]
        }
      ]
    },
    {
      "cell_type": "markdown",
      "source": [
        "reference:\n",
        "* https://youtu.be/fRv3-LnEUjg"
      ],
      "metadata": {
        "id": "ZKZyPbVx-Lkp"
      }
    },
    {
      "cell_type": "markdown",
      "source": [
        "###Bonue No.3: T-Test"
      ],
      "metadata": {
        "id": "XClp-AqduZww"
      }
    },
    {
      "cell_type": "code",
      "source": [
        "def HypothesisFunction(x1,h0,h1):\n",
        "  return 1/(1+np.exp(-(x1*h1+h0)))\n",
        "\n",
        "def EvaluationFunction(data,ind_x,ind_y,h0=0,h1=0):\n",
        "  num=0\n",
        "  for i in range(data.shape[0]):\n",
        "    num-=data.iat[i,ind_y]*np.emath.log(HypothesisFunction(data.iat[i,ind_x],h0,h1))+(1-data.iat[i,ind_y])*np.emath.log(1-HypothesisFunction(data.iat[i,ind_x],h0,h1))\n",
        "  num*=(1/data.shape[0])\n",
        "  return num\n",
        "\n",
        "plt.grid()\n",
        "\n",
        "# The Data\n",
        "plt.xlabel(ColumnNameY)\n",
        "plt.ylabel(ColumnNameX)\n",
        "plt.scatter(dfmain[ColumnNameY], dfmain[ColumnNameX])\n",
        "\n",
        "# The mean of the data\n",
        "line=np.arange(-0.1,1.1,0.1)\n",
        "print(dfmain[ColumnNameY].mean())\n",
        "plt.plot(line,(line/line)*dfmain[ColumnNameY].mean(),color='blue')\n",
        "print(dfmain[ColumnNameX].mean())\n",
        "plt.plot(line,(line/line)*dfmain[ColumnNameX].mean(),color='red')\n",
        "\n",
        "plt.show()"
      ],
      "metadata": {
        "colab": {
          "base_uri": "https://localhost:8080/",
          "height": 386
        },
        "outputId": "4472b1fa-154e-4a03-cabf-ef2408968ae5",
        "id": "MePfX74Ex8zc"
      },
      "execution_count": null,
      "outputs": [
        {
          "output_type": "stream",
          "name": "stdout",
          "text": [
            "[0.94936709]\n",
            "10.415189873417722\n"
          ]
        },
        {
          "output_type": "stream",
          "name": "stderr",
          "text": [
            "<ipython-input-16-935c68ba75af>:21: RuntimeWarning: invalid value encountered in true_divide\n",
            "  plt.plot(line,(line/line)*dfmain[ColumnNameY].mean(),color='blue')\n",
            "<ipython-input-16-935c68ba75af>:23: RuntimeWarning: invalid value encountered in true_divide\n",
            "  plt.plot(line,(line/line)*dfmain[ColumnNameX].mean(),color='red')\n"
          ]
        },
        {
          "output_type": "display_data",
          "data": {
            "text/plain": [
              "<Figure size 432x288 with 1 Axes>"
            ],
            "image/png": "[encoded data removed]"
          },
          "metadata": {
            "needs_background": "light"
          }
        }
      ]
    },
    {
      "cell_type": "markdown",
      "source": [
        "**What is T Test?**\n",
        "* A statistical test that is used to compare the means of two groups.\n",
        "\n",
        "**T Test Formula:** $y_{\\text{test}}=\\text{mean}_{0}*B_0+(\\text{mean}_{1}-\\text{mean}_{0})*B_1=\\text{mean}_{0}*B_0+\\Delta\\text{mean}*B_1$\n",
        "\n",
        "* $y_{\\text{test}}=$ T Test result\n",
        "* $\\text{mean}_0=$ average value of $y$ when $x=0$\n",
        "* $\\text{mean}_1=$ average value of $y$ when $x=1$\n",
        "* $B_0=$ coefficient that turn on $\\text{mean}_{0}$\n",
        "* $B_1=$ coefficient that turn off or on $\\text{mean}_{1}$ depending on the data\n",
        "\n",
        "**Note**\n",
        "* The blue line = $\\text{mean}_0$\n",
        "* The red line = $\\text{mean}_1=\\text{mean}_0+\\Delta\\text{mean}*B_1$\n",
        "\n",
        "**T Test in Matrix Form**\n",
        "* The data can be represented as matrix\n",
        "* $y_{\\text{test}}=\\begin{bmatrix}\n",
        "\\text{mean}_{0}*\\vec{B_0} & (\\text{mean}_{1}-\\text{mean}_{0})*\\vec{B_1}\\\\\n",
        "\\end{bmatrix}\\in\\mathbb{R}^{m\\times2}$\n",
        "* $\\vec{B_0},\\vec{B_1}\\in\\mathbb{R}^m,m=$ number of all data $\\in\\mathbb{Z}^+$\n",
        "\n",
        "**Why doing this?**\n",
        "* We are testing if $\\text{mean}_{1}-\\text{mean}_{0}=0$ or not?\n",
        "* If $\\text{mean}_{1}-\\text{mean}_{0}=0\\implies$ your data matches the null hypothesis and there are no irregularities found.\n",
        "* null hypothesis = The hypothesis that there is no significant difference between specified populations, any observed difference being due to sampling or experimental error."
      ],
      "metadata": {
        "id": "9WD1BDeypg0o"
      }
    },
    {
      "cell_type": "markdown",
      "source": [
        "**Here is the Python implementation**"
      ],
      "metadata": {
        "id": "magtLQ66G5BH"
      }
    },
    {
      "cell_type": "code",
      "source": [
        "print()"
      ],
      "metadata": {
        "id": "O1tInmfyG9U5"
      },
      "execution_count": null,
      "outputs": []
    },
    {
      "cell_type": "markdown",
      "source": [
        "###Reference:\n",
        "* https://www.coursera.org/learn/machine-learning-course/lecture/wlPeP/classification\n",
        "* https://towardsdatascience.com/logistic-regression-detailed-overview-46c4da4303bc\n",
        "* https://youtu.be/yIYKR4sgzI8\n",
        "* https://realpython.com/logistic-regression-python/"
      ],
      "metadata": {
        "id": "I-gUGF5wrsnK"
      }
    }
  ]
}